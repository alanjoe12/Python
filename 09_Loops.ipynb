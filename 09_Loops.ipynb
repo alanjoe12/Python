{
  "nbformat": 4,
  "nbformat_minor": 0,
  "metadata": {
    "kernelspec": {
      "display_name": "Python 3",
      "language": "python",
      "name": "python3"
    },
    "language_info": {
      "codemirror_mode": {
        "name": "ipython",
        "version": 3
      },
      "file_extension": ".py",
      "mimetype": "text/x-python",
      "name": "python",
      "nbconvert_exporter": "python",
      "pygments_lexer": "ipython3",
      "version": "3.8.3"
    },
    "colab": {
      "name": "09 - Loops.ipynb",
      "provenance": [],
      "collapsed_sections": []
    }
  },
  "cells": [
    {
      "cell_type": "markdown",
      "metadata": {
        "id": "95SMoJNr0eV3"
      },
      "source": [
        "# LOOPS\n",
        "The purpose of loops is to repeat the same, or similar, code a number of times. This number of times could be specified to a certain number, or the number of times could be dictated by a certain condition being met\n",
        "\n",
        "There are 2 types of Loops \n",
        "* 1) While Loops\n",
        "* 2) For loops"
      ]
    },
    {
      "cell_type": "code",
      "metadata": {
        "id": "4i9SaPcu0eV_",
        "outputId": "f0f9c743-80f3-4c93-df1f-c58ea3d43837"
      },
      "source": [
        "print(1)\n",
        "print(2)\n",
        "print(3)\n",
        "print(4)\n",
        "print(5)\n",
        "print(6)\n",
        "print(7)\n",
        "print(8)\n",
        "print(9)\n",
        "print(10)"
      ],
      "execution_count": null,
      "outputs": [
        {
          "name": "stdout",
          "output_type": "stream",
          "text": [
            "1\n",
            "2\n",
            "3\n",
            "4\n",
            "5\n",
            "6\n",
            "7\n",
            "8\n",
            "9\n",
            "10\n"
          ]
        }
      ]
    },
    {
      "cell_type": "markdown",
      "metadata": {
        "id": "YLXRVYhm0eWE"
      },
      "source": [
        "## While loops"
      ]
    },
    {
      "cell_type": "code",
      "metadata": {
        "id": "hvCJpzOL0eWF"
      },
      "source": [
        "\"\"\"\n",
        "syntax\n",
        "\n",
        "while(condition/s):\n",
        "    statement1\n",
        "    statement2\n",
        "    ..........\n",
        "\"\"\""
      ],
      "execution_count": null,
      "outputs": []
    },
    {
      "cell_type": "code",
      "metadata": {
        "id": "S56LVACx0eWG",
        "outputId": "642aa555-174d-4f72-efaf-2f092d585927"
      },
      "source": [
        "# ex1)\n",
        "count = 1\n",
        "while(count<11):\n",
        "    print(count)\n",
        "    count = count + 1"
      ],
      "execution_count": null,
      "outputs": [
        {
          "name": "stdout",
          "output_type": "stream",
          "text": [
            "1\n",
            "2\n",
            "3\n",
            "4\n",
            "5\n",
            "6\n",
            "7\n",
            "8\n",
            "9\n",
            "10\n"
          ]
        }
      ]
    },
    {
      "cell_type": "markdown",
      "metadata": {
        "id": "PYnMP7wY0eWH"
      },
      "source": [
        "## while - else\n",
        "if you want to know your while loop has finished its execution and you want to do some operations then you can make use of \"else\""
      ]
    },
    {
      "cell_type": "code",
      "metadata": {
        "id": "cOxL_RcK0eWI",
        "outputId": "23757a87-6f41-4135-93e9-1d54cdb03ff8"
      },
      "source": [
        "#ex2) \n",
        "count = 1\n",
        "while(count<11):\n",
        "    print(count)\n",
        "    count = count + 1\n",
        "else:\n",
        "    print(\"End of while loop\")\n",
        "    print(count)"
      ],
      "execution_count": null,
      "outputs": [
        {
          "name": "stdout",
          "output_type": "stream",
          "text": [
            "1\n",
            "2\n",
            "3\n",
            "4\n",
            "5\n",
            "6\n",
            "7\n",
            "8\n",
            "9\n",
            "10\n",
            "End of while loop\n",
            "11\n"
          ]
        }
      ]
    },
    {
      "cell_type": "markdown",
      "metadata": {
        "id": "k3nak1Pc0eWJ"
      },
      "source": [
        "## break\n",
        "break keyword is used to break out of the loop or come out of the loop"
      ]
    },
    {
      "cell_type": "code",
      "metadata": {
        "id": "hL9GPHmB0eWL",
        "outputId": "fc277bbc-f0ff-4863-8e71-87e1ab7eca41"
      },
      "source": [
        "# if count has reached 5 then break\n",
        "count = 1\n",
        "while(count<11):\n",
        "    if(count == 5):\n",
        "        print(count)\n",
        "        break\n",
        "    else:\n",
        "        print(count)\n",
        "        count = count + 1"
      ],
      "execution_count": null,
      "outputs": [
        {
          "name": "stdout",
          "output_type": "stream",
          "text": [
            "1\n",
            "2\n",
            "3\n",
            "4\n",
            "5\n"
          ]
        }
      ]
    },
    {
      "cell_type": "markdown",
      "metadata": {
        "id": "U8UKRLzI0eWM"
      },
      "source": [
        "### continue\n",
        "continue keyword takes the execution to the begining of the loop.\n",
        "In other word it skips that perticular iteration"
      ]
    },
    {
      "cell_type": "code",
      "metadata": {
        "id": "f4uAwMTv0eWO",
        "outputId": "af4e177f-5997-4408-917f-561b949df83b"
      },
      "source": [
        "# print only odd numbers\n",
        "count = 0\n",
        "while(count<11):\n",
        "    count = count + 1\n",
        "    if(count%2 == 0):\n",
        "        continue\n",
        "    print(count)"
      ],
      "execution_count": null,
      "outputs": [
        {
          "name": "stdout",
          "output_type": "stream",
          "text": [
            "1\n",
            "3\n",
            "5\n",
            "7\n",
            "9\n",
            "11\n"
          ]
        }
      ]
    },
    {
      "cell_type": "markdown",
      "metadata": {
        "id": "VIb1oL1V0eWP"
      },
      "source": [
        "## For loops\n",
        "* For loops are basically used to loop over a sequence.\n",
        "* Sequence can be anything like strings,Lists,Tuples,Dictionaries,Sets etc"
      ]
    },
    {
      "cell_type": "code",
      "metadata": {
        "id": "SMOJ7KT10eWQ"
      },
      "source": [
        "\"\"\"\n",
        "syntax\n",
        "\n",
        "for item in seq:\n",
        "    statements....\n",
        "\"\"\""
      ],
      "execution_count": null,
      "outputs": []
    },
    {
      "cell_type": "code",
      "metadata": {
        "id": "tjsDJjWd0eWR",
        "outputId": "8e2bfc56-07f1-4a9d-d12d-bf7ffc59fe45"
      },
      "source": [
        "# looping over the strings\n",
        "str1 = \"abcde\"\n",
        "\n",
        "for item in str1:\n",
        "    print(item)"
      ],
      "execution_count": null,
      "outputs": [
        {
          "name": "stdout",
          "output_type": "stream",
          "text": [
            "a\n",
            "b\n",
            "c\n",
            "d\n",
            "e\n"
          ]
        }
      ]
    },
    {
      "cell_type": "code",
      "metadata": {
        "id": "AbpH5Ppk0eWS",
        "outputId": "e0797f43-cd3d-4370-e027-597460b911b3"
      },
      "source": [
        "# looping over lists\n",
        "\n",
        "list1 = [1,2,3,4,5]\n",
        "\n",
        "for item in list1:\n",
        "    print(item)\n"
      ],
      "execution_count": null,
      "outputs": [
        {
          "name": "stdout",
          "output_type": "stream",
          "text": [
            "1\n",
            "2\n",
            "3\n",
            "4\n",
            "5\n"
          ]
        }
      ]
    },
    {
      "cell_type": "markdown",
      "metadata": {
        "id": "XLe1vjG90eWV"
      },
      "source": [
        "### range(start,stop,step)\n",
        "* The range() function is used to generate a sequence of numbers over time"
      ]
    },
    {
      "cell_type": "code",
      "metadata": {
        "id": "2dSeHw-10eWW"
      },
      "source": [
        "# start = starting position (default value is 0)\n",
        "# stop = end position(exclusive) (default value is end position)\n",
        "# step = step size or increment size (default value is 1)\n",
        "\n",
        "# range(10) -> 10 is the stop parameter\n",
        "# range(1,10) -> 1 is start,10 is stop\n",
        "# range(1,10,2) -> 1 is start,10 is stop,2 is step"
      ],
      "execution_count": null,
      "outputs": []
    },
    {
      "cell_type": "code",
      "metadata": {
        "id": "JGWDbniA0eWX",
        "outputId": "0fb707a0-863f-41c0-e9b9-cc524cb1c8c3"
      },
      "source": [
        "for i in range(11):\n",
        "    print(i)"
      ],
      "execution_count": null,
      "outputs": [
        {
          "name": "stdout",
          "output_type": "stream",
          "text": [
            "0\n",
            "1\n",
            "2\n",
            "3\n",
            "4\n",
            "5\n",
            "6\n",
            "7\n",
            "8\n",
            "9\n",
            "10\n"
          ]
        }
      ]
    },
    {
      "cell_type": "code",
      "metadata": {
        "id": "NGZO67BX0eWY",
        "outputId": "1e18198f-e2b9-4cf5-d117-f89b5903edaa"
      },
      "source": [
        "for i in range(1,10):\n",
        "    print(i)"
      ],
      "execution_count": null,
      "outputs": [
        {
          "name": "stdout",
          "output_type": "stream",
          "text": [
            "1\n",
            "2\n",
            "3\n",
            "4\n",
            "5\n",
            "6\n",
            "7\n",
            "8\n",
            "9\n"
          ]
        }
      ]
    },
    {
      "cell_type": "code",
      "metadata": {
        "id": "n1z3Mkrg0eWZ",
        "outputId": "f3405cd9-0c4a-4b05-bdc6-d6bd76b2467a"
      },
      "source": [
        "for i in range(1,10,2):\n",
        "    print(i)"
      ],
      "execution_count": null,
      "outputs": [
        {
          "name": "stdout",
          "output_type": "stream",
          "text": [
            "1\n",
            "3\n",
            "5\n",
            "7\n",
            "9\n"
          ]
        }
      ]
    },
    {
      "cell_type": "code",
      "metadata": {
        "id": "qvhvkUu80eWa",
        "outputId": "23dfc8fa-1235-43f7-f407-4cf4e758ee7c"
      },
      "source": [
        "#looping in reverse order from 10 to 1\n",
        "for i in range(10,0,-1):\n",
        "    print(i)\n",
        "  "
      ],
      "execution_count": null,
      "outputs": [
        {
          "name": "stdout",
          "output_type": "stream",
          "text": [
            "10\n",
            "9\n",
            "8\n",
            "7\n",
            "6\n",
            "5\n",
            "4\n",
            "3\n",
            "2\n",
            "1\n"
          ]
        }
      ]
    },
    {
      "cell_type": "code",
      "metadata": {
        "id": "oOeLCznZ0eWb",
        "outputId": "46a039c6-fc81-4cb8-cea1-1008cefa169a"
      },
      "source": [
        "# using break in for loops\n",
        "for i in range(10):\n",
        "    if ( i == 7):\n",
        "        break\n",
        "    print(i)"
      ],
      "execution_count": null,
      "outputs": [
        {
          "name": "stdout",
          "output_type": "stream",
          "text": [
            "0\n",
            "1\n",
            "2\n",
            "3\n",
            "4\n",
            "5\n",
            "6\n"
          ]
        }
      ]
    },
    {
      "cell_type": "code",
      "metadata": {
        "id": "uqGK5do80eWc"
      },
      "source": [
        "# using continue in for loops\n",
        "# say you dont want to print 4,5,6\n",
        "for i in range(10):\n",
        "    if(i==4 or i == 5 or i == 6):\n",
        "        continue\n",
        "    print(i)\n"
      ],
      "execution_count": null,
      "outputs": []
    },
    {
      "cell_type": "markdown",
      "metadata": {
        "id": "vj18v9cz0eWe"
      },
      "source": [
        "## pass\n",
        "pass keyword does nothing but you can avoid getting an error when empty code is not allowed. Empty code is not allowed in loops,if else conditions,functions,Classes etc"
      ]
    },
    {
      "cell_type": "code",
      "metadata": {
        "id": "JQSbc4Y-0eWe"
      },
      "source": [
        "if(4>2):\n",
        "    pass"
      ],
      "execution_count": 3,
      "outputs": []
    },
    {
      "cell_type": "code",
      "metadata": {
        "colab": {
          "base_uri": "https://localhost:8080/"
        },
        "id": "ZM4F_DmM0eWf",
        "outputId": "ea0e9662-b10e-421d-9b92-bfdf7aea27f3"
      },
      "source": [
        "if(4>2):\n",
        "    print(\"A\")\n",
        "else:\n",
        "    pass\n"
      ],
      "execution_count": 4,
      "outputs": [
        {
          "output_type": "stream",
          "name": "stdout",
          "text": [
            "A\n"
          ]
        }
      ]
    },
    {
      "cell_type": "code",
      "metadata": {
        "id": "pfjo7szg0eWg"
      },
      "source": [
        "for i in range(10):\n",
        "    pass"
      ],
      "execution_count": 5,
      "outputs": []
    },
    {
      "cell_type": "markdown",
      "metadata": {
        "id": "AXdAYhmq0eWg"
      },
      "source": [
        "### Task 10.1 = what is the uasge of continue wiith an example. "
      ]
    },
    {
      "cell_type": "markdown",
      "metadata": {
        "id": "wkpc5Fyj02_d"
      },
      "source": [
        "what is the uasge of continue\n",
        "The continue statement in Python returns the control to the beginning of the while loop. The continue statement rejects all the remaining statements in the current iteration of the loop and moves the control back to the top of the loop.\n",
        "\n",
        "The continue statement can be used in both while and for loops."
      ]
    },
    {
      "cell_type": "code",
      "metadata": {
        "colab": {
          "base_uri": "https://localhost:8080/"
        },
        "id": "DSiyPX7u2cJD",
        "outputId": "842ff144-4030-4bf9-c0d8-b4eaf4b1c63e"
      },
      "source": [
        "#continue wiith an example\n",
        "for i in range(15):\n",
        "  if i== 5:\n",
        "    continue\n",
        "  print(i)"
      ],
      "execution_count": 2,
      "outputs": [
        {
          "output_type": "stream",
          "name": "stdout",
          "text": [
            "0\n",
            "1\n",
            "2\n",
            "3\n",
            "4\n",
            "6\n",
            "7\n",
            "8\n",
            "9\n",
            "10\n",
            "11\n",
            "12\n",
            "13\n",
            "14\n"
          ]
        }
      ]
    },
    {
      "cell_type": "markdown",
      "metadata": {
        "id": "PRhBoT8v0eWh"
      },
      "source": [
        "### Task 10.2 What is pass keyword, with example."
      ]
    },
    {
      "cell_type": "markdown",
      "metadata": {
        "id": "Jp4VkS3L32Ei"
      },
      "source": [
        "What is pass keyword, with example.\n",
        "the pass keyword is used to execute nothing; it means, when we don't want to execute code, the pass can be used to execute empty. It is the same as the name refers to. It just makes the control to pass by without executing any code. If we want to bypass any code pass statement can be used."
      ]
    },
    {
      "cell_type": "code",
      "metadata": {
        "id": "TQqzEoam4fYX"
      },
      "source": [
        "for x in [0, 1, 2]:\n",
        "  pass"
      ],
      "execution_count": 6,
      "outputs": []
    },
    {
      "cell_type": "markdown",
      "metadata": {
        "id": "kf_1qjrT0eWh"
      },
      "source": [
        "### Task10\n",
        "* using **while loop** print numbers from 10 to 1\n",
        "* try using **for loop** to loop over tuples,sets and dictionaries"
      ]
    },
    {
      "cell_type": "markdown",
      "metadata": {
        "id": "Ys6T4FvO4pXj"
      },
      "source": [
        "**using while loop print numbers from 10 to 1**"
      ]
    },
    {
      "cell_type": "code",
      "metadata": {
        "colab": {
          "base_uri": "https://localhost:8080/"
        },
        "id": "RpdeX4Uc4y9M",
        "outputId": "ab56fe54-16e4-4409-e180-0b0a7985a457"
      },
      "source": [
        "a = 10\n",
        "while a>0:\n",
        "  print(a)\n",
        "  a = a-1"
      ],
      "execution_count": 14,
      "outputs": [
        {
          "output_type": "stream",
          "name": "stdout",
          "text": [
            "10\n",
            "9\n",
            "8\n",
            "7\n",
            "6\n",
            "5\n",
            "4\n",
            "3\n",
            "2\n",
            "1\n"
          ]
        }
      ]
    },
    {
      "cell_type": "markdown",
      "metadata": {
        "id": "ZjYpIdIb5brR"
      },
      "source": [
        "**try using for loop to loop over tuples,sets and dictionaries**"
      ]
    },
    {
      "cell_type": "markdown",
      "metadata": {
        "id": "NsPVvYZk5syQ"
      },
      "source": [
        "tuple"
      ]
    },
    {
      "cell_type": "code",
      "metadata": {
        "colab": {
          "base_uri": "https://localhost:8080/"
        },
        "id": "oS1b4oAU5g0W",
        "outputId": "a262db75-d206-4316-e70f-0e10f38ef421"
      },
      "source": [
        "tup1 = (1,3,5,\"alan\",\"raju\")\n",
        "for a in tup1:\n",
        "  print(a)"
      ],
      "execution_count": 18,
      "outputs": [
        {
          "output_type": "stream",
          "name": "stdout",
          "text": [
            "1\n",
            "3\n",
            "5\n",
            "alan\n",
            "raju\n"
          ]
        }
      ]
    },
    {
      "cell_type": "code",
      "metadata": {
        "colab": {
          "base_uri": "https://localhost:8080/"
        },
        "id": "Oh1MsgnV6KQp",
        "outputId": "991ec6b7-2655-462e-c9e3-46e89464e928"
      },
      "source": [
        "tup2 = (\"alan\")\n",
        "for b in tup2:\n",
        "  print(b)"
      ],
      "execution_count": 19,
      "outputs": [
        {
          "output_type": "stream",
          "name": "stdout",
          "text": [
            "a\n",
            "l\n",
            "a\n",
            "n\n"
          ]
        }
      ]
    },
    {
      "cell_type": "markdown",
      "metadata": {
        "id": "rPYMMlbg6tf8"
      },
      "source": [
        "set"
      ]
    },
    {
      "cell_type": "code",
      "metadata": {
        "colab": {
          "base_uri": "https://localhost:8080/"
        },
        "id": "bDep1noQ6vbB",
        "outputId": "8d28976c-2507-4c4d-e0e6-380e213d18e1"
      },
      "source": [
        "set1 = {1,2,3,4,5,6}\n",
        "for c in set1:\n",
        "  print(c)"
      ],
      "execution_count": 21,
      "outputs": [
        {
          "output_type": "stream",
          "name": "stdout",
          "text": [
            "1\n",
            "2\n",
            "3\n",
            "4\n",
            "5\n",
            "6\n"
          ]
        }
      ]
    },
    {
      "cell_type": "code",
      "metadata": {
        "colab": {
          "base_uri": "https://localhost:8080/"
        },
        "id": "UXcYdpY_7FUz",
        "outputId": "418c65cc-668c-4ca9-b617-354823b46b2f"
      },
      "source": [
        "set2 = {\"alan\"}\n",
        "for d in set2:\n",
        "  print(d)"
      ],
      "execution_count": 22,
      "outputs": [
        {
          "output_type": "stream",
          "name": "stdout",
          "text": [
            "alan\n"
          ]
        }
      ]
    },
    {
      "cell_type": "markdown",
      "metadata": {
        "id": "ZhNlI8-a7UQv"
      },
      "source": [
        "dictionaries"
      ]
    },
    {
      "cell_type": "code",
      "metadata": {
        "colab": {
          "base_uri": "https://localhost:8080/"
        },
        "id": "O_oa50GS7V6n",
        "outputId": "f9fa2f2b-ff63-4a16-efb8-8282bc6430fb"
      },
      "source": [
        "dict1 = {\"name\" : \"alan\",\"class\" : 12}\n",
        "for e in dict1:\n",
        "  print(e)\n"
      ],
      "execution_count": 23,
      "outputs": [
        {
          "output_type": "stream",
          "name": "stdout",
          "text": [
            "name\n",
            "class\n"
          ]
        }
      ]
    },
    {
      "cell_type": "code",
      "metadata": {
        "colab": {
          "base_uri": "https://localhost:8080/"
        },
        "id": "MSX7Xas477ko",
        "outputId": "cce9d377-7d93-40a6-f12f-4abdb6d36241"
      },
      "source": [
        "dict2 = {\"name\" : \"alan\",\"class\" : 12}\n",
        "for f in dict2.values():\n",
        "  print(f)\n"
      ],
      "execution_count": 26,
      "outputs": [
        {
          "output_type": "stream",
          "name": "stdout",
          "text": [
            "alan\n",
            "12\n"
          ]
        }
      ]
    }
  ]
}