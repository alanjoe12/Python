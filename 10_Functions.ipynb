{
  "nbformat": 4,
  "nbformat_minor": 0,
  "metadata": {
    "kernelspec": {
      "display_name": "Python 3",
      "language": "python",
      "name": "python3"
    },
    "language_info": {
      "codemirror_mode": {
        "name": "ipython",
        "version": 3
      },
      "file_extension": ".py",
      "mimetype": "text/x-python",
      "name": "python",
      "nbconvert_exporter": "python",
      "pygments_lexer": "ipython3",
      "version": "3.8.3"
    },
    "colab": {
      "name": "10 - Functions.ipynb",
      "provenance": [],
      "collapsed_sections": []
    }
  },
  "cells": [
    {
      "cell_type": "markdown",
      "metadata": {
        "id": "nxz2fc5DZC-L"
      },
      "source": [
        "# FUNCTIONS\n",
        "Functions are the block of reusable code that will execute only when it is called."
      ]
    },
    {
      "cell_type": "code",
      "metadata": {
        "id": "D2hee7kWZC-l"
      },
      "source": [
        "# syntax\n",
        "\"\"\"\n",
        "def function_name():\n",
        "    statement 1\n",
        "    statement 2\n",
        "    ...\n",
        "    ...\n",
        "    ...\n",
        "    statement n\n",
        "\"\"\""
      ],
      "execution_count": null,
      "outputs": []
    },
    {
      "cell_type": "code",
      "metadata": {
        "id": "mYAJI3VDZC-t"
      },
      "source": [
        "# defining the function\n",
        "def my_func():\n",
        "    print(\"hello\")\n",
        "    print(\"I am a function\")\n",
        "    print(\"I will execute only when i get called\")\n",
        "    "
      ],
      "execution_count": null,
      "outputs": []
    },
    {
      "cell_type": "code",
      "metadata": {
        "id": "2phxRiyDZC-x",
        "outputId": "0e1dbee9-e38f-4d9c-e58c-5a22fde1cc3f"
      },
      "source": [
        "# calling the function\n",
        "my_func()"
      ],
      "execution_count": null,
      "outputs": [
        {
          "name": "stdout",
          "output_type": "stream",
          "text": [
            "hello\n",
            "I am a function\n",
            "I will execute only when i get called\n"
          ]
        }
      ]
    },
    {
      "cell_type": "code",
      "metadata": {
        "id": "cCHlyatkZC-2"
      },
      "source": [
        "#Ex2) Adding two numbers\n",
        "def add():\n",
        "    x = 10\n",
        "    y = 20\n",
        "    z = x + y\n",
        "    print(z)"
      ],
      "execution_count": null,
      "outputs": []
    },
    {
      "cell_type": "code",
      "metadata": {
        "id": "QYxDmc3uZC-5",
        "outputId": "cb355a88-4a9e-4658-9bad-781f7b1ecdd1"
      },
      "source": [
        "add()"
      ],
      "execution_count": null,
      "outputs": [
        {
          "name": "stdout",
          "output_type": "stream",
          "text": [
            "30\n"
          ]
        }
      ]
    },
    {
      "cell_type": "markdown",
      "metadata": {
        "id": "MjHFuwhPZC-8"
      },
      "source": [
        "#### Passing parameters/arguments to function"
      ]
    },
    {
      "cell_type": "code",
      "metadata": {
        "id": "GLutqtxoZC_A"
      },
      "source": [
        "#Ex1)you can pass numbers\n",
        "def add(x,y):\n",
        "    z = x + y\n",
        "    print(z)"
      ],
      "execution_count": null,
      "outputs": []
    },
    {
      "cell_type": "code",
      "metadata": {
        "id": "CPx6lDoMZC_E",
        "outputId": "8521bbb9-b544-43cd-9f66-74826294a295"
      },
      "source": [
        "add(10,20)"
      ],
      "execution_count": null,
      "outputs": [
        {
          "name": "stdout",
          "output_type": "stream",
          "text": [
            "30\n"
          ]
        }
      ]
    },
    {
      "cell_type": "code",
      "metadata": {
        "id": "K0KW6EOEZC_J"
      },
      "source": [
        "#Ex2) you can pass strings\n",
        "def func(name):\n",
        "    print(\"Hello {}\".format(name))"
      ],
      "execution_count": null,
      "outputs": []
    },
    {
      "cell_type": "code",
      "metadata": {
        "id": "Icw60W-BZC_M",
        "outputId": "86d9a561-a601-4668-cb2f-4f90196e0e2a"
      },
      "source": [
        "func(\"Himanshu\")"
      ],
      "execution_count": null,
      "outputs": [
        {
          "name": "stdout",
          "output_type": "stream",
          "text": [
            "Hello Himanshu\n"
          ]
        }
      ]
    },
    {
      "cell_type": "code",
      "metadata": {
        "id": "8B0cz0m5ZC_Q"
      },
      "source": [
        "# Ex3) you can pass lists\n",
        "def func(list1):\n",
        "    for i in list1:\n",
        "        print(i)"
      ],
      "execution_count": null,
      "outputs": []
    },
    {
      "cell_type": "code",
      "metadata": {
        "id": "O_bvHsEtZC_S",
        "outputId": "d75836bf-fd5b-4052-9125-ae218f731ee4"
      },
      "source": [
        "func([1,2,3,4,5])"
      ],
      "execution_count": null,
      "outputs": [
        {
          "name": "stdout",
          "output_type": "stream",
          "text": [
            "1\n",
            "2\n",
            "3\n",
            "4\n",
            "5\n"
          ]
        }
      ]
    },
    {
      "cell_type": "markdown",
      "metadata": {
        "id": "PpqcdXM8ZC_U"
      },
      "source": [
        "#### return keyword\n",
        "* **return** keyword can be used to return values from a function\n",
        "* it can be used to end the execution of a function\n",
        "* statements below **return** keyword will not get executed"
      ]
    },
    {
      "cell_type": "code",
      "metadata": {
        "id": "ljwRzYDWZC_X"
      },
      "source": [
        "# Ex1) returning sum\n",
        "def add(x,y):\n",
        "    z = x + y\n",
        "    return z\n",
        "    print(z) #will not be executed"
      ],
      "execution_count": null,
      "outputs": []
    },
    {
      "cell_type": "code",
      "metadata": {
        "id": "x3tBoe98ZC_Y",
        "outputId": "98b24ac8-063f-4e80-fd59-35bff217b851"
      },
      "source": [
        "my_sum = add(10,20)\n",
        "my_sum + 10"
      ],
      "execution_count": null,
      "outputs": [
        {
          "data": {
            "text/plain": [
              "40"
            ]
          },
          "execution_count": 12,
          "metadata": {},
          "output_type": "execute_result"
        }
      ]
    },
    {
      "cell_type": "code",
      "metadata": {
        "id": "R29BLH6fZC_a"
      },
      "source": [
        "# Ex2) returning product\n",
        "def product(x,y):\n",
        "    z = x * y\n",
        "    return z\n",
        "    print(z) #will not execute"
      ],
      "execution_count": null,
      "outputs": []
    },
    {
      "cell_type": "code",
      "metadata": {
        "id": "n23EZhAMZC_b",
        "outputId": "82fdd215-d5c4-4aa5-9d60-7781913bd66d"
      },
      "source": [
        "my_num = product(10,2)\n",
        "my_num"
      ],
      "execution_count": null,
      "outputs": [
        {
          "data": {
            "text/plain": [
              "20"
            ]
          },
          "execution_count": 14,
          "metadata": {},
          "output_type": "execute_result"
        }
      ]
    },
    {
      "cell_type": "markdown",
      "metadata": {
        "id": "_BdDsd-dZC_c"
      },
      "source": [
        "#### default values\n",
        "* to initialize the parameters with default values in order to avoid the errors"
      ]
    },
    {
      "cell_type": "code",
      "metadata": {
        "id": "VjBOvtwvZC_e"
      },
      "source": [
        "#Without default values\n",
        "def add(x,y,z):\n",
        "    my_num = x + y + z\n",
        "    print(my_num)"
      ],
      "execution_count": null,
      "outputs": []
    },
    {
      "cell_type": "code",
      "metadata": {
        "id": "9miFyZU5ZC_f",
        "outputId": "e15b8d50-0f26-4ebb-ce1e-b868859edbf0"
      },
      "source": [
        "# when value is passed\n",
        "add(10,20,30)"
      ],
      "execution_count": null,
      "outputs": [
        {
          "name": "stdout",
          "output_type": "stream",
          "text": [
            "60\n"
          ]
        }
      ]
    },
    {
      "cell_type": "code",
      "metadata": {
        "id": "dOhZplCIZC_g",
        "outputId": "615fff15-bc32-487e-8117-e8af132acedf"
      },
      "source": [
        "# when value is not passed\n",
        "add(10,20) #ERROR"
      ],
      "execution_count": null,
      "outputs": [
        {
          "ename": "TypeError",
          "evalue": "add() missing 1 required positional argument: 'z'",
          "output_type": "error",
          "traceback": [
            "\u001b[1;31m---------------------------------------------------------------------------\u001b[0m",
            "\u001b[1;31mTypeError\u001b[0m                                 Traceback (most recent call last)",
            "\u001b[1;32m<ipython-input-17-db362d118943>\u001b[0m in \u001b[0;36m<module>\u001b[1;34m\u001b[0m\n\u001b[0;32m      1\u001b[0m \u001b[1;31m# when value is not passed\u001b[0m\u001b[1;33m\u001b[0m\u001b[1;33m\u001b[0m\u001b[1;33m\u001b[0m\u001b[0m\n\u001b[1;32m----> 2\u001b[1;33m \u001b[0madd\u001b[0m\u001b[1;33m(\u001b[0m\u001b[1;36m10\u001b[0m\u001b[1;33m,\u001b[0m\u001b[1;36m20\u001b[0m\u001b[1;33m)\u001b[0m \u001b[1;31m#ERROR\u001b[0m\u001b[1;33m\u001b[0m\u001b[1;33m\u001b[0m\u001b[0m\n\u001b[0m",
            "\u001b[1;31mTypeError\u001b[0m: add() missing 1 required positional argument: 'z'"
          ]
        }
      ]
    },
    {
      "cell_type": "code",
      "metadata": {
        "id": "CfNUxi2sZC_i"
      },
      "source": [
        "# With default values\n",
        "\n",
        "def add(x,y,z = 0): #z is initilized to 0 (default)\n",
        "    my_num = x + y + z\n",
        "    print(my_num)"
      ],
      "execution_count": null,
      "outputs": []
    },
    {
      "cell_type": "code",
      "metadata": {
        "id": "x3Z9BsDgZC_k",
        "outputId": "039833e6-1b5d-4736-ff40-f2b64d6dee3f"
      },
      "source": [
        "# when value is not passed\n",
        "add(10,20)"
      ],
      "execution_count": null,
      "outputs": [
        {
          "name": "stdout",
          "output_type": "stream",
          "text": [
            "30\n"
          ]
        }
      ]
    },
    {
      "cell_type": "code",
      "metadata": {
        "id": "n5n465g3ZC_m",
        "outputId": "ea0e4692-3b9a-4b5a-8491-0e788a24bd54"
      },
      "source": [
        "#when value is passed\n",
        "add(10,20,30)"
      ],
      "execution_count": null,
      "outputs": [
        {
          "name": "stdout",
          "output_type": "stream",
          "text": [
            "60\n"
          ]
        }
      ]
    },
    {
      "cell_type": "markdown",
      "metadata": {
        "id": "KTVn2yvMZC_n"
      },
      "source": [
        "#### A function can call any other function"
      ]
    },
    {
      "cell_type": "code",
      "metadata": {
        "id": "Kb_fqfPeZC_o"
      },
      "source": [
        "def func1():\n",
        "    print(\"func1\")\n",
        "\n",
        "def func2():\n",
        "    print(\"func2\")\n",
        "    func1()\n",
        "    \n",
        "def func3():\n",
        "    print(\"func3\")\n",
        "    func2()\n"
      ],
      "execution_count": null,
      "outputs": []
    },
    {
      "cell_type": "code",
      "metadata": {
        "id": "8STY6AGnZC_p",
        "outputId": "baf245cf-b123-42b0-e261-396f44202142"
      },
      "source": [
        "func3()"
      ],
      "execution_count": null,
      "outputs": [
        {
          "name": "stdout",
          "output_type": "stream",
          "text": [
            "func3\n",
            "func2\n",
            "func1\n"
          ]
        }
      ]
    },
    {
      "cell_type": "markdown",
      "metadata": {
        "id": "jpoGnghoZC_s"
      },
      "source": [
        "#### Recursion or Recursive Function :\n",
        "* A function calling itself\n",
        "* Possibility of infinite execution. Always handle this scenario"
      ]
    },
    {
      "cell_type": "code",
      "metadata": {
        "id": "lZVYqd9ZZC_t"
      },
      "source": [
        "# Printing Hello for 5 times using recursion\n",
        "def my_func(num):\n",
        "    num = num + 1\n",
        "    if(num>5):\n",
        "        return\n",
        "    else:\n",
        "        print(\"Hello\")\n",
        "        my_func(num)"
      ],
      "execution_count": null,
      "outputs": []
    },
    {
      "cell_type": "code",
      "metadata": {
        "id": "1yIpdZxfZC_u",
        "outputId": "c0cb2c4b-6227-4578-f75a-9ab20c581d6e"
      },
      "source": [
        "my_func(0)"
      ],
      "execution_count": null,
      "outputs": [
        {
          "name": "stdout",
          "output_type": "stream",
          "text": [
            "Hello\n",
            "Hello\n",
            "Hello\n",
            "Hello\n",
            "Hello\n"
          ]
        }
      ]
    },
    {
      "cell_type": "markdown",
      "metadata": {
        "id": "35-d8CrbZC_v"
      },
      "source": [
        "### Task 11.1\n",
        "* Explain Return keyword with example."
      ]
    },
    {
      "cell_type": "markdown",
      "metadata": {
        "id": "begp_MHeZC_v"
      },
      "source": [
        "### Task11.2\n",
        "* Ask 2 numbers from users and store it in num1 and num2\n",
        "* Ask user to press 1 for addition,2 for subtraction,3 for multiplication and 4 for division\n",
        "* create 4 seperate functions for each operation (i.e. addition,subtraction,multiplication and division)\n",
        "* based on number given by user,call that perticular function and print the output"
      ]
    },
    {
      "cell_type": "code",
      "metadata": {
        "colab": {
          "base_uri": "https://localhost:8080/"
        },
        "id": "kn7RhlsyZC_x",
        "outputId": "3b7b2d2f-3bc7-483f-cbb7-c8adc8f52d40"
      },
      "source": [
        "num1 = int(input(\"enter num1:\"))\n",
        "num2 = int(input(\"enter num2:\"))\n",
        "def add(num1, num2):\n",
        "  return num1+num2\n",
        "def sub(num1, num2):\n",
        "  return num1-num2\n",
        "def multiply(num1, num2):\n",
        "  return num1**num2\n",
        "def divide(num1, num2):\n",
        "  return num1/num2\n",
        "print(\"Enter the choice\")\n",
        "print(\"1) +\")\n",
        "print(\"2) -\")\n",
        "print(\"3) *\")\n",
        "print(\"4) /\")\n",
        "choice = input(\"Enter operator \")\n",
        "if choice == \"1\":\n",
        "  print(num1,\"+\",num2,\"=\",add(num1,num2))\n",
        "elif choice == \"2\":\n",
        "  print(num1,\"-\",num2,\"=\",sub(num1,num2))\n",
        "elif choice == \"3\":\n",
        "  print(num1,\"*\",num2,\"=\",multiply(num1,num2))\n",
        "elif choice == \"4\":\n",
        "  print(num1,\"/\",num2,\"=\",divide(num1,num2))\n"
      ],
      "execution_count": 4,
      "outputs": [
        {
          "output_type": "stream",
          "name": "stdout",
          "text": [
            "enter num1:5\n",
            "enter num2:5\n",
            "Enter the choice\n",
            "1) +\n",
            "2) -\n",
            "3) *\n",
            "4) /\n",
            "Enter operator 3\n",
            "5 * 5 = 3125\n"
          ]
        }
      ]
    }
  ]
}