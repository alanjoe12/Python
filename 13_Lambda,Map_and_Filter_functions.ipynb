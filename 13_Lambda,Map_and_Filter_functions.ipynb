{
  "nbformat": 4,
  "nbformat_minor": 0,
  "metadata": {
    "kernelspec": {
      "display_name": "Python 3",
      "language": "python",
      "name": "python3"
    },
    "language_info": {
      "codemirror_mode": {
        "name": "ipython",
        "version": 3
      },
      "file_extension": ".py",
      "mimetype": "text/x-python",
      "name": "python",
      "nbconvert_exporter": "python",
      "pygments_lexer": "ipython3",
      "version": "3.7.3"
    },
    "colab": {
      "name": "13 - Lambda,Map and Filter functions.ipynb",
      "provenance": [],
      "collapsed_sections": [
        "j-E3MXtTRCFA",
        "jyh0NOOpRCFE",
        "_288JlBlRCFF",
        "L_8Ca9QlRCFG"
      ]
    }
  },
  "cells": [
    {
      "cell_type": "markdown",
      "metadata": {
        "id": "nbi67r9TRCEs"
      },
      "source": [
        "## Lambda Functions\n",
        "* A lambda function is a small anonymous function.\n",
        "* A lambda function can take any number of arguments, but can only have one expression.\n",
        "* They are mostly used along with map and filter functions"
      ]
    },
    {
      "cell_type": "code",
      "metadata": {
        "id": "rZ8c5cdXRCE0"
      },
      "source": [
        "# Syntax\n",
        "# lambda arguments : expression"
      ],
      "execution_count": null,
      "outputs": []
    },
    {
      "cell_type": "markdown",
      "metadata": {
        "id": "9XArOVkMRCE1"
      },
      "source": [
        "### Ex1) Squaring a number"
      ]
    },
    {
      "cell_type": "code",
      "metadata": {
        "id": "c6mkaYdFRCE2",
        "outputId": "9b44cf4b-c499-4c64-e65f-8f7645fbe97d"
      },
      "source": [
        "# with one argument\n",
        "\n",
        "# normal function\n",
        "def square(num):\n",
        "    return num**2\n",
        "\n",
        "square(5)"
      ],
      "execution_count": null,
      "outputs": [
        {
          "data": {
            "text/plain": [
              "25"
            ]
          },
          "execution_count": 1,
          "metadata": {},
          "output_type": "execute_result"
        }
      ]
    },
    {
      "cell_type": "code",
      "metadata": {
        "id": "i0iVn6SZRCE3"
      },
      "source": [
        "# lambda functions\n",
        "square = lambda num:num**2"
      ],
      "execution_count": null,
      "outputs": []
    },
    {
      "cell_type": "code",
      "metadata": {
        "id": "NaHW9-h_RCE4",
        "outputId": "5e0e4274-0b9b-46c6-d7e0-0e9bd88c16e5"
      },
      "source": [
        "square(5)"
      ],
      "execution_count": null,
      "outputs": [
        {
          "data": {
            "text/plain": [
              "25"
            ]
          },
          "execution_count": 3,
          "metadata": {},
          "output_type": "execute_result"
        }
      ]
    },
    {
      "cell_type": "markdown",
      "metadata": {
        "id": "w04Zvsi2RCE4"
      },
      "source": [
        "### Ex2) adding multiple numbers"
      ]
    },
    {
      "cell_type": "code",
      "metadata": {
        "id": "A7oFsOO6RCE5",
        "outputId": "984dfd10-0c70-4cfb-960c-e76050607b84"
      },
      "source": [
        "# with multiple arguments\n",
        "# normal function\n",
        "def add(x,y,z):\n",
        "    return x + y + z\n",
        "\n",
        "add(5,10,15)"
      ],
      "execution_count": null,
      "outputs": [
        {
          "data": {
            "text/plain": [
              "30"
            ]
          },
          "execution_count": 4,
          "metadata": {},
          "output_type": "execute_result"
        }
      ]
    },
    {
      "cell_type": "code",
      "metadata": {
        "id": "0tjKtmHxRCE6"
      },
      "source": [
        "# lambda function\n",
        "add = lambda x,y,z:x + y + z"
      ],
      "execution_count": null,
      "outputs": []
    },
    {
      "cell_type": "code",
      "metadata": {
        "id": "vHyo1HHIRCE7",
        "outputId": "505f8490-60c9-4c6e-890a-f990e01ba64b"
      },
      "source": [
        "add(5,10,15)"
      ],
      "execution_count": null,
      "outputs": [
        {
          "data": {
            "text/plain": [
              "30"
            ]
          },
          "execution_count": 6,
          "metadata": {},
          "output_type": "execute_result"
        }
      ]
    },
    {
      "cell_type": "markdown",
      "metadata": {
        "id": "Lj2UH5C9RCE8"
      },
      "source": [
        "##### we wont use lambda functions like this. We will mostly use them along with map,filter functions"
      ]
    },
    {
      "cell_type": "code",
      "metadata": {
        "id": "i7i42EkfRCE8"
      },
      "source": [
        ""
      ],
      "execution_count": null,
      "outputs": []
    },
    {
      "cell_type": "markdown",
      "metadata": {
        "id": "Kq_-MUGURCE8"
      },
      "source": [
        "## Map function\n",
        "\n",
        "* The **map** function allows you to \"map\" a function to an iterable object.\n",
        "* It returns map object"
      ]
    },
    {
      "cell_type": "code",
      "metadata": {
        "id": "QIzu4R_eRCE9"
      },
      "source": [
        "\"\"\"\n",
        "about map function\n",
        "\n",
        "syntax ---->\n",
        "map(function,sequence)\n",
        "\n",
        "it applies the function to all the elements in the sequences \n",
        "\n",
        "returns the map object\n",
        "\"\"\""
      ],
      "execution_count": null,
      "outputs": []
    },
    {
      "cell_type": "markdown",
      "metadata": {
        "id": "VD6PaJU3RCE9"
      },
      "source": [
        "### Ex1) Square all the elements of a list using map function"
      ]
    },
    {
      "cell_type": "code",
      "metadata": {
        "id": "TL9voF6tRCE9"
      },
      "source": [
        "# sequence\n",
        "my_nums = [1,2,3,4,5]"
      ],
      "execution_count": null,
      "outputs": []
    },
    {
      "cell_type": "code",
      "metadata": {
        "id": "PfB_1oedRCE-"
      },
      "source": [
        "#function to square a number\n",
        "def square(num):\n",
        "    return num**2"
      ],
      "execution_count": null,
      "outputs": []
    },
    {
      "cell_type": "code",
      "metadata": {
        "id": "camVZl4ZRCE-",
        "outputId": "1a829a3c-9d0e-48e2-8a30-ad399c658eba"
      },
      "source": [
        "#map\n",
        "map(square,my_nums)"
      ],
      "execution_count": null,
      "outputs": [
        {
          "data": {
            "text/plain": [
              "<map at 0x15664a5a048>"
            ]
          },
          "execution_count": 9,
          "metadata": {},
          "output_type": "execute_result"
        }
      ]
    },
    {
      "cell_type": "code",
      "metadata": {
        "id": "ykTQcEqbRCE_",
        "outputId": "1bd50f43-5a2e-4b20-d55a-26592d1520fd"
      },
      "source": [
        "# To get the results, either iterate through mapobj \n",
        "for item in map(square,my_nums):\n",
        "    print(item)"
      ],
      "execution_count": null,
      "outputs": [
        {
          "name": "stdout",
          "output_type": "stream",
          "text": [
            "1\n",
            "4\n",
            "9\n",
            "16\n",
            "25\n"
          ]
        }
      ]
    },
    {
      "cell_type": "code",
      "metadata": {
        "id": "jr59IPgpRCE_",
        "outputId": "be2ecc1f-7c21-4071-f4cd-9021f97f1229"
      },
      "source": [
        "# or just convert to a list\n",
        "list(map(square,my_nums))"
      ],
      "execution_count": null,
      "outputs": [
        {
          "data": {
            "text/plain": [
              "[1, 4, 9, 16, 25]"
            ]
          },
          "execution_count": 11,
          "metadata": {},
          "output_type": "execute_result"
        }
      ]
    },
    {
      "cell_type": "markdown",
      "metadata": {
        "id": "j-E3MXtTRCFA"
      },
      "source": [
        "### Ex2) even or odd numbers"
      ]
    },
    {
      "cell_type": "code",
      "metadata": {
        "id": "tonop9wsRCFA"
      },
      "source": [
        "#sequence\n",
        "my_nums = [1,2,3,4,5]"
      ],
      "execution_count": null,
      "outputs": []
    },
    {
      "cell_type": "code",
      "metadata": {
        "id": "DKpKeB21RCFA"
      },
      "source": [
        "#function\n",
        "def even_odd(num):\n",
        "    if(num%2==0):\n",
        "        return 'even'\n",
        "    else:\n",
        "        return 'odd'"
      ],
      "execution_count": null,
      "outputs": []
    },
    {
      "cell_type": "code",
      "metadata": {
        "id": "hjmn7WrjRCFB",
        "outputId": "2b9a7015-c95f-40af-ac2d-f9415a16fbf2"
      },
      "source": [
        "list(map(even_odd,my_nums))  #['odd','even','odd','even','odd']"
      ],
      "execution_count": null,
      "outputs": [
        {
          "data": {
            "text/plain": [
              "['odd', 'even', 'odd', 'even', 'odd']"
            ]
          },
          "execution_count": 14,
          "metadata": {},
          "output_type": "execute_result"
        }
      ]
    },
    {
      "cell_type": "code",
      "metadata": {
        "id": "scKENAY8RCFB"
      },
      "source": [
        ""
      ],
      "execution_count": null,
      "outputs": []
    },
    {
      "cell_type": "markdown",
      "metadata": {
        "id": "KWg7eQtWRCFB"
      },
      "source": [
        "## Filter function\n",
        "\n",
        "* The filter function allows you to filter the elements based on the condition given in the function.\n",
        "* returns an filter object"
      ]
    },
    {
      "cell_type": "code",
      "metadata": {
        "id": "HOPd0mPvRCFC"
      },
      "source": [
        "\"\"\"\n",
        "about filter function\n",
        "\n",
        "syntax ---->\n",
        "filter(function,sequence)\n",
        "\n",
        "it applies the function to all the elements in the sequences and \n",
        "retains only those elements which passes the specific conditions\n",
        "\n",
        "returns the filter object\n",
        "\"\"\""
      ],
      "execution_count": null,
      "outputs": []
    },
    {
      "cell_type": "markdown",
      "metadata": {
        "id": "izCrHZDvRCFC"
      },
      "source": [
        "### Ex1) To filter the words starting with 'a'"
      ]
    },
    {
      "cell_type": "code",
      "metadata": {
        "id": "S3GhDF_fRCFC"
      },
      "source": [
        "#Sequence\n",
        "words_list = ['apple','banana','airport','ant','cat']"
      ],
      "execution_count": null,
      "outputs": []
    },
    {
      "cell_type": "code",
      "metadata": {
        "id": "aecXIqlyRCFC"
      },
      "source": [
        "# function\n",
        "def starts_with_a(word):\n",
        "    if(word[0] == 'a'):\n",
        "        return True\n",
        "    else:\n",
        "        return False"
      ],
      "execution_count": null,
      "outputs": []
    },
    {
      "cell_type": "code",
      "metadata": {
        "id": "iShcJ2QuRCFC",
        "outputId": "9c6d3b33-c800-4a3f-b10a-e611daacbc1f"
      },
      "source": [
        "list(filter(starts_with_a,words_list))  #['apple','airport','ant']"
      ],
      "execution_count": null,
      "outputs": [
        {
          "data": {
            "text/plain": [
              "['apple', 'airport', 'ant']"
            ]
          },
          "execution_count": 17,
          "metadata": {},
          "output_type": "execute_result"
        }
      ]
    },
    {
      "cell_type": "markdown",
      "metadata": {
        "id": "8kM0oEEFRCFD"
      },
      "source": [
        "### Ex2) To filter only the even numbers"
      ]
    },
    {
      "cell_type": "code",
      "metadata": {
        "id": "XfqUN6u8RCFD"
      },
      "source": [
        "# Sequence\n",
        "nums = [0,1,2,3,4,5,6,7,8,9,10]"
      ],
      "execution_count": null,
      "outputs": []
    },
    {
      "cell_type": "code",
      "metadata": {
        "id": "bIwnoLvkRCFD"
      },
      "source": [
        "#function\n",
        "def check_even(num):\n",
        "    if(num%2==0):\n",
        "        return True\n",
        "    else:\n",
        "        return False\n",
        "    \n",
        "# def check_even(num):\n",
        "#     return num%2 == 0"
      ],
      "execution_count": null,
      "outputs": []
    },
    {
      "cell_type": "code",
      "metadata": {
        "id": "JTMh66nHRCFE",
        "outputId": "d0625184-c2f1-4d8e-fa89-9aadccb6be66"
      },
      "source": [
        "list(filter(check_even,nums))"
      ],
      "execution_count": null,
      "outputs": [
        {
          "data": {
            "text/plain": [
              "[0, 2, 4, 6, 8, 10]"
            ]
          },
          "execution_count": 20,
          "metadata": {},
          "output_type": "execute_result"
        }
      ]
    },
    {
      "cell_type": "markdown",
      "metadata": {
        "id": "jyh0NOOpRCFE"
      },
      "source": [
        "### Note : the difference between filter and map"
      ]
    },
    {
      "cell_type": "code",
      "metadata": {
        "id": "6e13A4DcRCFE",
        "outputId": "bc25f9da-656e-463a-8b9e-652619e0914b"
      },
      "source": [
        "# map\n",
        "list(map(check_even,nums))"
      ],
      "execution_count": null,
      "outputs": [
        {
          "data": {
            "text/plain": [
              "[True, False, True, False, True, False, True, False, True, False, True]"
            ]
          },
          "execution_count": 21,
          "metadata": {},
          "output_type": "execute_result"
        }
      ]
    },
    {
      "cell_type": "code",
      "metadata": {
        "id": "-MFID9YeRCFF",
        "outputId": "1379b4ca-07d5-43f3-f944-e517ae9d6a53"
      },
      "source": [
        "# filter\n",
        "list(filter(check_even,nums))"
      ],
      "execution_count": null,
      "outputs": [
        {
          "data": {
            "text/plain": [
              "[0, 2, 4, 6, 8, 10]"
            ]
          },
          "execution_count": 22,
          "metadata": {},
          "output_type": "execute_result"
        }
      ]
    },
    {
      "cell_type": "markdown",
      "metadata": {
        "id": "JAsLQlTMRCFF"
      },
      "source": [
        "## Using map() and filter() with lambda functions"
      ]
    },
    {
      "cell_type": "markdown",
      "metadata": {
        "id": "_288JlBlRCFF"
      },
      "source": [
        "### Ex1) Square Ex"
      ]
    },
    {
      "cell_type": "code",
      "metadata": {
        "id": "2NeYe4bWRCFF",
        "outputId": "b16381dc-b23f-4650-d9e5-25c1acfdaaab"
      },
      "source": [
        "# sequence\n",
        "my_nums = [1,2,3,4,5]\n",
        "\n",
        "# lambda with map function\n",
        "list(map(lambda num:num**2,my_nums))"
      ],
      "execution_count": null,
      "outputs": [
        {
          "data": {
            "text/plain": [
              "[1, 4, 9, 16, 25]"
            ]
          },
          "execution_count": 23,
          "metadata": {},
          "output_type": "execute_result"
        }
      ]
    },
    {
      "cell_type": "markdown",
      "metadata": {
        "id": "L_8Ca9QlRCFG"
      },
      "source": [
        "### Ex2)"
      ]
    },
    {
      "cell_type": "code",
      "metadata": {
        "id": "lA2uq0AuRCFG",
        "outputId": "76496d6c-9514-44ed-f5ff-ab54bbcce22f"
      },
      "source": [
        "nums = [0,1,2,3,4,5,6,7,8,9,10]\n",
        "\n",
        "# filter with map function\n",
        "filter(lambda num:num%2 == 0,nums)"
      ],
      "execution_count": null,
      "outputs": [
        {
          "data": {
            "text/plain": [
              "<filter at 0x15664a62198>"
            ]
          },
          "execution_count": 24,
          "metadata": {},
          "output_type": "execute_result"
        }
      ]
    },
    {
      "cell_type": "code",
      "metadata": {
        "id": "-lAGjoD7RCFG",
        "outputId": "77f61687-52e3-4c4f-b82c-85930c4d7936"
      },
      "source": [
        "for item in filter(lambda num:num%2 == 0,nums):\n",
        "    print(item)"
      ],
      "execution_count": null,
      "outputs": [
        {
          "name": "stdout",
          "output_type": "stream",
          "text": [
            "0\n",
            "2\n",
            "4\n",
            "6\n",
            "8\n",
            "10\n"
          ]
        }
      ]
    },
    {
      "cell_type": "code",
      "metadata": {
        "id": "noQNZoAnRCFG"
      },
      "source": [
        ""
      ],
      "execution_count": null,
      "outputs": []
    },
    {
      "cell_type": "markdown",
      "metadata": {
        "id": "JYzT29PjRCFG"
      },
      "source": [
        "## Task10 : Go through\n",
        "* **reduce()**\n",
        "* **zip()**\n",
        "* **enumerate()**\n"
      ]
    },
    {
      "cell_type": "markdown",
      "metadata": {
        "id": "rV_ip60FR-76"
      },
      "source": [
        "**reduce()**"
      ]
    },
    {
      "cell_type": "markdown",
      "metadata": {
        "id": "kz3h2T_BSEcV"
      },
      "source": [
        "The reduce(fun,seq) function is used to apply a particular function passed in its argument to all of the list elements mentioned in the sequence passed along. and this function is defined in \"functions\" module."
      ]
    },
    {
      "cell_type": "code",
      "metadata": {
        "id": "xnwVP3BVTIE0"
      },
      "source": [
        "import functools\n",
        "l1 = [1,2,3,4,5,6]"
      ],
      "execution_count": 2,
      "outputs": []
    },
    {
      "cell_type": "code",
      "metadata": {
        "colab": {
          "base_uri": "https://localhost:8080/"
        },
        "id": "4ggiB0wBRCFH",
        "outputId": "4e49a46f-2be1-443f-95d9-f7b21a375bf5"
      },
      "source": [
        "print(\"the sum of the list elements is: \",end=\"\")\n",
        "print(functools.reduce(lambda a,b: a+b,l1))"
      ],
      "execution_count": 3,
      "outputs": [
        {
          "output_type": "stream",
          "name": "stdout",
          "text": [
            "the sum of the list elements is: 21\n"
          ]
        }
      ]
    },
    {
      "cell_type": "code",
      "metadata": {
        "colab": {
          "base_uri": "https://localhost:8080/"
        },
        "id": "Zox0gh0nT81l",
        "outputId": "c597e3db-9c45-47f5-d6a5-a66cc85e7c62"
      },
      "source": [
        "print(\"the minimum element of the list is:\",end=\"\")\n",
        "print(functools.reduce(lambda a,b: a if a<b else b,l1))\n"
      ],
      "execution_count": 5,
      "outputs": [
        {
          "output_type": "stream",
          "name": "stdout",
          "text": [
            "the minimum element of the list is:1\n"
          ]
        }
      ]
    },
    {
      "cell_type": "markdown",
      "metadata": {
        "id": "L3SExVNI065l"
      },
      "source": [
        "**zip()**"
      ]
    },
    {
      "cell_type": "markdown",
      "metadata": {
        "id": "E_zsvC9J0_uf"
      },
      "source": [
        "Join two tuples together and If one tuple contains more items, these items are ignored."
      ]
    },
    {
      "cell_type": "code",
      "metadata": {
        "id": "zMGTFn3O050n"
      },
      "source": [
        "tup1 = (\"alan\",\"joe\",\"anil\")\n",
        "tup2 = (\"ram\",\"raju\",\"ramu\")"
      ],
      "execution_count": 1,
      "outputs": []
    },
    {
      "cell_type": "code",
      "metadata": {
        "colab": {
          "base_uri": "https://localhost:8080/"
        },
        "id": "BArxgVRJ1ZKb",
        "outputId": "fd057439-209f-4563-ee86-1f65ed16aa2b"
      },
      "source": [
        "\n",
        "print(tuple(zip(tup1, tup2)))"
      ],
      "execution_count": 2,
      "outputs": [
        {
          "output_type": "stream",
          "name": "stdout",
          "text": [
            "(('alan', 'ram'), ('joe', 'raju'), ('anil', 'ramu'))\n"
          ]
        }
      ]
    },
    {
      "cell_type": "code",
      "metadata": {
        "id": "oEujRcY-1dkU"
      },
      "source": [
        "tup3 = (\"kiran\",\"namitha\",\"krupa\",\"ponnuz\")\n",
        "tup4 = (\"alan\",\"aswin\",\"zai\")"
      ],
      "execution_count": 3,
      "outputs": []
    },
    {
      "cell_type": "code",
      "metadata": {
        "colab": {
          "base_uri": "https://localhost:8080/"
        },
        "id": "wibwPQwa1dpZ",
        "outputId": "e55db20f-5239-4473-bc94-2a801b7378af"
      },
      "source": [
        "print(tuple(zip(tup3 , tup4)))"
      ],
      "execution_count": 4,
      "outputs": [
        {
          "output_type": "stream",
          "name": "stdout",
          "text": [
            "(('kiran', 'alan'), ('namitha', 'aswin'), ('krupa', 'zai'))\n"
          ]
        }
      ]
    },
    {
      "cell_type": "markdown",
      "metadata": {
        "id": "qL6cBJuM1yda"
      },
      "source": [
        "**enumerate()**"
      ]
    },
    {
      "cell_type": "markdown",
      "metadata": {
        "id": "1bPwlbGS10gU"
      },
      "source": [
        "A lot of times when dealing with iterators, we also get a need to keep a count of iterations. Python eases the programmers’ task by providing a built-in function enumerate() for this task."
      ]
    },
    {
      "cell_type": "code",
      "metadata": {
        "id": "psw-ENnX13Je"
      },
      "source": [
        "l3 = [\"eat\",\"sleep\",\"wakeup\"]\n",
        "l4 = \"goodnight\"\n",
        "\n",
        "obj1 = enumerate(l3)\n",
        "obj2 = enumerate(l4)"
      ],
      "execution_count": 5,
      "outputs": []
    },
    {
      "cell_type": "code",
      "metadata": {
        "colab": {
          "base_uri": "https://localhost:8080/"
        },
        "id": "kBqpAYKt1-tF",
        "outputId": "e3389ca5-d549-489c-ac86-9d9693866ff7"
      },
      "source": [
        "print(\"return type:\",type(obj1))"
      ],
      "execution_count": 6,
      "outputs": [
        {
          "output_type": "stream",
          "name": "stdout",
          "text": [
            "return type: <class 'enumerate'>\n"
          ]
        }
      ]
    },
    {
      "cell_type": "code",
      "metadata": {
        "colab": {
          "base_uri": "https://localhost:8080/"
        },
        "id": "eAstpHqH2BW_",
        "outputId": "7d68de1e-b42a-4f14-d999-e86713df1cdb"
      },
      "source": [
        "print(list(enumerate(l3)))"
      ],
      "execution_count": 7,
      "outputs": [
        {
          "output_type": "stream",
          "name": "stdout",
          "text": [
            "[(0, 'eat'), (1, 'sleep'), (2, 'wakeup')]\n"
          ]
        }
      ]
    },
    {
      "cell_type": "code",
      "metadata": {
        "colab": {
          "base_uri": "https://localhost:8080/"
        },
        "id": "7RpyWlz22BcF",
        "outputId": "839bb837-9e53-4c96-93f0-0862c46c023d"
      },
      "source": [
        "print(list(enumerate(l4,2)))"
      ],
      "execution_count": 8,
      "outputs": [
        {
          "output_type": "stream",
          "name": "stdout",
          "text": [
            "[(2, 'g'), (3, 'o'), (4, 'o'), (5, 'd'), (6, 'n'), (7, 'i'), (8, 'g'), (9, 'h'), (10, 't')]\n"
          ]
        }
      ]
    },
    {
      "cell_type": "code",
      "metadata": {
        "id": "svhIxe4a2Bko"
      },
      "source": [
        ""
      ],
      "execution_count": null,
      "outputs": []
    }
  ]
}