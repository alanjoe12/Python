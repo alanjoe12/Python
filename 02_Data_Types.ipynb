{
  "nbformat": 4,
  "nbformat_minor": 0,
  "metadata": {
    "kernelspec": {
      "display_name": "Python 3",
      "language": "python",
      "name": "python3"
    },
    "language_info": {
      "codemirror_mode": {
        "name": "ipython",
        "version": 3
      },
      "file_extension": ".py",
      "mimetype": "text/x-python",
      "name": "python",
      "nbconvert_exporter": "python",
      "pygments_lexer": "ipython3",
      "version": "3.8.8"
    },
    "colab": {
      "name": "02 - Data Types.ipynb",
      "provenance": [],
      "collapsed_sections": [
        "_WJJU_bwzn8M",
        "upVhyC-pzn8O",
        "FMP_bicPzn8R",
        "f4Mm4eQwzn8T"
      ]
    }
  },
  "cells": [
    {
      "cell_type": "markdown",
      "metadata": {
        "id": "xkH6Lnh0zn7y"
      },
      "source": [
        "## Basic Data types in Python"
      ]
    },
    {
      "cell_type": "markdown",
      "metadata": {
        "id": "HuGsgd_ezn77"
      },
      "source": [
        "![title](img/data_types.png)"
      ]
    },
    {
      "cell_type": "markdown",
      "metadata": {
        "id": "dFxDnHdozn77"
      },
      "source": [
        "## Numbers\n",
        "Numbers are generally used when we are doing some math operations on it"
      ]
    },
    {
      "cell_type": "code",
      "metadata": {
        "id": "QUA5ulGwzn78"
      },
      "source": [
        "# integers"
      ],
      "execution_count": null,
      "outputs": []
    },
    {
      "cell_type": "code",
      "metadata": {
        "id": "PNLF_O9bzn79",
        "outputId": "90b18796-5c1d-4e3c-a350-b684da79351a"
      },
      "source": [
        "print(5)"
      ],
      "execution_count": null,
      "outputs": [
        {
          "name": "stdout",
          "output_type": "stream",
          "text": [
            "5\n"
          ]
        }
      ]
    },
    {
      "cell_type": "code",
      "metadata": {
        "id": "Ek57QHnWzn7_",
        "outputId": "f33473a2-c8bf-4ef9-ce53-dae3c8375fed"
      },
      "source": [
        "print(-100)"
      ],
      "execution_count": null,
      "outputs": [
        {
          "name": "stdout",
          "output_type": "stream",
          "text": [
            "-100\n"
          ]
        }
      ]
    },
    {
      "cell_type": "code",
      "metadata": {
        "id": "B6bluF0gzn8A",
        "outputId": "1b74df78-b1ae-4ec1-88cb-370d255b9133"
      },
      "source": [
        "type(5)"
      ],
      "execution_count": null,
      "outputs": [
        {
          "data": {
            "text/plain": [
              "int"
            ]
          },
          "execution_count": 4,
          "metadata": {},
          "output_type": "execute_result"
        }
      ]
    },
    {
      "cell_type": "code",
      "metadata": {
        "id": "Mw5BODQWzn8B",
        "outputId": "db6e0637-cef3-4867-b51b-b06fc508d86c"
      },
      "source": [
        "type(-100)"
      ],
      "execution_count": null,
      "outputs": [
        {
          "data": {
            "text/plain": [
              "int"
            ]
          },
          "execution_count": 5,
          "metadata": {},
          "output_type": "execute_result"
        }
      ]
    },
    {
      "cell_type": "code",
      "metadata": {
        "id": "Twxck3ygzn8C",
        "outputId": "31940d27-f080-4e4d-e555-3d1cc6e3e4f4"
      },
      "source": [
        "# float\n",
        "print(2.3)"
      ],
      "execution_count": null,
      "outputs": [
        {
          "name": "stdout",
          "output_type": "stream",
          "text": [
            "2.3\n"
          ]
        }
      ]
    },
    {
      "cell_type": "code",
      "metadata": {
        "id": "kLnW7ZCmzn8D",
        "outputId": "e164b8f4-7193-41a5-fc4d-7b81595aada4"
      },
      "source": [
        "print(-100.3)"
      ],
      "execution_count": null,
      "outputs": [
        {
          "name": "stdout",
          "output_type": "stream",
          "text": [
            "-100.3\n"
          ]
        }
      ]
    },
    {
      "cell_type": "code",
      "metadata": {
        "id": "QIa5r0xHzn8E",
        "outputId": "58e4a38f-f5a2-461e-c4e2-701265238a8e"
      },
      "source": [
        "type(2.3)"
      ],
      "execution_count": null,
      "outputs": [
        {
          "data": {
            "text/plain": [
              "float"
            ]
          },
          "execution_count": 8,
          "metadata": {},
          "output_type": "execute_result"
        }
      ]
    },
    {
      "cell_type": "code",
      "metadata": {
        "id": "17MwITK1zn8F",
        "outputId": "2f481bad-e90a-4611-9fa1-14dcfeee8df3"
      },
      "source": [
        "type(-100.3)"
      ],
      "execution_count": null,
      "outputs": [
        {
          "data": {
            "text/plain": [
              "float"
            ]
          },
          "execution_count": 9,
          "metadata": {},
          "output_type": "execute_result"
        }
      ]
    },
    {
      "cell_type": "markdown",
      "metadata": {
        "id": "dDeNXqt9zn8F"
      },
      "source": [
        "## Booleans\n",
        "logical values indicating True or False"
      ]
    },
    {
      "cell_type": "code",
      "metadata": {
        "id": "uz0xaTQszn8G"
      },
      "source": [
        "# True or False"
      ],
      "execution_count": null,
      "outputs": []
    },
    {
      "cell_type": "code",
      "metadata": {
        "id": "1t46B35xzn8G",
        "outputId": "2debcc9f-f9bb-4ab2-f938-34747ec9662c"
      },
      "source": [
        "a = True\n",
        "type(a) ## print(type(True))"
      ],
      "execution_count": null,
      "outputs": [
        {
          "data": {
            "text/plain": [
              "bool"
            ]
          },
          "execution_count": 11,
          "metadata": {},
          "output_type": "execute_result"
        }
      ]
    },
    {
      "cell_type": "code",
      "metadata": {
        "id": "YeHJXvFdzn8H",
        "outputId": "7a63c715-46b0-4abd-9e6d-f2955ad40ee0"
      },
      "source": [
        "b = False\n",
        "print(type(b))"
      ],
      "execution_count": null,
      "outputs": [
        {
          "name": "stdout",
          "output_type": "stream",
          "text": [
            "<class 'bool'>\n"
          ]
        }
      ]
    },
    {
      "cell_type": "code",
      "metadata": {
        "id": "ccR6KC7Ezn8H",
        "outputId": "d18b5f0f-6e80-4709-b725-6d1957fb6e5b"
      },
      "source": [
        "a = 5\n",
        "print(type(a))"
      ],
      "execution_count": null,
      "outputs": [
        {
          "name": "stdout",
          "output_type": "stream",
          "text": [
            "<class 'int'>\n"
          ]
        }
      ]
    },
    {
      "cell_type": "markdown",
      "metadata": {
        "id": "2isU5wVVzn8I"
      },
      "source": [
        "## Strings\n",
        "Series of characters enclosed withing single or double quotes"
      ]
    },
    {
      "cell_type": "code",
      "metadata": {
        "id": "-qRYqR57zn8I"
      },
      "source": [
        "# single quotes"
      ],
      "execution_count": null,
      "outputs": []
    },
    {
      "cell_type": "code",
      "metadata": {
        "id": "HinkJ95izn8I",
        "outputId": "5cc85e05-bda3-498a-a0c5-247378b8034f"
      },
      "source": [
        "a = 'hello'\n",
        "print(a)\n",
        "b = 'Python'\n",
        "print(b)"
      ],
      "execution_count": null,
      "outputs": [
        {
          "name": "stdout",
          "output_type": "stream",
          "text": [
            "hello\n",
            "Python\n"
          ]
        }
      ]
    },
    {
      "cell_type": "code",
      "metadata": {
        "id": "bcbKRa86zn8J",
        "outputId": "947dbac7-7db2-462b-9ff7-56ec6e955589"
      },
      "source": [
        "# type(a)\n",
        "type(b)"
      ],
      "execution_count": null,
      "outputs": [
        {
          "data": {
            "text/plain": [
              "str"
            ]
          },
          "execution_count": 16,
          "metadata": {},
          "output_type": "execute_result"
        }
      ]
    },
    {
      "cell_type": "code",
      "metadata": {
        "id": "UJOVGCaVzn8J"
      },
      "source": [
        "# double quotes"
      ],
      "execution_count": null,
      "outputs": []
    },
    {
      "cell_type": "code",
      "metadata": {
        "id": "z_1Ffb6Ezn8K",
        "outputId": "c381f7de-44aa-4ed1-f44a-844a20044bda"
      },
      "source": [
        "a = \"hello\"\n",
        "b = \"python\"\n",
        "print(a)\n",
        "print(b)"
      ],
      "execution_count": null,
      "outputs": [
        {
          "name": "stdout",
          "output_type": "stream",
          "text": [
            "hello\n",
            "python\n"
          ]
        }
      ]
    },
    {
      "cell_type": "code",
      "metadata": {
        "id": "EiiePEAyzn8K",
        "outputId": "f7959504-5417-4942-c4a5-50bd4f406f06"
      },
      "source": [
        "# type(a)\n",
        "type(b)"
      ],
      "execution_count": null,
      "outputs": [
        {
          "data": {
            "text/plain": [
              "str"
            ]
          },
          "execution_count": 19,
          "metadata": {},
          "output_type": "execute_result"
        }
      ]
    },
    {
      "cell_type": "code",
      "metadata": {
        "id": "M6rcBUSOzn8K",
        "outputId": "b995e5ed-47ca-4ae9-eb48-106a3956dd40"
      },
      "source": [
        "# required string = I'm Learning python \n",
        "\n",
        "# 1) using single quotes\n",
        "a = 'I\\'m Learning python'\n",
        "print(a)\n",
        "\n",
        "# 2) using double quotes\n",
        "b = \"I'm Learning python\"\n",
        "print(b)"
      ],
      "execution_count": null,
      "outputs": [
        {
          "name": "stdout",
          "output_type": "stream",
          "text": [
            "I'm Learning python\n",
            "I'm Learning python\n"
          ]
        }
      ]
    },
    {
      "cell_type": "code",
      "metadata": {
        "id": "JAj894ryzn8L",
        "outputId": "d0aabd5a-6282-42f4-cee7-c63e630cd917"
      },
      "source": [
        "# required string = I am Learning \"python\" \n",
        "\n",
        "# 1) using single quotes\n",
        "a = 'I am Learning \"python\"'\n",
        "print(a)\n",
        "\n",
        "# 2) using double quotes\n",
        "b = \"I am Learning \\\"python\\\"\"\n",
        "print(b)"
      ],
      "execution_count": null,
      "outputs": [
        {
          "name": "stdout",
          "output_type": "stream",
          "text": [
            "I am Learning \"python\"\n",
            "I am Learning \"python\"\n"
          ]
        }
      ]
    },
    {
      "cell_type": "code",
      "metadata": {
        "id": "KD06HRiZzn8L",
        "outputId": "4264219e-5957-4a4c-a64e-07b7406ea960"
      },
      "source": [
        "# len()\n",
        "# returns the length of the string\n",
        "\n",
        "a = \"Python\"\n",
        "len(a)"
      ],
      "execution_count": null,
      "outputs": [
        {
          "data": {
            "text/plain": [
              "6"
            ]
          },
          "execution_count": 22,
          "metadata": {},
          "output_type": "execute_result"
        }
      ]
    },
    {
      "cell_type": "code",
      "metadata": {
        "id": "xZXL_rXnzn8L",
        "outputId": "6f35694c-2f32-4d0b-dc88-5b318e04f0a8"
      },
      "source": [
        "#Note : spaces are also counted\n",
        "b = 'Welcome to python'\n",
        "len(b)"
      ],
      "execution_count": null,
      "outputs": [
        {
          "data": {
            "text/plain": [
              "17"
            ]
          },
          "execution_count": 23,
          "metadata": {},
          "output_type": "execute_result"
        }
      ]
    },
    {
      "cell_type": "markdown",
      "metadata": {
        "id": "_WJJU_bwzn8M"
      },
      "source": [
        "### String indexing"
      ]
    },
    {
      "cell_type": "markdown",
      "metadata": {
        "id": "hNkCLKKDzn8M"
      },
      "source": [
        "* indexing\n",
        "![title](img/indexing.png)"
      ]
    },
    {
      "cell_type": "code",
      "metadata": {
        "id": "Q4A7lCgRzn8M"
      },
      "source": [
        ""
      ],
      "execution_count": null,
      "outputs": []
    },
    {
      "cell_type": "markdown",
      "metadata": {
        "id": "Ka4aijfuzn8M"
      },
      "source": [
        "* reverse indexing\n",
        "![title](img/rev_indexing.png)"
      ]
    },
    {
      "cell_type": "code",
      "metadata": {
        "id": "n4Y4_vxCzn8M",
        "outputId": "49c0b89a-5fab-4bdf-d791-2f3198163768"
      },
      "source": [
        "# examples on indexing\n",
        "a = \"hello i am sachin\"\n",
        "print(a[0])"
      ],
      "execution_count": null,
      "outputs": [
        {
          "name": "stdout",
          "output_type": "stream",
          "text": [
            "h\n"
          ]
        }
      ]
    },
    {
      "cell_type": "code",
      "metadata": {
        "id": "I_87es1azn8M",
        "outputId": "59f0ca47-7b54-400d-ef32-7b4606174d6c"
      },
      "source": [
        "print(a[1])"
      ],
      "execution_count": null,
      "outputs": [
        {
          "name": "stdout",
          "output_type": "stream",
          "text": [
            "e\n"
          ]
        }
      ]
    },
    {
      "cell_type": "code",
      "metadata": {
        "id": "J6DCixFDzn8N",
        "outputId": "c80c9810-8304-412d-dd0e-37b238c4c3e6"
      },
      "source": [
        "print(a[4])"
      ],
      "execution_count": null,
      "outputs": [
        {
          "name": "stdout",
          "output_type": "stream",
          "text": [
            "o\n"
          ]
        }
      ]
    },
    {
      "cell_type": "code",
      "metadata": {
        "id": "MCZeDno9zn8N",
        "outputId": "994a50bf-704a-4d9a-bad3-82c582b5e3c2"
      },
      "source": [
        "print(a[-1])"
      ],
      "execution_count": null,
      "outputs": [
        {
          "name": "stdout",
          "output_type": "stream",
          "text": [
            "n\n"
          ]
        }
      ]
    },
    {
      "cell_type": "code",
      "metadata": {
        "id": "IZPSC2Etzn8N",
        "outputId": "f32f843c-a1d0-45fa-c379-51d218aeee14"
      },
      "source": [
        "print(a[-2])"
      ],
      "execution_count": null,
      "outputs": [
        {
          "name": "stdout",
          "output_type": "stream",
          "text": [
            "i\n"
          ]
        }
      ]
    },
    {
      "cell_type": "markdown",
      "metadata": {
        "id": "upVhyC-pzn8O"
      },
      "source": [
        "### Slicing"
      ]
    },
    {
      "cell_type": "code",
      "metadata": {
        "id": "kwSvcXUXzn8O"
      },
      "source": [
        "# [start:stop:step]\n",
        "\n",
        "# start = starting position (default value is 0)\n",
        "# stop = end position(exclusive) (default value is end position)\n",
        "# step = step size or increment size (default value is 1)"
      ],
      "execution_count": null,
      "outputs": []
    },
    {
      "cell_type": "code",
      "metadata": {
        "id": "IF4E5pV5zn8O",
        "outputId": "753c77c0-99c8-4846-e0b6-92a5dd7a493c"
      },
      "source": [
        "# examples\n",
        "a = \"hello world\"\n",
        "\n",
        "#to grab \"hello\"\n",
        "a[0:5:1] # same as a[:5]"
      ],
      "execution_count": null,
      "outputs": [
        {
          "data": {
            "text/plain": [
              "'hello'"
            ]
          },
          "execution_count": 30,
          "metadata": {},
          "output_type": "execute_result"
        }
      ]
    },
    {
      "cell_type": "code",
      "metadata": {
        "id": "a3NSeUvjzn8P",
        "outputId": "a336ee2e-44ed-425b-aa5c-c8c5c1cb940b"
      },
      "source": [
        "# to grab 'world'\n",
        "\n",
        "# 1) using positive indexes\n",
        "a[6:]"
      ],
      "execution_count": null,
      "outputs": [
        {
          "data": {
            "text/plain": [
              "'world'"
            ]
          },
          "execution_count": 31,
          "metadata": {},
          "output_type": "execute_result"
        }
      ]
    },
    {
      "cell_type": "code",
      "metadata": {
        "id": "kv5Uh7D6zn8P",
        "outputId": "dc4a0e1c-98fc-496a-843b-fd969d5b4476"
      },
      "source": [
        "# 2) using negative indexes\n",
        "a[-5:] # gets the last 5 characters."
      ],
      "execution_count": null,
      "outputs": [
        {
          "data": {
            "text/plain": [
              "'world'"
            ]
          },
          "execution_count": 32,
          "metadata": {},
          "output_type": "execute_result"
        }
      ]
    },
    {
      "cell_type": "code",
      "metadata": {
        "id": "qjv5Q28wzn8P",
        "outputId": "1fb02a3f-d123-437f-fd7d-0c106a19941e"
      },
      "source": [
        "# to get alternated characters from the string,specify step = 2\n",
        "a[::2]"
      ],
      "execution_count": null,
      "outputs": [
        {
          "data": {
            "text/plain": [
              "'hlowrd'"
            ]
          },
          "execution_count": 33,
          "metadata": {},
          "output_type": "execute_result"
        }
      ]
    },
    {
      "cell_type": "code",
      "metadata": {
        "id": "-7DhZhcszn8Q",
        "outputId": "d852b351-f994-427a-cf45-3b358744bd24"
      },
      "source": [
        "# to get the reverse of a string\n",
        "a[::-1]"
      ],
      "execution_count": null,
      "outputs": [
        {
          "data": {
            "text/plain": [
              "'dlrow olleh'"
            ]
          },
          "execution_count": 34,
          "metadata": {},
          "output_type": "execute_result"
        }
      ]
    },
    {
      "cell_type": "code",
      "metadata": {
        "id": "ectgeou2zn8R"
      },
      "source": [
        ""
      ],
      "execution_count": null,
      "outputs": []
    },
    {
      "cell_type": "markdown",
      "metadata": {
        "id": "FMP_bicPzn8R"
      },
      "source": [
        "## Concatination"
      ]
    },
    {
      "cell_type": "code",
      "metadata": {
        "id": "gJXGft4ozn8R",
        "outputId": "8705f1df-d87f-4361-c45d-212f02703b0c"
      },
      "source": [
        "str1 = 'A'\n",
        "str2 = 'B'\n",
        "str3 = str1+str2\n",
        "print(str3)"
      ],
      "execution_count": null,
      "outputs": [
        {
          "name": "stdout",
          "output_type": "stream",
          "text": [
            "AB\n"
          ]
        }
      ]
    },
    {
      "cell_type": "code",
      "metadata": {
        "id": "b54ZaAPXzn8R",
        "outputId": "49f60a35-2083-4ede-d4ea-f9266e51255f"
      },
      "source": [
        "first_name = 'kamlesh '\n",
        "last_name = 'gudli'\n",
        "full_name = first_name+last_name\n",
        "print(full_name)"
      ],
      "execution_count": null,
      "outputs": [
        {
          "name": "stdout",
          "output_type": "stream",
          "text": [
            "kamlesh gudli\n"
          ]
        }
      ]
    },
    {
      "cell_type": "code",
      "metadata": {
        "id": "OBB4yTqazn8S",
        "outputId": "ec499d1e-48b4-4be6-930a-9d9bfc7d089d"
      },
      "source": [
        "# Error\n",
        "a = 5\n",
        "b = \"hello\"\n",
        "print(a+b)"
      ],
      "execution_count": null,
      "outputs": [
        {
          "ename": "TypeError",
          "evalue": "unsupported operand type(s) for +: 'int' and 'str'",
          "output_type": "error",
          "traceback": [
            "\u001b[1;31m---------------------------------------------------------------------------\u001b[0m",
            "\u001b[1;31mTypeError\u001b[0m                                 Traceback (most recent call last)",
            "\u001b[1;32m<ipython-input-37-15dc5697eb37>\u001b[0m in \u001b[0;36m<module>\u001b[1;34m\u001b[0m\n\u001b[0;32m      2\u001b[0m \u001b[0ma\u001b[0m \u001b[1;33m=\u001b[0m \u001b[1;36m5\u001b[0m\u001b[1;33m\u001b[0m\u001b[1;33m\u001b[0m\u001b[0m\n\u001b[0;32m      3\u001b[0m \u001b[0mb\u001b[0m \u001b[1;33m=\u001b[0m \u001b[1;34m\"hello\"\u001b[0m\u001b[1;33m\u001b[0m\u001b[1;33m\u001b[0m\u001b[0m\n\u001b[1;32m----> 4\u001b[1;33m \u001b[0mprint\u001b[0m\u001b[1;33m(\u001b[0m\u001b[0ma\u001b[0m\u001b[1;33m+\u001b[0m\u001b[0mb\u001b[0m\u001b[1;33m)\u001b[0m\u001b[1;33m\u001b[0m\u001b[1;33m\u001b[0m\u001b[0m\n\u001b[0m",
            "\u001b[1;31mTypeError\u001b[0m: unsupported operand type(s) for +: 'int' and 'str'"
          ]
        }
      ]
    },
    {
      "cell_type": "markdown",
      "metadata": {
        "id": "REB9X2gRzn8T"
      },
      "source": [
        "##### Note : before concatinating, make sure both the variable are of string type. Because string concatination can only be performed with strings ,no other data types can be used to concatinate with the string"
      ]
    },
    {
      "cell_type": "markdown",
      "metadata": {
        "id": "f4Mm4eQwzn8T"
      },
      "source": [
        "## Immutability"
      ]
    },
    {
      "cell_type": "code",
      "metadata": {
        "id": "ra6er7Tpzn8T"
      },
      "source": [
        "name = \"Tree\""
      ],
      "execution_count": null,
      "outputs": []
    },
    {
      "cell_type": "code",
      "metadata": {
        "id": "5cWlUOjQzn8T",
        "outputId": "da07cd6a-dbc2-4d6c-dbbb-0e7e6bb4f21e"
      },
      "source": [
        "# cannot change like this.Because strings are immutable\n",
        "name[0] = \"F\""
      ],
      "execution_count": null,
      "outputs": [
        {
          "ename": "TypeError",
          "evalue": "'str' object does not support item assignment",
          "output_type": "error",
          "traceback": [
            "\u001b[1;31m---------------------------------------------------------------------------\u001b[0m",
            "\u001b[1;31mTypeError\u001b[0m                                 Traceback (most recent call last)",
            "\u001b[1;32m<ipython-input-40-c853577350ad>\u001b[0m in \u001b[0;36m<module>\u001b[1;34m\u001b[0m\n\u001b[0;32m      1\u001b[0m \u001b[1;31m# cannot change like this.Because strings are immutable\u001b[0m\u001b[1;33m\u001b[0m\u001b[1;33m\u001b[0m\u001b[1;33m\u001b[0m\u001b[0m\n\u001b[1;32m----> 2\u001b[1;33m \u001b[0mname\u001b[0m\u001b[1;33m[\u001b[0m\u001b[1;36m0\u001b[0m\u001b[1;33m]\u001b[0m \u001b[1;33m=\u001b[0m \u001b[1;34m\"F\"\u001b[0m\u001b[1;33m\u001b[0m\u001b[1;33m\u001b[0m\u001b[0m\n\u001b[0m",
            "\u001b[1;31mTypeError\u001b[0m: 'str' object does not support item assignment"
          ]
        }
      ]
    },
    {
      "cell_type": "code",
      "metadata": {
        "id": "WAj4SQefzn8U",
        "outputId": "072e7c4d-3f0d-4fbf-db11-389a626d2415"
      },
      "source": [
        "# work around\n",
        "\"F\" + name[1:]"
      ],
      "execution_count": null,
      "outputs": [
        {
          "data": {
            "text/plain": [
              "'Free'"
            ]
          },
          "execution_count": 41,
          "metadata": {},
          "output_type": "execute_result"
        }
      ]
    },
    {
      "cell_type": "markdown",
      "metadata": {
        "id": "h7adxcPHzn8U"
      },
      "source": [
        "## Some inbuilt functions"
      ]
    },
    {
      "cell_type": "code",
      "metadata": {
        "id": "GnPfiqZIzn8U"
      },
      "source": [
        "# 1) .upper()\n",
        "a = 'hello world'\n",
        "# print(a.upper())"
      ],
      "execution_count": null,
      "outputs": []
    },
    {
      "cell_type": "code",
      "metadata": {
        "id": "CXoVk4hwzn8V",
        "outputId": "89e045ee-5ccd-43ac-b198-44bc9fb8980e"
      },
      "source": [
        "# 2) .lower()\n",
        "print(a.lower())"
      ],
      "execution_count": null,
      "outputs": [
        {
          "name": "stdout",
          "output_type": "stream",
          "text": [
            "hello world\n"
          ]
        }
      ]
    },
    {
      "cell_type": "code",
      "metadata": {
        "id": "xQe30lS3zn8V",
        "outputId": "fdb37ab5-39c8-4baf-da10-86e386a8a0e7"
      },
      "source": [
        "# 3) .startswith()\n",
        "print(a.startswith(\"j\"))"
      ],
      "execution_count": null,
      "outputs": [
        {
          "name": "stdout",
          "output_type": "stream",
          "text": [
            "False\n"
          ]
        }
      ]
    },
    {
      "cell_type": "code",
      "metadata": {
        "id": "PdulscA5zn8W",
        "outputId": "aa8e3d3c-8f99-46d8-eabd-c0dd5b3309a9"
      },
      "source": [
        "# 4) .endswith()\n",
        "print(a.endswith('D'))"
      ],
      "execution_count": null,
      "outputs": [
        {
          "name": "stdout",
          "output_type": "stream",
          "text": [
            "False\n"
          ]
        }
      ]
    },
    {
      "cell_type": "code",
      "metadata": {
        "id": "owa_TJKszn8W",
        "outputId": "dc00d87a-b5c0-4834-8729-5acbcbb3665f"
      },
      "source": [
        "# 5) .capitalize()\n",
        "print(a)\n",
        "print(a.capitalize())"
      ],
      "execution_count": null,
      "outputs": [
        {
          "name": "stdout",
          "output_type": "stream",
          "text": [
            "hello world\n",
            "Hello world\n"
          ]
        }
      ]
    },
    {
      "cell_type": "markdown",
      "metadata": {
        "id": "dX6_ebJfzn8X"
      },
      "source": [
        "### Task 1 & 2"
      ]
    },
    {
      "cell_type": "code",
      "metadata": {
        "id": "osYwG1K7zn8X"
      },
      "source": [
        "# task 1) go through some of the other in built functions\n",
        "\n",
        "# task 2) \n",
        "\n",
        "# given a string for example\n",
        "str1 = \"Welcome to python\"\n",
        "\n",
        "# check if \"to\" is present in \"welcome to python\"\n"
      ],
      "execution_count": null,
      "outputs": []
    },
    {
      "cell_type": "code",
      "metadata": {
        "colab": {
          "base_uri": "https://localhost:8080/"
        },
        "id": "zkDbpVyk37c6",
        "outputId": "d5ff212a-35bf-4869-9e52-7c69e41a74e3"
      },
      "source": [
        "# task 1) go through some of the other in built functions\n",
        "# 1) sum()\n",
        "s = sum([1, 2,4 ])  \n",
        "print(s)  "
      ],
      "execution_count": null,
      "outputs": [
        {
          "output_type": "stream",
          "name": "stdout",
          "text": [
            "7\n"
          ]
        }
      ]
    },
    {
      "cell_type": "code",
      "metadata": {
        "colab": {
          "base_uri": "https://localhost:8080/",
          "height": 35
        },
        "id": "Fh1oVaWu5Qsi",
        "outputId": "665bb38f-84ee-4315-b85c-e46518376773"
      },
      "source": [
        "# 2) bin() binary representation\n",
        "x =  10  \n",
        "bin(x)   \n",
        "  "
      ],
      "execution_count": null,
      "outputs": [
        {
          "output_type": "execute_result",
          "data": {
            "application/vnd.google.colaboratory.intrinsic+json": {
              "type": "string"
            },
            "text/plain": [
              "'0b1010'"
            ]
          },
          "metadata": {},
          "execution_count": 20
        }
      ]
    },
    {
      "cell_type": "code",
      "metadata": {
        "colab": {
          "base_uri": "https://localhost:8080/"
        },
        "id": "N5tnaLn87iib",
        "outputId": "060fd7fc-c3ad-47df-a854-049393a8e43f"
      },
      "source": [
        "# 3) float() \n",
        "print(float(9))"
      ],
      "execution_count": null,
      "outputs": [
        {
          "output_type": "stream",
          "name": "stdout",
          "text": [
            "9.0\n"
          ]
        }
      ]
    },
    {
      "cell_type": "code",
      "metadata": {
        "colab": {
          "base_uri": "https://localhost:8080/"
        },
        "id": "BuA1D2n31A8x",
        "outputId": "7b0b3f2f-58a6-46b1-eed7-a7c3695ac1a7"
      },
      "source": [
        "# task 2) \n",
        "# given a string for example\n",
        "\n",
        "# check if \"to\" is present in \"welcome to python\"\n",
        "str1 = \"Welcome to python\"\n",
        "str2 = input(\"Enter the string: \")\n",
        "def check(str1, str2):\n",
        "    if (str1.find(str2) == -1):\n",
        "        print(\"NO\")\n",
        "    else:\n",
        "        print(\"YES\")    \n",
        "# driver code\n",
        "\n",
        "check(str1, str2)"
      ],
      "execution_count": 2,
      "outputs": [
        {
          "output_type": "stream",
          "name": "stdout",
          "text": [
            "Enter the string: to\n",
            "YES\n"
          ]
        }
      ]
    }
  ]
}