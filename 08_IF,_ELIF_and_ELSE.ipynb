{
  "nbformat": 4,
  "nbformat_minor": 0,
  "metadata": {
    "kernelspec": {
      "display_name": "Python 3",
      "language": "python",
      "name": "python3"
    },
    "language_info": {
      "codemirror_mode": {
        "name": "ipython",
        "version": 3
      },
      "file_extension": ".py",
      "mimetype": "text/x-python",
      "name": "python",
      "nbconvert_exporter": "python",
      "pygments_lexer": "ipython3",
      "version": "3.8.3"
    },
    "colab": {
      "name": "08- IF, ELIF and ELSE.ipynb",
      "provenance": []
    }
  },
  "cells": [
    {
      "cell_type": "markdown",
      "metadata": {
        "id": "mg5rq5uNjwQt"
      },
      "source": [
        "## if condition"
      ]
    },
    {
      "cell_type": "code",
      "metadata": {
        "id": "6xsCFGUnjwQ4"
      },
      "source": [
        "\"\"\"\n",
        "syntax of if\n",
        "\n",
        "if(condition/s):\n",
        "    statement1\n",
        "    statement2\n",
        "    ..........\n",
        "\"\"\""
      ],
      "execution_count": null,
      "outputs": []
    },
    {
      "cell_type": "code",
      "metadata": {
        "id": "1MYX303WjwQ8",
        "outputId": "b4d2d9b6-8af0-4dfc-afb3-e89d2673c3a1"
      },
      "source": [
        "#Ex1)\n",
        "num1 = 10\n",
        "num2 = 10\n",
        "\n",
        "if(num1 == num2):\n",
        "    print(\"Both the numbers are same\")"
      ],
      "execution_count": null,
      "outputs": [
        {
          "name": "stdout",
          "output_type": "stream",
          "text": [
            "Both the numbers are same\n"
          ]
        }
      ]
    },
    {
      "cell_type": "code",
      "metadata": {
        "id": "C2RO3F5ojwQ-",
        "outputId": "3974ad61-e22f-49a3-c924-c3fe20c29285"
      },
      "source": [
        "#Ex2)\n",
        "num1 = 11\n",
        "num2 = 10\n",
        "if(num1 != num2):\n",
        "    print(\"Numbers are diff\")"
      ],
      "execution_count": null,
      "outputs": [
        {
          "name": "stdout",
          "output_type": "stream",
          "text": [
            "Numbers are diff\n"
          ]
        }
      ]
    },
    {
      "cell_type": "markdown",
      "metadata": {
        "id": "Xf0bwsPNjwRA"
      },
      "source": [
        "## Indentation\n",
        "whitespace at the beginning of a line"
      ]
    },
    {
      "cell_type": "code",
      "metadata": {
        "id": "0iZ9LoKVjwRB",
        "outputId": "ed7482ff-27b4-4926-e54d-e85b73ef4fa3"
      },
      "source": [
        "#Ex1)\n",
        "if(4>2):\n",
        "print(\"A\") #ERROR"
      ],
      "execution_count": null,
      "outputs": [
        {
          "ename": "IndentationError",
          "evalue": "expected an indented block (<ipython-input-3-acbc0b46bff6>, line 3)",
          "output_type": "error",
          "traceback": [
            "\u001b[1;36m  File \u001b[1;32m\"<ipython-input-3-acbc0b46bff6>\"\u001b[1;36m, line \u001b[1;32m3\u001b[0m\n\u001b[1;33m    print(\"A\") #ERROR\u001b[0m\n\u001b[1;37m        ^\u001b[0m\n\u001b[1;31mIndentationError\u001b[0m\u001b[1;31m:\u001b[0m expected an indented block\n"
          ]
        }
      ]
    },
    {
      "cell_type": "code",
      "metadata": {
        "id": "05n8F0IejwRC",
        "outputId": "9361a81f-edcf-4b6b-e348-ea31ed2a8c71"
      },
      "source": [
        "#Ex2)\n",
        "if(4>2):\n",
        "    print(\"A\")\n",
        "        print(\"B\") #Error"
      ],
      "execution_count": null,
      "outputs": [
        {
          "ename": "IndentationError",
          "evalue": "unexpected indent (<ipython-input-4-7e651452fc72>, line 4)",
          "output_type": "error",
          "traceback": [
            "\u001b[1;36m  File \u001b[1;32m\"<ipython-input-4-7e651452fc72>\"\u001b[1;36m, line \u001b[1;32m4\u001b[0m\n\u001b[1;33m    print(\"B\") #Error\u001b[0m\n\u001b[1;37m    ^\u001b[0m\n\u001b[1;31mIndentationError\u001b[0m\u001b[1;31m:\u001b[0m unexpected indent\n"
          ]
        }
      ]
    },
    {
      "cell_type": "code",
      "metadata": {
        "id": "zzHOpnoljwRD",
        "outputId": "db202591-86e6-461e-af44-f20eabe7d196"
      },
      "source": [
        "#Ex3)\n",
        "if(4>2):\n",
        "        print(\"A\")\n",
        "    print(\"B\") #Error"
      ],
      "execution_count": null,
      "outputs": [
        {
          "ename": "IndentationError",
          "evalue": "unindent does not match any outer indentation level (<tokenize>, line 4)",
          "output_type": "error",
          "traceback": [
            "\u001b[1;36m  File \u001b[1;32m\"<tokenize>\"\u001b[1;36m, line \u001b[1;32m4\u001b[0m\n\u001b[1;33m    print(\"B\") #Error\u001b[0m\n\u001b[1;37m    ^\u001b[0m\n\u001b[1;31mIndentationError\u001b[0m\u001b[1;31m:\u001b[0m unindent does not match any outer indentation level\n"
          ]
        }
      ]
    },
    {
      "cell_type": "code",
      "metadata": {
        "id": "Qogh3DoOjwRF",
        "outputId": "aa05424a-7ab0-4b70-c483-86ca686cd339"
      },
      "source": [
        "#Ex4)\n",
        "if(4>2):\n",
        "        print(\"A\")\n",
        "        print(\"B\") #Valid\n",
        "        print(\"C\") #Valid"
      ],
      "execution_count": null,
      "outputs": [
        {
          "name": "stdout",
          "output_type": "stream",
          "text": [
            "A\n",
            "B\n",
            "C\n"
          ]
        }
      ]
    },
    {
      "cell_type": "markdown",
      "metadata": {
        "id": "vEn-x5-tjwRG"
      },
      "source": [
        "## if.. else.."
      ]
    },
    {
      "cell_type": "code",
      "metadata": {
        "id": "UgO13ttBjwRH"
      },
      "source": [
        "\"\"\"\n",
        "syntax of if else\n",
        "\n",
        "if(condition/s):\n",
        "    statement1\n",
        "    statement2\n",
        "    ..........\n",
        "else:\n",
        "    statement1\n",
        "    statement2\n",
        "    ..........\n",
        "\"\"\""
      ],
      "execution_count": null,
      "outputs": []
    },
    {
      "cell_type": "code",
      "metadata": {
        "id": "2HebaZqhjwRH",
        "outputId": "eab5e61f-a6e1-4ac8-b55c-9da8881b2244"
      },
      "source": [
        "#Ex1) \n",
        "num1 = 10\n",
        "num2 = 5\n",
        "\n",
        "if(num1 == num2):\n",
        "    print(\"equal\")\n",
        "else:\n",
        "    print(\"Not equal\")"
      ],
      "execution_count": null,
      "outputs": [
        {
          "name": "stdout",
          "output_type": "stream",
          "text": [
            "Not equal\n"
          ]
        }
      ]
    },
    {
      "cell_type": "code",
      "metadata": {
        "id": "hbRyFsKajwRW",
        "outputId": "b3d48c28-bb21-445e-c58f-740bdd60fde2"
      },
      "source": [
        "#Ex2)\n",
        "if(num1<num2):\n",
        "    print(\"num1 is less than num2\")\n",
        "else:\n",
        "    print(\"num1 is greater than num2\")"
      ],
      "execution_count": null,
      "outputs": [
        {
          "name": "stdout",
          "output_type": "stream",
          "text": [
            "num1 is greater than num2\n"
          ]
        }
      ]
    },
    {
      "cell_type": "markdown",
      "metadata": {
        "id": "Wr5qbgHNjwRX"
      },
      "source": [
        "## if .. elif .. else"
      ]
    },
    {
      "cell_type": "code",
      "metadata": {
        "id": "gMnW5_5SjwRX"
      },
      "source": [
        "\"\"\"\n",
        "syntax of if else\n",
        "\n",
        "if(condition/s):\n",
        "    statement1\n",
        "    statement2\n",
        "    ..........\n",
        "elif(condition/s):\n",
        "    statement1\n",
        "    statement2\n",
        "    ..........\n",
        "else:\n",
        "    statement1\n",
        "    statement2\n",
        "    ..........\n",
        "\"\"\""
      ],
      "execution_count": null,
      "outputs": []
    },
    {
      "cell_type": "code",
      "metadata": {
        "id": "6dvfdXk4jwRY",
        "outputId": "baf1c338-c3b7-427b-f113-4dbfe1121400"
      },
      "source": [
        "#Ex1)\n",
        "num1 = 10\n",
        "num2 = 10\n",
        "\n",
        "if(num1 == num2):\n",
        "    print(\"Equal\")\n",
        "elif(num1>num2):\n",
        "    print('num1 is greater than num2')\n",
        "    \n",
        "else:\n",
        "    print('num1 is less than num2')\n"
      ],
      "execution_count": null,
      "outputs": [
        {
          "name": "stdout",
          "output_type": "stream",
          "text": [
            "Equal\n"
          ]
        }
      ]
    },
    {
      "cell_type": "markdown",
      "metadata": {
        "id": "1Oa7SxgejwRZ"
      },
      "source": [
        "## Multiple conditions\n",
        "by using or & and operators"
      ]
    },
    {
      "cell_type": "code",
      "metadata": {
        "id": "jcBG1bPCjwRa",
        "outputId": "39ff7775-c3fc-4517-8cba-884057709e9b"
      },
      "source": [
        "#Ex1) or\n",
        "num1 =7\n",
        "# it should be positive\n",
        "# or it should be divisible by 2\n",
        "# or it should be divisible by 3\n",
        "\n",
        "if(num1>0 or num1%2 == 0 or num1%3 == 0):\n",
        "    print(\"Satisfied\")\n",
        "else:\n",
        "    print(\"Not satisfied\")"
      ],
      "execution_count": null,
      "outputs": [
        {
          "name": "stdout",
          "output_type": "stream",
          "text": [
            "Satisfied\n"
          ]
        }
      ]
    },
    {
      "cell_type": "code",
      "metadata": {
        "id": "2jB5UupojwRb",
        "outputId": "5e22f15c-153e-4791-cff0-30b470d4270e"
      },
      "source": [
        "#Ex2) and\n",
        "num1 = 6\n",
        "if(num1>0 and num1%2 == 0 and num1%3 == 0):\n",
        "    print(\"Satisfied\")\n",
        "else:\n",
        "    print(\"Not satisfied\")\n"
      ],
      "execution_count": null,
      "outputs": [
        {
          "name": "stdout",
          "output_type": "stream",
          "text": [
            "Satisfied\n"
          ]
        }
      ]
    },
    {
      "cell_type": "markdown",
      "metadata": {
        "id": "5Am6N0tPjwRc"
      },
      "source": [
        "## Nested if else"
      ]
    },
    {
      "cell_type": "code",
      "metadata": {
        "id": "gkrz_DT3jwRc",
        "outputId": "63584b69-e23f-401c-a0b9-bb6c7dde176f"
      },
      "source": [
        "#Ex1)\n",
        "num1 = 3\n",
        "if(num1>0):\n",
        "    print(\"positive number\")\n",
        "    if(num1%2 == 0):\n",
        "        print(\"Divisible by 2\")\n",
        "    elif(num1%3 == 0):\n",
        "        print(\"Divisible by 3\")\n",
        "    else:\n",
        "        print(\"Not divisible by 2 or 3\")\n",
        "else:\n",
        "    print(\"negative number\")"
      ],
      "execution_count": null,
      "outputs": [
        {
          "name": "stdout",
          "output_type": "stream",
          "text": [
            "positive number\n",
            "Divisible by 3\n"
          ]
        }
      ]
    },
    {
      "cell_type": "code",
      "metadata": {
        "id": "NhHBadanjwRd"
      },
      "source": [
        ""
      ],
      "execution_count": null,
      "outputs": []
    },
    {
      "cell_type": "markdown",
      "metadata": {
        "id": "SZGX3AfEjwRd"
      },
      "source": [
        "### Task9\n",
        "* Ask 2 numbers from users and store it in num1 and num2\n",
        "* Ask user to press 1 for addition,2 for subtraction,3 for multiplication and 4 for division\n",
        "* based on number given by user do the math operation"
      ]
    },
    {
      "cell_type": "code",
      "metadata": {
        "colab": {
          "base_uri": "https://localhost:8080/"
        },
        "id": "CC5etJXJjwRe",
        "outputId": "2e3e16d3-0772-4ca0-befe-fc87c5aa76e3"
      },
      "source": [
        "num1 = int(input(\"Enter First Number: \"))\n",
        "num2 = int(input(\"Enter Second Number: \"))\n",
        "\n",
        "print(\"Enter which operation would you like to perform?\")\n",
        "ch = input(\"press 1 for addition,2 for subtraction,3 for multiplication and 4 for division \")\n",
        "\n",
        "result = 0\n",
        "if ch == '1':\n",
        "    result = num1 + num2\n",
        "elif ch == '2':\n",
        "    result = num1 - num2\n",
        "elif ch == '3':\n",
        "    result = num1 * num2\n",
        "elif ch == '4':\n",
        "    result = num1 / num2\n",
        "else:\n",
        "    print(\"Input character is not recognized!\")\n",
        "\n",
        "print(\"result\", result)"
      ],
      "execution_count": 3,
      "outputs": [
        {
          "output_type": "stream",
          "name": "stdout",
          "text": [
            "Enter First Number: 6\n",
            "Enter Second Number: 5\n",
            "Enter which operation would you like to perform?\n",
            "press 1 for addition,2 for subtraction,3 for multiplication and 4 for division 2\n",
            "result 1\n"
          ]
        }
      ]
    }
  ]
}