{
  "nbformat": 4,
  "nbformat_minor": 0,
  "metadata": {
    "kernelspec": {
      "display_name": "Python 3",
      "language": "python",
      "name": "python3"
    },
    "language_info": {
      "codemirror_mode": {
        "name": "ipython",
        "version": 3
      },
      "file_extension": ".py",
      "mimetype": "text/x-python",
      "name": "python",
      "nbconvert_exporter": "python",
      "pygments_lexer": "ipython3",
      "version": "3.8.3"
    },
    "colab": {
      "name": "03 - Lists.ipynb",
      "provenance": [],
      "collapsed_sections": [
        "1yWuwzts74IN"
      ]
    }
  },
  "cells": [
    {
      "cell_type": "markdown",
      "metadata": {
        "id": "P4ltOaqn74Hz"
      },
      "source": [
        "## Lists\n",
        "In Python lists are written with square brackets.\n",
        "#### Important properties of lists\n",
        "\n",
        "* Can store different data types\n",
        "* Duplicate values are allowed\n",
        "* Order is retained\n",
        "* Indexing and slicing is possible\n",
        "* Mutable"
      ]
    },
    {
      "cell_type": "code",
      "metadata": {
        "id": "wxOAXUkK74H7"
      },
      "source": [
        "list1 = [1,2,3,4.5,5.5,\"maths\",\"python\",True,False]"
      ],
      "execution_count": null,
      "outputs": []
    },
    {
      "cell_type": "code",
      "metadata": {
        "id": "lIK6LOsW74H9",
        "outputId": "02c23d2b-0330-45fb-b316-29bc00b517fe"
      },
      "source": [
        "list1"
      ],
      "execution_count": null,
      "outputs": [
        {
          "data": {
            "text/plain": [
              "[1, 2, 3, 4.5, 5.5, 'maths', 'python', True, False]"
            ]
          },
          "execution_count": 2,
          "metadata": {},
          "output_type": "execute_result"
        }
      ]
    },
    {
      "cell_type": "code",
      "metadata": {
        "id": "AjQAKGvh74H_"
      },
      "source": [
        "list2 = [1,2,3,4,5,1,1]"
      ],
      "execution_count": null,
      "outputs": []
    },
    {
      "cell_type": "code",
      "metadata": {
        "id": "jXJcKSOy74H_",
        "outputId": "c3d76839-5130-4bc9-b68e-5f92907a268c"
      },
      "source": [
        "list2"
      ],
      "execution_count": null,
      "outputs": [
        {
          "data": {
            "text/plain": [
              "[1, 2, 3, 4, 5, 1, 1]"
            ]
          },
          "execution_count": 4,
          "metadata": {},
          "output_type": "execute_result"
        }
      ]
    },
    {
      "cell_type": "code",
      "metadata": {
        "id": "tZwQShWg74IA",
        "outputId": "b450bf9c-9739-4fa0-e04d-f9b40bfb20c8"
      },
      "source": [
        "# check the type using type()\n",
        "type(list2)"
      ],
      "execution_count": null,
      "outputs": [
        {
          "data": {
            "text/plain": [
              "list"
            ]
          },
          "execution_count": 5,
          "metadata": {},
          "output_type": "execute_result"
        }
      ]
    },
    {
      "cell_type": "code",
      "metadata": {
        "id": "hGwxTx3r74IB",
        "outputId": "6175fbff-bb56-4ef0-f5f6-d987bc1fa3f3"
      },
      "source": [
        "# to check the length of the lists\n",
        "len(list1)"
      ],
      "execution_count": null,
      "outputs": [
        {
          "data": {
            "text/plain": [
              "9"
            ]
          },
          "execution_count": 6,
          "metadata": {},
          "output_type": "execute_result"
        }
      ]
    },
    {
      "cell_type": "markdown",
      "metadata": {
        "id": "GYxc4dzz74IC"
      },
      "source": [
        "#### Indexing\n",
        "Indexing starts from 0(zero). Very much similar to what we have learnt in our previous class"
      ]
    },
    {
      "cell_type": "code",
      "metadata": {
        "colab": {
          "base_uri": "https://localhost:8080/"
        },
        "id": "_OWIQ_2-74ID",
        "outputId": "015f1f4b-f6e4-4718-d7c8-98012065ec0c"
      },
      "source": [
        "# to get the first element\n",
        "list1 = [1,2,3,4,5,6,7,8,9]\n",
        "list1[0]"
      ],
      "execution_count": 1,
      "outputs": [
        {
          "output_type": "execute_result",
          "data": {
            "text/plain": [
              "1"
            ]
          },
          "metadata": {},
          "execution_count": 1
        }
      ]
    },
    {
      "cell_type": "code",
      "metadata": {
        "colab": {
          "base_uri": "https://localhost:8080/"
        },
        "id": "OZjQPs6874IG",
        "outputId": "88382f83-b22e-4c09-ee94-b8c43d9763d4"
      },
      "source": [
        "# to get the third element\n",
        "list1[2]"
      ],
      "execution_count": 2,
      "outputs": [
        {
          "output_type": "execute_result",
          "data": {
            "text/plain": [
              "3"
            ]
          },
          "metadata": {},
          "execution_count": 2
        }
      ]
    },
    {
      "cell_type": "code",
      "metadata": {
        "id": "x5DwYlRr74IH",
        "outputId": "16ab7e4a-7fb5-414c-c7a2-f480f2cc6977"
      },
      "source": [
        "# to get the last element\n",
        "list1[8]"
      ],
      "execution_count": null,
      "outputs": [
        {
          "data": {
            "text/plain": [
              "9"
            ]
          },
          "execution_count": 9,
          "metadata": {},
          "output_type": "execute_result"
        }
      ]
    },
    {
      "cell_type": "markdown",
      "metadata": {
        "id": "zxGhdlRe74II"
      },
      "source": [
        "#### Slicing"
      ]
    },
    {
      "cell_type": "code",
      "metadata": {
        "id": "IGY1dJmX74II"
      },
      "source": [
        "# [start:stop:step]\n",
        "\n",
        "# start = starting position (default value is 0)\n",
        "# stop = end position(exclusive) (default value is end position)\n",
        "# step = step size or increment size (default value is 1)"
      ],
      "execution_count": null,
      "outputs": []
    },
    {
      "cell_type": "code",
      "metadata": {
        "id": "kAMEc-HS74IJ",
        "outputId": "2458c1b3-1e43-43e1-a2cd-75dde64c096c"
      },
      "source": [
        "# to get first 5 elements \n",
        "list1[:5]"
      ],
      "execution_count": null,
      "outputs": [
        {
          "data": {
            "text/plain": [
              "[1, 2, 3, 4, 5]"
            ]
          },
          "execution_count": 11,
          "metadata": {},
          "output_type": "execute_result"
        }
      ]
    },
    {
      "cell_type": "code",
      "metadata": {
        "id": "WOPxiBBM74IK",
        "outputId": "77a323a5-40e7-47d4-8822-d486357d355a"
      },
      "source": [
        "# to get last 5 elements \n",
        "list1[-5:]"
      ],
      "execution_count": null,
      "outputs": [
        {
          "data": {
            "text/plain": [
              "[5, 6, 7, 8, 9]"
            ]
          },
          "execution_count": 12,
          "metadata": {},
          "output_type": "execute_result"
        }
      ]
    },
    {
      "cell_type": "code",
      "metadata": {
        "id": "T-bySNt074IL",
        "outputId": "7c76a440-9ab4-4711-a294-a7cf666a9309"
      },
      "source": [
        "# to get alternate elements \n",
        "list1 = [1,2,3,4,5,6,7,8,9]\n",
        "list1[::2]"
      ],
      "execution_count": null,
      "outputs": [
        {
          "data": {
            "text/plain": [
              "[1, 3, 5, 7, 9]"
            ]
          },
          "execution_count": 13,
          "metadata": {},
          "output_type": "execute_result"
        }
      ]
    },
    {
      "cell_type": "code",
      "metadata": {
        "id": "ZFfO8LRd74IM",
        "outputId": "9d9a12cc-367f-4404-83cc-c0918b67f96f"
      },
      "source": [
        "# to get every 3rd element from the starting position\n",
        "list1"
      ],
      "execution_count": null,
      "outputs": [
        {
          "data": {
            "text/plain": [
              "[1, 2, 3, 4, 5, 6, 7, 8, 9]"
            ]
          },
          "execution_count": 14,
          "metadata": {},
          "output_type": "execute_result"
        }
      ]
    },
    {
      "cell_type": "code",
      "metadata": {
        "id": "vDeT1qTl74IM",
        "outputId": "13d99034-f408-4392-f78b-aa428384ada0"
      },
      "source": [
        "list1[::3]"
      ],
      "execution_count": null,
      "outputs": [
        {
          "data": {
            "text/plain": [
              "[1, 4, 7]"
            ]
          },
          "execution_count": 15,
          "metadata": {},
          "output_type": "execute_result"
        }
      ]
    },
    {
      "cell_type": "markdown",
      "metadata": {
        "id": "1yWuwzts74IN"
      },
      "source": [
        "#### mutable"
      ]
    },
    {
      "cell_type": "code",
      "metadata": {
        "id": "BFt8tTAw74IN",
        "outputId": "bf5ca054-b00f-4e3f-e167-53a05f559765"
      },
      "source": [
        "# to change the first value\n",
        "list1[0] = 100\n",
        "list1"
      ],
      "execution_count": null,
      "outputs": [
        {
          "data": {
            "text/plain": [
              "[100, 2, 3, 4, 5, 6, 7, 8, 9]"
            ]
          },
          "execution_count": 16,
          "metadata": {},
          "output_type": "execute_result"
        }
      ]
    },
    {
      "cell_type": "code",
      "metadata": {
        "id": "WTLMBuX274IO",
        "outputId": "d53a3355-51cc-492e-b825-0f97a2a95bc5"
      },
      "source": [
        "# similarly you can change any values based on index position\n",
        "list1[2] = 300\n",
        "list1"
      ],
      "execution_count": null,
      "outputs": [
        {
          "data": {
            "text/plain": [
              "[100, 2, 300, 4, 5, 6, 7, 8, 9]"
            ]
          },
          "execution_count": 17,
          "metadata": {},
          "output_type": "execute_result"
        }
      ]
    },
    {
      "cell_type": "markdown",
      "metadata": {
        "id": "Qwuu8jIP74IO"
      },
      "source": [
        "#### some inbuilt methods"
      ]
    },
    {
      "cell_type": "code",
      "metadata": {
        "id": "nbqUnidP74IO",
        "outputId": "cd4fb74c-c496-425d-c32d-bd9c5ffccc1d"
      },
      "source": [
        "# my_list\n",
        "my_list = [1,2,3,True]\n",
        "my_list"
      ],
      "execution_count": null,
      "outputs": [
        {
          "data": {
            "text/plain": [
              "[1, 2, 3, True]"
            ]
          },
          "execution_count": 18,
          "metadata": {},
          "output_type": "execute_result"
        }
      ]
    },
    {
      "cell_type": "markdown",
      "metadata": {
        "id": "aSMkcJAg74IP"
      },
      "source": [
        "##### 1) .append(val)\n",
        "appends the value at the end of the list"
      ]
    },
    {
      "cell_type": "code",
      "metadata": {
        "id": "a7BK1S__74IP",
        "outputId": "6fecf693-5be4-475c-f4d1-2d538deca7f3"
      },
      "source": [
        "my_list.append(\"Python\")\n",
        "print(my_list)"
      ],
      "execution_count": null,
      "outputs": [
        {
          "name": "stdout",
          "output_type": "stream",
          "text": [
            "[1, 2, 3, True, 'Python']\n"
          ]
        }
      ]
    },
    {
      "cell_type": "code",
      "metadata": {
        "id": "Z7HUrGIV74IP",
        "outputId": "8bc54af4-f457-40df-8e95-8c1a0ef3a36e"
      },
      "source": [
        "my_list.append(\"ML\")\n",
        "print(my_list)"
      ],
      "execution_count": null,
      "outputs": [
        {
          "name": "stdout",
          "output_type": "stream",
          "text": [
            "[1, 2, 3, True, 'Python', 'ML']\n"
          ]
        }
      ]
    },
    {
      "cell_type": "code",
      "metadata": {
        "id": "p5T7tQSJ74IQ",
        "outputId": "7225d7ff-f776-4841-91a2-20e9c09217af"
      },
      "source": [
        "my_list"
      ],
      "execution_count": null,
      "outputs": [
        {
          "data": {
            "text/plain": [
              "[1, 2, 3, True, 'Python', 'ML']"
            ]
          },
          "execution_count": 21,
          "metadata": {},
          "output_type": "execute_result"
        }
      ]
    },
    {
      "cell_type": "markdown",
      "metadata": {
        "id": "Zn3oHsUr74IQ"
      },
      "source": [
        "##### 2) insert(pos,element)\n",
        "inserts the element at the specified index"
      ]
    },
    {
      "cell_type": "code",
      "metadata": {
        "id": "JDRzxt0074IR"
      },
      "source": [
        "# to insert value 4 after 3\n",
        "my_list.insert(3,4)"
      ],
      "execution_count": null,
      "outputs": []
    },
    {
      "cell_type": "code",
      "metadata": {
        "id": "poCtpdiZ74IR",
        "outputId": "ab9106f2-cef5-4844-8f97-2797d93b6a24"
      },
      "source": [
        "my_list"
      ],
      "execution_count": null,
      "outputs": [
        {
          "data": {
            "text/plain": [
              "[1, 2, 3, 4, True, 'Python', 'ML']"
            ]
          },
          "execution_count": 23,
          "metadata": {},
          "output_type": "execute_result"
        }
      ]
    },
    {
      "cell_type": "code",
      "metadata": {
        "id": "jwmJYwfn74IR"
      },
      "source": [
        "# to insert value False after True\n",
        "my_list.insert(0,False)"
      ],
      "execution_count": null,
      "outputs": []
    },
    {
      "cell_type": "code",
      "metadata": {
        "id": "XyqBgFw774IS",
        "outputId": "164c6e26-35b3-4cbb-a2aa-f0471f77586d"
      },
      "source": [
        "my_list"
      ],
      "execution_count": null,
      "outputs": [
        {
          "data": {
            "text/plain": [
              "[False, 1, 2, 3, 4, True, 'Python', 'ML']"
            ]
          },
          "execution_count": 25,
          "metadata": {},
          "output_type": "execute_result"
        }
      ]
    },
    {
      "cell_type": "markdown",
      "metadata": {
        "id": "PYfeiTPe74IS"
      },
      "source": [
        "##### copying the lists\n",
        "1) my_list_copy = my_list\n",
        "\n",
        "2) my_list_copy = my_list.copy()"
      ]
    },
    {
      "cell_type": "code",
      "metadata": {
        "id": "4DtVR_8G74IT",
        "outputId": "112fcd0c-413b-4724-8443-a4f0c9726351"
      },
      "source": [
        "my_list"
      ],
      "execution_count": null,
      "outputs": [
        {
          "data": {
            "text/plain": [
              "[False, 1, 2, 3, 4, True, 'Python', 'ML']"
            ]
          },
          "execution_count": 26,
          "metadata": {},
          "output_type": "execute_result"
        }
      ]
    },
    {
      "cell_type": "code",
      "metadata": {
        "id": "iZEbCUMS74IT"
      },
      "source": [
        "my_list_copy = my_list"
      ],
      "execution_count": null,
      "outputs": []
    },
    {
      "cell_type": "code",
      "metadata": {
        "id": "BxlmQ0h874IT",
        "outputId": "71975f6a-de33-4d46-a4b6-c330277d4dfc"
      },
      "source": [
        "print(my_list)\n",
        "print(my_list_copy)"
      ],
      "execution_count": null,
      "outputs": [
        {
          "name": "stdout",
          "output_type": "stream",
          "text": [
            "[False, 1, 2, 3, 4, True, 'Python', 'ML']\n",
            "[False, 1, 2, 3, 4, True, 'Python', 'ML']\n"
          ]
        }
      ]
    },
    {
      "cell_type": "code",
      "metadata": {
        "id": "MWXrR6VZ74IU",
        "outputId": "f21846ae-329a-4627-9f98-9689e69e1804"
      },
      "source": [
        "my_list_copy = my_list.copy()\n",
        "print(my_list)\n",
        "print(my_list_copy)"
      ],
      "execution_count": null,
      "outputs": [
        {
          "name": "stdout",
          "output_type": "stream",
          "text": [
            "[False, 1, 2, 3, 4, True, 'Python', 'ML']\n",
            "[False, 1, 2, 3, 4, True, 'Python', 'ML']\n"
          ]
        }
      ]
    },
    {
      "cell_type": "markdown",
      "metadata": {
        "id": "TRtY0EnW74IU"
      },
      "source": [
        "##### Problem with assignment (=)"
      ]
    },
    {
      "cell_type": "code",
      "metadata": {
        "id": "hJfTPskq74IV",
        "outputId": "290bcbd3-35cc-4aae-fa2e-fbebed7bd0d3"
      },
      "source": [
        "my_list_copy = my_list\n",
        "print(my_list)\n"
      ],
      "execution_count": null,
      "outputs": [
        {
          "name": "stdout",
          "output_type": "stream",
          "text": [
            "[False, 1, 2, 3, 4, True, 'Python', 'ML']\n"
          ]
        }
      ]
    },
    {
      "cell_type": "code",
      "metadata": {
        "id": "VyIfBqFp74IW",
        "outputId": "fcb11b99-01cf-4e51-bc01-613dab968288"
      },
      "source": [
        "print(my_list_copy)"
      ],
      "execution_count": null,
      "outputs": [
        {
          "name": "stdout",
          "output_type": "stream",
          "text": [
            "[False, 1, 2, 3, 4, True, 'Python', 'ML']\n"
          ]
        }
      ]
    },
    {
      "cell_type": "code",
      "metadata": {
        "id": "AX6NNy1e74IW"
      },
      "source": [
        "my_list_copy[0] = 100"
      ],
      "execution_count": null,
      "outputs": []
    },
    {
      "cell_type": "code",
      "metadata": {
        "id": "bQ8HPXUY74IX",
        "outputId": "4f486261-742b-437d-c3f3-d94ca932f6e8"
      },
      "source": [
        "my_list_copy"
      ],
      "execution_count": null,
      "outputs": [
        {
          "data": {
            "text/plain": [
              "[100, 1, 2, 3, 4, True, 'Python', 'ML']"
            ]
          },
          "execution_count": 33,
          "metadata": {},
          "output_type": "execute_result"
        }
      ]
    },
    {
      "cell_type": "markdown",
      "metadata": {
        "id": "xQPUC4yN74IX"
      },
      "source": [
        "###### Note: original list is also getting modified"
      ]
    },
    {
      "cell_type": "code",
      "metadata": {
        "id": "SpOsCfx674IY",
        "outputId": "9c7468ae-5490-4cdf-e465-a4084600595e"
      },
      "source": [
        "my_list"
      ],
      "execution_count": null,
      "outputs": [
        {
          "data": {
            "text/plain": [
              "[100, 1, 2, 3, 4, True, 'Python', 'ML']"
            ]
          },
          "execution_count": 34,
          "metadata": {},
          "output_type": "execute_result"
        }
      ]
    },
    {
      "cell_type": "markdown",
      "metadata": {
        "id": "84mK67Ao74IY"
      },
      "source": [
        "##### 3) .copy()"
      ]
    },
    {
      "cell_type": "code",
      "metadata": {
        "id": "I3oiz8cH74IZ",
        "outputId": "0d89c0db-fcdc-40d4-ca34-824c12380e41"
      },
      "source": [
        "my_list_copy = my_list.copy()\n",
        "print(my_list)"
      ],
      "execution_count": null,
      "outputs": [
        {
          "name": "stdout",
          "output_type": "stream",
          "text": [
            "[100, 1, 2, 3, 4, True, 'Python', 'ML']\n"
          ]
        }
      ]
    },
    {
      "cell_type": "code",
      "metadata": {
        "id": "LxzL-10x74IZ",
        "outputId": "a8b4c42f-ac4f-41ee-c0be-4f7409d8e66d"
      },
      "source": [
        "my_list_copy"
      ],
      "execution_count": null,
      "outputs": [
        {
          "data": {
            "text/plain": [
              "[100, 1, 2, 3, 4, True, 'Python', 'ML']"
            ]
          },
          "execution_count": 36,
          "metadata": {},
          "output_type": "execute_result"
        }
      ]
    },
    {
      "cell_type": "code",
      "metadata": {
        "id": "rdi-IaqJ74IZ"
      },
      "source": [
        "my_list_copy[0] = 0"
      ],
      "execution_count": null,
      "outputs": []
    },
    {
      "cell_type": "code",
      "metadata": {
        "id": "Awlqan8q74IZ",
        "outputId": "50e397d1-b38d-4447-9a34-b351731aa468"
      },
      "source": [
        "my_list_copy"
      ],
      "execution_count": null,
      "outputs": [
        {
          "data": {
            "text/plain": [
              "[0, 1, 2, 3, 4, True, 'Python', 'ML']"
            ]
          },
          "execution_count": 38,
          "metadata": {},
          "output_type": "execute_result"
        }
      ]
    },
    {
      "cell_type": "markdown",
      "metadata": {
        "id": "K5EyvGCw74Ia"
      },
      "source": [
        "##### Note: Original list is not getting modified"
      ]
    },
    {
      "cell_type": "code",
      "metadata": {
        "id": "NMI7n5bB74Ia",
        "outputId": "e68c3c94-d920-46d1-ebf1-9727dbac16c9"
      },
      "source": [
        "my_list"
      ],
      "execution_count": null,
      "outputs": [
        {
          "data": {
            "text/plain": [
              "[100, 1, 2, 3, 4, True, 'Python', 'ML']"
            ]
          },
          "execution_count": 39,
          "metadata": {},
          "output_type": "execute_result"
        }
      ]
    },
    {
      "cell_type": "markdown",
      "metadata": {
        "id": "NcV6oJB974Ia"
      },
      "source": [
        "##### 4) .extend()\n",
        "syntax ----> list1.extend(list2)"
      ]
    },
    {
      "cell_type": "code",
      "metadata": {
        "id": "9SnIQC8r74Ia",
        "outputId": "f891b2e4-1fee-44b3-c392-b2327d4cd026"
      },
      "source": [
        "list1 = [1,2,3,4]\n",
        "list2 = ['a','b','c','d']\n",
        "list3 = [True,False]\n",
        "\n",
        "list1.extend(list2)\n",
        "list1.extend(list3)\n",
        "list1"
      ],
      "execution_count": null,
      "outputs": [
        {
          "data": {
            "text/plain": [
              "[1, 2, 3, 4, 'a', 'b', 'c', 'd', True, False]"
            ]
          },
          "execution_count": 40,
          "metadata": {},
          "output_type": "execute_result"
        }
      ]
    },
    {
      "cell_type": "code",
      "metadata": {
        "id": "k3Iml-UK74Ib",
        "outputId": "0150a480-a48f-4303-c074-e61465d80670"
      },
      "source": [
        "# similar to addition of lists\n",
        "list1 = [1,2,3,4]\n",
        "list2 = ['a','b','c','d']\n",
        "list3 = [True,False]\n",
        "\n",
        "list1 = list1+list2+list3\n",
        "list1"
      ],
      "execution_count": null,
      "outputs": [
        {
          "data": {
            "text/plain": [
              "[1, 2, 3, 4, 'a', 'b', 'c', 'd', True, False]"
            ]
          },
          "execution_count": 41,
          "metadata": {},
          "output_type": "execute_result"
        }
      ]
    },
    {
      "cell_type": "markdown",
      "metadata": {
        "id": "pQMFMlnu74Ib"
      },
      "source": [
        "##### 5) .pop(index)\n",
        "removes the element from specified index and returns the element."
      ]
    },
    {
      "cell_type": "code",
      "metadata": {
        "id": "F89th7FR74Ib"
      },
      "source": [
        "list1 = [1,2,3,4,5,6,7,8,9]"
      ],
      "execution_count": null,
      "outputs": []
    },
    {
      "cell_type": "code",
      "metadata": {
        "id": "TLvAu6Ia74Ic"
      },
      "source": [
        "rem = list1.pop(2)"
      ],
      "execution_count": null,
      "outputs": []
    },
    {
      "cell_type": "code",
      "metadata": {
        "id": "dFkKNXm074Ic",
        "outputId": "509a85db-d143-48ac-d62a-3669a9adaba4"
      },
      "source": [
        "print(rem)"
      ],
      "execution_count": null,
      "outputs": [
        {
          "name": "stdout",
          "output_type": "stream",
          "text": [
            "3\n"
          ]
        }
      ]
    },
    {
      "cell_type": "code",
      "metadata": {
        "id": "jf9e_Ugm74Ic",
        "outputId": "e6cc8a77-34af-4bab-a22a-8fddd863356d"
      },
      "source": [
        "list1"
      ],
      "execution_count": null,
      "outputs": [
        {
          "data": {
            "text/plain": [
              "[1, 2, 4, 5, 6, 7, 8, 9]"
            ]
          },
          "execution_count": 45,
          "metadata": {},
          "output_type": "execute_result"
        }
      ]
    },
    {
      "cell_type": "markdown",
      "metadata": {
        "id": "vlL8goCw74Ic"
      },
      "source": [
        "#### Exercises on List"
      ]
    },
    {
      "cell_type": "code",
      "metadata": {
        "id": "WAwIgQGU74Id",
        "outputId": "dfd132d0-7c3e-4152-ead0-196f35a2b233"
      },
      "source": [
        "list1 = [[1,2,3],[4,5,6],[7,8,9]]\n",
        "list1"
      ],
      "execution_count": null,
      "outputs": [
        {
          "data": {
            "text/plain": [
              "[[1, 2, 3], [4, 5, 6], [7, 8, 9]]"
            ]
          },
          "execution_count": 46,
          "metadata": {},
          "output_type": "execute_result"
        }
      ]
    },
    {
      "cell_type": "code",
      "metadata": {
        "id": "Bk-FjEBo74Id",
        "outputId": "da20148c-dd2f-4619-82a1-9d372ec09c76"
      },
      "source": [
        "#to access element 1\n",
        "list1[0][0]"
      ],
      "execution_count": null,
      "outputs": [
        {
          "data": {
            "text/plain": [
              "1"
            ]
          },
          "execution_count": 47,
          "metadata": {},
          "output_type": "execute_result"
        }
      ]
    },
    {
      "cell_type": "code",
      "metadata": {
        "id": "MRXytIPx74Id",
        "outputId": "0c860faa-51db-4101-b2ae-eaa383b2ce48"
      },
      "source": [
        "#to access elemnt 5\n",
        "list1[1][1]"
      ],
      "execution_count": null,
      "outputs": [
        {
          "data": {
            "text/plain": [
              "5"
            ]
          },
          "execution_count": 48,
          "metadata": {},
          "output_type": "execute_result"
        }
      ]
    },
    {
      "cell_type": "code",
      "metadata": {
        "id": "dG9kn4Cc74Ie",
        "outputId": "c80bf719-d983-48da-9529-0ba0227f6fad"
      },
      "source": [
        "#to access 8\n",
        "list1[2][1]"
      ],
      "execution_count": null,
      "outputs": [
        {
          "data": {
            "text/plain": [
              "8"
            ]
          },
          "execution_count": 49,
          "metadata": {},
          "output_type": "execute_result"
        }
      ]
    },
    {
      "cell_type": "code",
      "metadata": {
        "id": "z3BIlmPu74Ie"
      },
      "source": [
        ""
      ],
      "execution_count": null,
      "outputs": []
    },
    {
      "cell_type": "code",
      "metadata": {
        "id": "n1DW5Bb974Ie",
        "outputId": "0fd09611-4303-4228-909b-3e837136f9cb"
      },
      "source": [
        "list2 = [1,2,[3,4,5,6,[7,8,9]]]\n",
        "list2"
      ],
      "execution_count": null,
      "outputs": [
        {
          "data": {
            "text/plain": [
              "[1, 2, [3, 4, 5, 6, [7, 8, 9]]]"
            ]
          },
          "execution_count": 50,
          "metadata": {},
          "output_type": "execute_result"
        }
      ]
    },
    {
      "cell_type": "code",
      "metadata": {
        "id": "AdFm6osU74Ie",
        "outputId": "377cad15-b79b-4e24-9f5e-6faaa071b5dd"
      },
      "source": [
        "#to access element 2\n",
        "list2[1]"
      ],
      "execution_count": null,
      "outputs": [
        {
          "data": {
            "text/plain": [
              "2"
            ]
          },
          "execution_count": 51,
          "metadata": {},
          "output_type": "execute_result"
        }
      ]
    },
    {
      "cell_type": "code",
      "metadata": {
        "id": "qSB7UtuS74If",
        "outputId": "272b2a0a-6bd9-47d5-8219-692523af2fc6"
      },
      "source": [
        "#to access element 4\n",
        "list2[2][1]"
      ],
      "execution_count": null,
      "outputs": [
        {
          "data": {
            "text/plain": [
              "4"
            ]
          },
          "execution_count": 52,
          "metadata": {},
          "output_type": "execute_result"
        }
      ]
    },
    {
      "cell_type": "code",
      "metadata": {
        "id": "hp5oir1z74If",
        "outputId": "f35020e6-b420-419e-c49d-66b630059a00"
      },
      "source": [
        "#to access elements 7,8,9\n",
        "list2[2][4]"
      ],
      "execution_count": null,
      "outputs": [
        {
          "data": {
            "text/plain": [
              "[7, 8, 9]"
            ]
          },
          "execution_count": 53,
          "metadata": {},
          "output_type": "execute_result"
        }
      ]
    },
    {
      "cell_type": "code",
      "metadata": {
        "id": "qh7Ac5rw74If",
        "outputId": "59d196e7-c011-4b7c-c4f6-1866fdcb7b1f"
      },
      "source": [
        "#to access element 9\n",
        "list2[2][4][2]"
      ],
      "execution_count": null,
      "outputs": [
        {
          "data": {
            "text/plain": [
              "9"
            ]
          },
          "execution_count": 54,
          "metadata": {},
          "output_type": "execute_result"
        }
      ]
    },
    {
      "cell_type": "code",
      "metadata": {
        "id": "1coIJPea74If",
        "outputId": "cd242268-e13c-481a-f4ab-7c3f8e960160"
      },
      "source": [
        "#to access 3,4,5,6\n",
        "list2[2][:4]"
      ],
      "execution_count": null,
      "outputs": [
        {
          "data": {
            "text/plain": [
              "[3, 4, 5, 6]"
            ]
          },
          "execution_count": 55,
          "metadata": {},
          "output_type": "execute_result"
        }
      ]
    },
    {
      "cell_type": "markdown",
      "metadata": {
        "id": "M5l2p_Vx74Ig"
      },
      "source": [
        "#### Task-3.1 \n",
        "go through other inbuilt methods like remove(),count(),clear(),sort(),reverse()"
      ]
    },
    {
      "cell_type": "code",
      "metadata": {
        "colab": {
          "base_uri": "https://localhost:8080/"
        },
        "id": "FnYcKufy8LT9",
        "outputId": "25035b60-aa0c-4c56-af55-6ccf2715aeb2"
      },
      "source": [
        "list10 = [1, \"Hello\", 3.4 , 6 , 2, 4, 6, 8]\n",
        "list10\n"
      ],
      "execution_count": 22,
      "outputs": [
        {
          "output_type": "execute_result",
          "data": {
            "text/plain": [
              "[1, 'Hello', 3.4, 6, 2, 4, 6, 8]"
            ]
          },
          "metadata": {},
          "execution_count": 22
        }
      ]
    },
    {
      "cell_type": "code",
      "metadata": {
        "colab": {
          "base_uri": "https://localhost:8080/"
        },
        "id": "zMnTTuZ0CHts",
        "outputId": "757eced3-3753-4002-d9a4-9ba46e2258ce"
      },
      "source": [
        "#remove()\n",
        "list10.remove(1)\n",
        "list10"
      ],
      "execution_count": 23,
      "outputs": [
        {
          "output_type": "execute_result",
          "data": {
            "text/plain": [
              "['Hello', 3.4, 6, 2, 4, 6, 8]"
            ]
          },
          "metadata": {},
          "execution_count": 23
        }
      ]
    },
    {
      "cell_type": "code",
      "metadata": {
        "colab": {
          "base_uri": "https://localhost:8080/"
        },
        "id": "PS48OuhjCqTB",
        "outputId": "09c3acbf-c257-46db-9a43-6af064dbf24f"
      },
      "source": [
        "#count()\n",
        "list10.count(6)"
      ],
      "execution_count": 24,
      "outputs": [
        {
          "output_type": "execute_result",
          "data": {
            "text/plain": [
              "2"
            ]
          },
          "metadata": {},
          "execution_count": 24
        }
      ]
    },
    {
      "cell_type": "code",
      "metadata": {
        "colab": {
          "base_uri": "https://localhost:8080/"
        },
        "id": "d0Hvdu0ZDG3P",
        "outputId": "d568d685-1589-49e7-b210-726e8096146f"
      },
      "source": [
        "#clear()\n",
        "list10.clear()\n",
        "list10"
      ],
      "execution_count": 25,
      "outputs": [
        {
          "output_type": "execute_result",
          "data": {
            "text/plain": [
              "[]"
            ]
          },
          "metadata": {},
          "execution_count": 25
        }
      ]
    },
    {
      "cell_type": "code",
      "metadata": {
        "colab": {
          "base_uri": "https://localhost:8080/"
        },
        "id": "daYIt2-5DW4O",
        "outputId": "eb221dc9-844a-41e8-c36e-315cadc41b1b"
      },
      "source": [
        "#sort()\n",
        "list11 = [6 , 2, 4, 6, 8 , 1, 3.4 ]\n",
        "list11.sort()\n",
        "print(list11)"
      ],
      "execution_count": 26,
      "outputs": [
        {
          "output_type": "stream",
          "name": "stdout",
          "text": [
            "[1, 2, 3.4, 4, 6, 6, 8]\n"
          ]
        }
      ]
    },
    {
      "cell_type": "code",
      "metadata": {
        "colab": {
          "base_uri": "https://localhost:8080/"
        },
        "id": "62utxlBWEZ8Z",
        "outputId": "d90afb23-a1d5-4442-c6f1-c314648eeab6"
      },
      "source": [
        "#reverse()\n",
        "list11.reverse()\n",
        "print(list11)"
      ],
      "execution_count": 27,
      "outputs": [
        {
          "output_type": "stream",
          "name": "stdout",
          "text": [
            "[8, 6, 6, 4, 3.4, 2, 1]\n"
          ]
        }
      ]
    },
    {
      "cell_type": "markdown",
      "metadata": {
        "id": "bBqp2LXM74Ig"
      },
      "source": [
        "#### Task 3.2"
      ]
    },
    {
      "cell_type": "code",
      "metadata": {
        "colab": {
          "base_uri": "https://localhost:8080/"
        },
        "id": "SGQFQzi474Ig",
        "outputId": "70405a4f-a01e-4d50-894b-fb829dcffcb8"
      },
      "source": [
        "# create a list of lenght = 10 and access 5th to 8th data.\n",
        "list12 = [6 , 2, 4, 6, 8 , 1, 3, 45 , 56 , 76 ]\n",
        "print(list12[4])\n",
        "print(list12[7])\n"
      ],
      "execution_count": 31,
      "outputs": [
        {
          "output_type": "stream",
          "name": "stdout",
          "text": [
            "8\n",
            "45\n"
          ]
        }
      ]
    },
    {
      "cell_type": "markdown",
      "metadata": {
        "id": "vOy0Zvom74Ig"
      },
      "source": [
        "#### Task-4\n",
        "2 problems!"
      ]
    },
    {
      "cell_type": "code",
      "metadata": {
        "colab": {
          "base_uri": "https://localhost:8080/"
        },
        "id": "fx_9wclH74Ih",
        "outputId": "6a024349-0ebf-42f5-a435-17e7d8633dc9"
      },
      "source": [
        "#Add item 70 after 60 in the following Python List\n",
        "#input\n",
        "l1 = [10, 20, [30, 40, [50, 60], 80], 90, 100]\n",
        "#output [10, 20, [30, 40, [50, 60, 70], 80], 90, 100]\n",
        "l1[2][2].append(70)\n",
        "print(l1)\n"
      ],
      "execution_count": 9,
      "outputs": [
        {
          "output_type": "stream",
          "name": "stdout",
          "text": [
            "[10, 20, [30, 40, [50, 60, 70], 80], 90, 100]\n"
          ]
        }
      ]
    },
    {
      "cell_type": "code",
      "metadata": {
        "colab": {
          "base_uri": "https://localhost:8080/"
        },
        "id": "C0nlVZWR74Ih",
        "outputId": "fe176d31-d4de-4963-ca2d-267875ca1507"
      },
      "source": [
        "#add sublist [7,8] after 6\n",
        "#input\n",
        "l2 = [1,2,[3,4,5,6],9]\n",
        "#output [1,2,[3,4,5,6,[7,8]],9]\n",
        "l2[2].append([7,8])\n",
        "print(l2)"
      ],
      "execution_count": 19,
      "outputs": [
        {
          "output_type": "stream",
          "name": "stdout",
          "text": [
            "[1, 2, [3, 4, 5, 6, [7, 8]], 9]\n"
          ]
        }
      ]
    }
  ]
}