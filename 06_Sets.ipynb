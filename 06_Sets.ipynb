{
  "nbformat": 4,
  "nbformat_minor": 0,
  "metadata": {
    "kernelspec": {
      "display_name": "Python 3",
      "language": "python",
      "name": "python3"
    },
    "language_info": {
      "codemirror_mode": {
        "name": "ipython",
        "version": 3
      },
      "file_extension": ".py",
      "mimetype": "text/x-python",
      "name": "python",
      "nbconvert_exporter": "python",
      "pygments_lexer": "ipython3",
      "version": "3.7.6"
    },
    "colab": {
      "name": "06 - Sets.ipynb",
      "provenance": [],
      "collapsed_sections": [
        "rrlYiXspgW1M",
        "yBDG4HBigW1M"
      ]
    }
  },
  "cells": [
    {
      "cell_type": "markdown",
      "metadata": {
        "id": "8cU92D7fgW02"
      },
      "source": [
        "## Sets\n",
        "In Python sets are written with curly brackets.\n",
        "#### Important properties of sets\n",
        "\n",
        "* Can store different data types\n",
        "* Duplicate values are not allowed\n",
        "* Order is not retained\n",
        "* Indexing and slicing is not possible"
      ]
    },
    {
      "cell_type": "code",
      "metadata": {
        "id": "ff7joZXxgW0-"
      },
      "source": [
        "set1 = {2,3,4.4,True,\"python\"}"
      ],
      "execution_count": null,
      "outputs": []
    },
    {
      "cell_type": "code",
      "metadata": {
        "id": "kXc1PrWAgW1A",
        "outputId": "d4c4b672-4950-4d5e-ca3e-34ec5c80e356"
      },
      "source": [
        "set1"
      ],
      "execution_count": null,
      "outputs": [
        {
          "data": {
            "text/plain": [
              "{2, 3, 4.4, True, 'python'}"
            ]
          },
          "execution_count": 2,
          "metadata": {},
          "output_type": "execute_result"
        }
      ]
    },
    {
      "cell_type": "code",
      "metadata": {
        "id": "bZkdwMoMgW1C"
      },
      "source": [
        "set2 = {1,2,3,4,1,2,1,1,4,3}"
      ],
      "execution_count": null,
      "outputs": []
    },
    {
      "cell_type": "code",
      "metadata": {
        "id": "UgQhhArUgW1D",
        "outputId": "99b665bb-e81b-4f09-9555-90c01a827151"
      },
      "source": [
        "set2"
      ],
      "execution_count": null,
      "outputs": [
        {
          "data": {
            "text/plain": [
              "{1, 2, 3, 4}"
            ]
          },
          "execution_count": 4,
          "metadata": {},
          "output_type": "execute_result"
        }
      ]
    },
    {
      "cell_type": "code",
      "metadata": {
        "id": "IMXDJL6AgW1E"
      },
      "source": [
        "set3 = {\"a\",1,\"b\",2,3}"
      ],
      "execution_count": null,
      "outputs": []
    },
    {
      "cell_type": "code",
      "metadata": {
        "id": "tkcVK0lHgW1F",
        "outputId": "df1d835d-0030-4901-ddca-ecece1283cb2"
      },
      "source": [
        "set3"
      ],
      "execution_count": null,
      "outputs": [
        {
          "data": {
            "text/plain": [
              "{1, 2, 3, 'a', 'b'}"
            ]
          },
          "execution_count": 6,
          "metadata": {},
          "output_type": "execute_result"
        }
      ]
    },
    {
      "cell_type": "code",
      "metadata": {
        "id": "rEkMhdFogW1G",
        "outputId": "ec0f5cae-f6f9-4716-c60c-ac14bd21a034"
      },
      "source": [
        "# check the type using type()\n",
        "type(set2)"
      ],
      "execution_count": null,
      "outputs": [
        {
          "data": {
            "text/plain": [
              "set"
            ]
          },
          "execution_count": 7,
          "metadata": {},
          "output_type": "execute_result"
        }
      ]
    },
    {
      "cell_type": "code",
      "metadata": {
        "id": "Mcuz-6T2gW1H",
        "outputId": "f0bb3095-7f0b-49aa-f03e-bfb04d4d32e3"
      },
      "source": [
        "# to check the length of the sets\n",
        "len(set1)"
      ],
      "execution_count": null,
      "outputs": [
        {
          "data": {
            "text/plain": [
              "5"
            ]
          },
          "execution_count": 8,
          "metadata": {},
          "output_type": "execute_result"
        }
      ]
    },
    {
      "cell_type": "markdown",
      "metadata": {
        "id": "vtrTZxXjgW1I"
      },
      "source": [
        "#### Indexing and Slicing is not allowed in sets"
      ]
    },
    {
      "cell_type": "code",
      "metadata": {
        "id": "Mx4Bqj6PgW1J",
        "outputId": "fbf0c379-cd71-4f94-c7a0-18ffa7cba1e7"
      },
      "source": [
        "# try to index\n",
        "set1[0]"
      ],
      "execution_count": null,
      "outputs": [
        {
          "ename": "TypeError",
          "evalue": "'set' object is not subscriptable",
          "output_type": "error",
          "traceback": [
            "\u001b[1;31m---------------------------------------------------------------------------\u001b[0m",
            "\u001b[1;31mTypeError\u001b[0m                                 Traceback (most recent call last)",
            "\u001b[1;32m<ipython-input-9-8a5ab7ec94af>\u001b[0m in \u001b[0;36m<module>\u001b[1;34m\u001b[0m\n\u001b[0;32m      1\u001b[0m \u001b[1;31m# try to index\u001b[0m\u001b[1;33m\u001b[0m\u001b[1;33m\u001b[0m\u001b[1;33m\u001b[0m\u001b[0m\n\u001b[1;32m----> 2\u001b[1;33m \u001b[0mset1\u001b[0m\u001b[1;33m[\u001b[0m\u001b[1;36m0\u001b[0m\u001b[1;33m]\u001b[0m\u001b[1;33m\u001b[0m\u001b[1;33m\u001b[0m\u001b[0m\n\u001b[0m",
            "\u001b[1;31mTypeError\u001b[0m: 'set' object is not subscriptable"
          ]
        }
      ]
    },
    {
      "cell_type": "markdown",
      "metadata": {
        "id": "9qr_ZHhAgW1K"
      },
      "source": [
        "#### empty set\n"
      ]
    },
    {
      "cell_type": "code",
      "metadata": {
        "id": "6oR9vn1fgW1K",
        "outputId": "1a83f493-8601-4583-c096-b729677ecd07"
      },
      "source": [
        "set4 = {}\n",
        "set4"
      ],
      "execution_count": null,
      "outputs": [
        {
          "data": {
            "text/plain": [
              "{}"
            ]
          },
          "execution_count": 10,
          "metadata": {},
          "output_type": "execute_result"
        }
      ]
    },
    {
      "cell_type": "code",
      "metadata": {
        "id": "ojbVTI3JgW1L",
        "outputId": "46a1fec4-6f7c-41c0-d976-463e298b3e43"
      },
      "source": [
        "type(set4)"
      ],
      "execution_count": null,
      "outputs": [
        {
          "data": {
            "text/plain": [
              "dict"
            ]
          },
          "execution_count": 11,
          "metadata": {},
          "output_type": "execute_result"
        }
      ]
    },
    {
      "cell_type": "code",
      "metadata": {
        "id": "LaB-mPRGgW1L",
        "outputId": "bdd8b1f3-1675-4cee-efb1-8474138a127d"
      },
      "source": [
        "# to create empty sets\n",
        "set4 = set()\n",
        "type(set4)"
      ],
      "execution_count": null,
      "outputs": [
        {
          "data": {
            "text/plain": [
              "set"
            ]
          },
          "execution_count": 12,
          "metadata": {},
          "output_type": "execute_result"
        }
      ]
    },
    {
      "cell_type": "markdown",
      "metadata": {
        "id": "rrlYiXspgW1M"
      },
      "source": [
        "#### Mutablility\n",
        "Once set is created you can add and remove the elements from the set, but you cannot modify the existing elements in a set"
      ]
    },
    {
      "cell_type": "markdown",
      "metadata": {
        "id": "yBDG4HBigW1M"
      },
      "source": [
        "#### In built methods.\n",
        "##### * To add the elements"
      ]
    },
    {
      "cell_type": "markdown",
      "metadata": {
        "id": "a9SXRgS_gW1N"
      },
      "source": [
        "##### 1) add(item)\n",
        "adds single item to the set"
      ]
    },
    {
      "cell_type": "code",
      "metadata": {
        "id": "THIUW-FGgW1N",
        "outputId": "1a62e244-a824-40b9-fb80-dd67ba552ad6"
      },
      "source": [
        "set1 = {1,2,3,4,6}\n",
        "# set1\n",
        "set1.add(6)\n",
        "print(set1)"
      ],
      "execution_count": null,
      "outputs": [
        {
          "name": "stdout",
          "output_type": "stream",
          "text": [
            "{1, 2, 3, 4, 6}\n"
          ]
        }
      ]
    },
    {
      "cell_type": "code",
      "metadata": {
        "id": "-_ReBi95gW1O",
        "outputId": "3a1f674a-ba74-4c72-de92-b54395e3b5a4"
      },
      "source": [
        "set1.add(7)\n",
        "set1"
      ],
      "execution_count": null,
      "outputs": [
        {
          "data": {
            "text/plain": [
              "{1, 2, 3, 4, 6, 7}"
            ]
          },
          "execution_count": 14,
          "metadata": {},
          "output_type": "execute_result"
        }
      ]
    },
    {
      "cell_type": "markdown",
      "metadata": {
        "id": "jDdaSW-EgW1O"
      },
      "source": [
        "##### 2) .update(list)\n",
        "this method is used to add more than one items. All the items should be passed in the form of lists"
      ]
    },
    {
      "cell_type": "code",
      "metadata": {
        "id": "qhgHCZapgW1P"
      },
      "source": [
        "set1 = {1,2,3,4,5}\n",
        "set1.update([6,7,8]) # pass list of values to set1"
      ],
      "execution_count": null,
      "outputs": []
    },
    {
      "cell_type": "code",
      "metadata": {
        "id": "gDSiku_egW1P",
        "outputId": "60b0e424-da65-4587-92ab-4cbcea823f29"
      },
      "source": [
        "set1"
      ],
      "execution_count": null,
      "outputs": [
        {
          "data": {
            "text/plain": [
              "{1, 2, 3, 4, 5, 6, 7, 8}"
            ]
          },
          "execution_count": 16,
          "metadata": {},
          "output_type": "execute_result"
        }
      ]
    },
    {
      "cell_type": "markdown",
      "metadata": {
        "id": "kk6pqngNgW1Q"
      },
      "source": [
        "#### 3) copy()\n",
        "to copy a set"
      ]
    },
    {
      "cell_type": "code",
      "metadata": {
        "id": "RqRfG4MpgW1Q",
        "outputId": "e103d9b2-dc03-4674-a272-ecaabb2f92e3"
      },
      "source": [
        "set2 = set1.copy()\n",
        "set2"
      ],
      "execution_count": null,
      "outputs": [
        {
          "data": {
            "text/plain": [
              "{1, 2, 3, 4, 5, 6, 7, 8}"
            ]
          },
          "execution_count": 17,
          "metadata": {},
          "output_type": "execute_result"
        }
      ]
    },
    {
      "cell_type": "markdown",
      "metadata": {
        "id": "rHRNy-UfgW1R"
      },
      "source": [
        "##### * To remove the items"
      ]
    },
    {
      "cell_type": "markdown",
      "metadata": {
        "id": "C59pW40ygW1R"
      },
      "source": [
        "##### 4) remove(item)\n",
        "removes the specified item from the set. If specified item is not present it will raise error"
      ]
    },
    {
      "cell_type": "code",
      "metadata": {
        "id": "AbNUhoS_gW1R",
        "outputId": "00f4825e-c99a-4c48-e5bb-1c929b1cda71"
      },
      "source": [
        "set1"
      ],
      "execution_count": null,
      "outputs": [
        {
          "data": {
            "text/plain": [
              "{1, 2, 3, 4, 5, 6, 7, 8}"
            ]
          },
          "execution_count": 18,
          "metadata": {},
          "output_type": "execute_result"
        }
      ]
    },
    {
      "cell_type": "code",
      "metadata": {
        "id": "FYmHCCiTgW1R",
        "outputId": "cd6b763e-f676-4fa6-ad4f-b85bc5054819"
      },
      "source": [
        "set1.remove(1)\n",
        "set1"
      ],
      "execution_count": null,
      "outputs": [
        {
          "data": {
            "text/plain": [
              "{2, 3, 4, 5, 6, 7, 8}"
            ]
          },
          "execution_count": 19,
          "metadata": {},
          "output_type": "execute_result"
        }
      ]
    },
    {
      "cell_type": "code",
      "metadata": {
        "id": "zi_jzZU9gW1S",
        "outputId": "3cd546d6-e66f-4eef-9a1a-7d2e8d4c3588"
      },
      "source": [
        "set1.remove(2)\n",
        "set1"
      ],
      "execution_count": null,
      "outputs": [
        {
          "data": {
            "text/plain": [
              "{3, 4, 5, 6, 7, 8}"
            ]
          },
          "execution_count": 20,
          "metadata": {},
          "output_type": "execute_result"
        }
      ]
    },
    {
      "cell_type": "code",
      "metadata": {
        "id": "BsDRLE_WgW1S",
        "outputId": "986e3435-4b89-45d2-d596-5afff1cd561c"
      },
      "source": [
        "#Gives error because 2 is not present\n",
        "set1.remove(2)\n",
        "set1"
      ],
      "execution_count": null,
      "outputs": [
        {
          "ename": "KeyError",
          "evalue": "2",
          "output_type": "error",
          "traceback": [
            "\u001b[1;31m---------------------------------------------------------------------------\u001b[0m",
            "\u001b[1;31mKeyError\u001b[0m                                  Traceback (most recent call last)",
            "\u001b[1;32m<ipython-input-21-a686c1823738>\u001b[0m in \u001b[0;36m<module>\u001b[1;34m\u001b[0m\n\u001b[0;32m      1\u001b[0m \u001b[1;31m#Gives error because 2 is not present\u001b[0m\u001b[1;33m\u001b[0m\u001b[1;33m\u001b[0m\u001b[1;33m\u001b[0m\u001b[0m\n\u001b[1;32m----> 2\u001b[1;33m \u001b[0mset1\u001b[0m\u001b[1;33m.\u001b[0m\u001b[0mremove\u001b[0m\u001b[1;33m(\u001b[0m\u001b[1;36m2\u001b[0m\u001b[1;33m)\u001b[0m\u001b[1;33m\u001b[0m\u001b[1;33m\u001b[0m\u001b[0m\n\u001b[0m\u001b[0;32m      3\u001b[0m \u001b[0mset1\u001b[0m\u001b[1;33m\u001b[0m\u001b[1;33m\u001b[0m\u001b[0m\n",
            "\u001b[1;31mKeyError\u001b[0m: 2"
          ]
        }
      ]
    },
    {
      "cell_type": "markdown",
      "metadata": {
        "id": "qhcK8LTBgW1S"
      },
      "source": [
        "##### 5) discard(item)\n",
        "removes the specified item from the set.But if the item is not present then it will not raise error"
      ]
    },
    {
      "cell_type": "code",
      "metadata": {
        "id": "HX3CWRnAgW1S",
        "outputId": "63c34806-3218-418c-b242-fe77dcbecdd2"
      },
      "source": [
        "set1 = {1,2,3,4,5,6}\n",
        "set1"
      ],
      "execution_count": null,
      "outputs": [
        {
          "data": {
            "text/plain": [
              "{1, 2, 3, 4, 5, 6}"
            ]
          },
          "execution_count": 22,
          "metadata": {},
          "output_type": "execute_result"
        }
      ]
    },
    {
      "cell_type": "code",
      "metadata": {
        "id": "bvXwxnxOgW1T",
        "outputId": "1d800c94-d22e-4e7d-8591-38f569a4a689"
      },
      "source": [
        "set1.discard(1)\n",
        "set1"
      ],
      "execution_count": null,
      "outputs": [
        {
          "data": {
            "text/plain": [
              "{2, 3, 4, 5, 6}"
            ]
          },
          "execution_count": 23,
          "metadata": {},
          "output_type": "execute_result"
        }
      ]
    },
    {
      "cell_type": "code",
      "metadata": {
        "id": "f9GO3yz9gW1T",
        "outputId": "8a8efe36-b04a-4a44-e5ad-39c606de9fde"
      },
      "source": [
        "set1.discard(2)\n",
        "set1"
      ],
      "execution_count": null,
      "outputs": [
        {
          "data": {
            "text/plain": [
              "{3, 4, 5, 6}"
            ]
          },
          "execution_count": 24,
          "metadata": {},
          "output_type": "execute_result"
        }
      ]
    },
    {
      "cell_type": "code",
      "metadata": {
        "id": "GyrkUUSXgW1T",
        "outputId": "d1d7f999-b682-4c4f-d34c-c4a647f18252"
      },
      "source": [
        "# will not give the error if 2 is not there\n",
        "set1.discard(2)\n",
        "set1"
      ],
      "execution_count": null,
      "outputs": [
        {
          "data": {
            "text/plain": [
              "{3, 4, 5, 6}"
            ]
          },
          "execution_count": 25,
          "metadata": {},
          "output_type": "execute_result"
        }
      ]
    },
    {
      "cell_type": "markdown",
      "metadata": {
        "id": "4KhrZy27gW1T"
      },
      "source": [
        "##### 6) pop()\n",
        "Sets are unordered, so when using the pop() method, you will not know which item that gets removed."
      ]
    },
    {
      "cell_type": "code",
      "metadata": {
        "id": "-s_Y9YetgW1U",
        "outputId": "38aa3edf-4403-4125-dd63-653528b6473c"
      },
      "source": [
        "set1 = {\"a\",1,\"B\",2,3,\"c\",4}\n",
        "set1.pop()"
      ],
      "execution_count": null,
      "outputs": [
        {
          "data": {
            "text/plain": [
              "1"
            ]
          },
          "execution_count": 26,
          "metadata": {},
          "output_type": "execute_result"
        }
      ]
    },
    {
      "cell_type": "code",
      "metadata": {
        "id": "IHMM_qV5gW1U",
        "outputId": "bcd58f51-ac4c-4619-af2f-c2775c7a574b"
      },
      "source": [
        "set1.pop()"
      ],
      "execution_count": null,
      "outputs": [
        {
          "data": {
            "text/plain": [
              "2"
            ]
          },
          "execution_count": 27,
          "metadata": {},
          "output_type": "execute_result"
        }
      ]
    },
    {
      "cell_type": "markdown",
      "metadata": {
        "id": "p2StDcw5gW1U"
      },
      "source": [
        "##### 7) clear()\n",
        "empties the set"
      ]
    },
    {
      "cell_type": "code",
      "metadata": {
        "id": "8JWQqkIogW1V",
        "outputId": "435c714f-15df-4bd1-c88d-26b55dfbd19a"
      },
      "source": [
        "set1"
      ],
      "execution_count": null,
      "outputs": [
        {
          "data": {
            "text/plain": [
              "{3, 4, 'B', 'a', 'c'}"
            ]
          },
          "execution_count": 28,
          "metadata": {},
          "output_type": "execute_result"
        }
      ]
    },
    {
      "cell_type": "code",
      "metadata": {
        "id": "iZxplGofgW1V",
        "outputId": "42c6e944-9ea6-46fa-cad2-22e38e487bec"
      },
      "source": [
        "set1.clear()\n",
        "set1"
      ],
      "execution_count": null,
      "outputs": [
        {
          "data": {
            "text/plain": [
              "set()"
            ]
          },
          "execution_count": 29,
          "metadata": {},
          "output_type": "execute_result"
        }
      ]
    },
    {
      "cell_type": "markdown",
      "metadata": {
        "id": "inslhdu6gW1W"
      },
      "source": [
        "##### * Other inbuilt methods"
      ]
    },
    {
      "cell_type": "markdown",
      "metadata": {
        "id": "dAQjTxc9gW1W"
      },
      "source": [
        "##### 8) union()\n",
        "\n",
        "returns a new set with all the elements from set1 and set2"
      ]
    },
    {
      "cell_type": "code",
      "metadata": {
        "id": "RyBh6xghgW1W",
        "outputId": "ae0d0b66-3522-4ec0-b7c0-50f34219c0da"
      },
      "source": [
        "set1 = {1,2,3,4,5}\n",
        "set2 = {4,5,6,7,8}\n",
        "print(set1)\n",
        "print(set2)"
      ],
      "execution_count": null,
      "outputs": [
        {
          "name": "stdout",
          "output_type": "stream",
          "text": [
            "{1, 2, 3, 4, 5}\n",
            "{4, 5, 6, 7, 8}\n"
          ]
        }
      ]
    },
    {
      "cell_type": "code",
      "metadata": {
        "id": "1MBO34JTgW1W",
        "outputId": "2af7eed3-92fb-42a4-cc98-1f86f55b7f82"
      },
      "source": [
        "set3 = set1.union(set2)\n",
        "set3"
      ],
      "execution_count": null,
      "outputs": [
        {
          "data": {
            "text/plain": [
              "{1, 2, 3, 4, 5, 6, 7, 8}"
            ]
          },
          "execution_count": 31,
          "metadata": {},
          "output_type": "execute_result"
        }
      ]
    },
    {
      "cell_type": "markdown",
      "metadata": {
        "id": "_uD0TAwOgW1W"
      },
      "source": [
        "##### 9) intersection()\n",
        "returns the common element from both the sets"
      ]
    },
    {
      "cell_type": "code",
      "metadata": {
        "id": "5XKOXrXagW1X",
        "outputId": "a0e27b01-ea73-4e07-f467-a027a8cdfce8"
      },
      "source": [
        "set1"
      ],
      "execution_count": null,
      "outputs": [
        {
          "data": {
            "text/plain": [
              "{1, 2, 3, 4, 5}"
            ]
          },
          "execution_count": 32,
          "metadata": {},
          "output_type": "execute_result"
        }
      ]
    },
    {
      "cell_type": "code",
      "metadata": {
        "id": "wH7HquPpgW1X",
        "outputId": "437c84dd-ddf3-4405-a3a4-b10cea4b8287"
      },
      "source": [
        "set2"
      ],
      "execution_count": null,
      "outputs": [
        {
          "data": {
            "text/plain": [
              "{4, 5, 6, 7, 8}"
            ]
          },
          "execution_count": 33,
          "metadata": {},
          "output_type": "execute_result"
        }
      ]
    },
    {
      "cell_type": "code",
      "metadata": {
        "id": "diBgsJ1EgW1X",
        "outputId": "8288e0b5-233d-45ac-c304-2428f5a460d5"
      },
      "source": [
        "set3 = set1.intersection(set2)\n",
        "set3"
      ],
      "execution_count": null,
      "outputs": [
        {
          "data": {
            "text/plain": [
              "{4, 5}"
            ]
          },
          "execution_count": 34,
          "metadata": {},
          "output_type": "execute_result"
        }
      ]
    },
    {
      "cell_type": "code",
      "metadata": {
        "id": "CojrDpzDgW1X"
      },
      "source": [
        ""
      ],
      "execution_count": null,
      "outputs": []
    },
    {
      "cell_type": "markdown",
      "metadata": {
        "id": "776Pnh4ggW1X"
      },
      "source": [
        "### Task7 - go through other inbuilt methods like\n",
        "1) difference()\n",
        "2) symmetric_difference()"
      ]
    },
    {
      "cell_type": "code",
      "metadata": {
        "colab": {
          "base_uri": "https://localhost:8080/"
        },
        "id": "ir9ovwrOharD",
        "outputId": "c59329cd-86cd-486e-ea4a-dba673be987a"
      },
      "source": [
        "#1) difference() \n",
        "x = {\"alan\", \"ram\", \"raju\"}\n",
        "y = {\"google\", \"microsoft\", \"alan\"}\n",
        "\n",
        "z = x.difference(y)\n",
        "\n",
        "print(z)"
      ],
      "execution_count": 5,
      "outputs": [
        {
          "output_type": "stream",
          "name": "stdout",
          "text": [
            "{'raju', 'ram'}\n"
          ]
        }
      ]
    },
    {
      "cell_type": "code",
      "metadata": {
        "colab": {
          "base_uri": "https://localhost:8080/"
        },
        "id": "VK9Q7c1MjCiS",
        "outputId": "a8f31275-124d-4787-c64b-98c50b8e9c78"
      },
      "source": [
        "#2) symmetric_difference()\n",
        "x.symmetric_difference(y)"
      ],
      "execution_count": 7,
      "outputs": [
        {
          "output_type": "execute_result",
          "data": {
            "text/plain": [
              "{'google', 'microsoft', 'raju', 'ram'}"
            ]
          },
          "metadata": {},
          "execution_count": 7
        }
      ]
    },
    {
      "cell_type": "markdown",
      "metadata": {
        "id": "SHmoV0K3gW1Y"
      },
      "source": [
        "### Task8 - Make a table of all the In-built data structures and Point out the differences one by one"
      ]
    },
    {
      "cell_type": "markdown",
      "metadata": {
        "id": "8u1lpQQJp4qy"
      },
      "source": [
        "![data1.PNG](data:image/png;base64,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)"
      ]
    }
  ]
}