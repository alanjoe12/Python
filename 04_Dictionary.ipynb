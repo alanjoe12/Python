{
  "nbformat": 4,
  "nbformat_minor": 0,
  "metadata": {
    "kernelspec": {
      "display_name": "Python 3",
      "language": "python",
      "name": "python3"
    },
    "language_info": {
      "codemirror_mode": {
        "name": "ipython",
        "version": 3
      },
      "file_extension": ".py",
      "mimetype": "text/x-python",
      "name": "python",
      "nbconvert_exporter": "python",
      "pygments_lexer": "ipython3",
      "version": "3.8.3"
    },
    "colab": {
      "name": "04 - Dictionary.ipynb",
      "provenance": []
    }
  },
  "cells": [
    {
      "cell_type": "markdown",
      "metadata": {
        "id": "dvzGAQu6QcG_"
      },
      "source": [
        "## Dictionaries\n",
        "In Python dictionaries are written with curly brackets and they have keys and values seperated by commas.\n",
        "\n",
        "#### Properties\n",
        "* Can store different data types\n",
        "* Order doesnt matter here\n",
        "* Keys should be unique\n",
        "* Mutable"
      ]
    },
    {
      "cell_type": "code",
      "metadata": {
        "id": "G0duMHn5QcHG",
        "outputId": "a6291c73-5547-41d3-bfda-8508c188ab96"
      },
      "source": [
        "# Example\n",
        "dict1 = {\n",
        "    \"Brand\":\"Bajaj\",\n",
        "    \"model\":\"Pulsar\",\n",
        "    \"year\":2015,\n",
        "    \"cost\":85000\n",
        "}\n",
        "dict1\n",
        "type(dict1)"
      ],
      "execution_count": null,
      "outputs": [
        {
          "data": {
            "text/plain": [
              "dict"
            ]
          },
          "execution_count": 1,
          "metadata": {},
          "output_type": "execute_result"
        }
      ]
    },
    {
      "cell_type": "code",
      "metadata": {
        "id": "oI-LJ4h4QcHI",
        "outputId": "818143f1-22a4-4232-c551-4876a92f699d"
      },
      "source": [
        "# Dictionary Length\n",
        "len(dict1)"
      ],
      "execution_count": null,
      "outputs": [
        {
          "data": {
            "text/plain": [
              "4"
            ]
          },
          "execution_count": 2,
          "metadata": {},
          "output_type": "execute_result"
        }
      ]
    },
    {
      "cell_type": "markdown",
      "metadata": {
        "id": "5BzmCqMeQcHJ"
      },
      "source": [
        "#### Accessing Items"
      ]
    },
    {
      "cell_type": "code",
      "metadata": {
        "id": "8YZlpRPOQcHK",
        "outputId": "28a7b502-4f41-4bae-98aa-2ad8dd66466d"
      },
      "source": [
        "# 1)\n",
        "x = dict1[\"model\"]\n",
        "x"
      ],
      "execution_count": null,
      "outputs": [
        {
          "data": {
            "text/plain": [
              "'Pulsar'"
            ]
          },
          "execution_count": 3,
          "metadata": {},
          "output_type": "execute_result"
        }
      ]
    },
    {
      "cell_type": "code",
      "metadata": {
        "id": "ZxDe4-ZNQcHK",
        "outputId": "97d38322-fb6f-4c31-c61f-15a5e8fd289f"
      },
      "source": [
        "# 2) get(keyname)\n",
        "x = dict1.get(\"model\")\n",
        "x"
      ],
      "execution_count": null,
      "outputs": [
        {
          "data": {
            "text/plain": [
              "'Pulsar'"
            ]
          },
          "execution_count": 4,
          "metadata": {},
          "output_type": "execute_result"
        }
      ]
    },
    {
      "cell_type": "markdown",
      "metadata": {
        "id": "DIjVUClyQcHL"
      },
      "source": [
        "#### Change/update Values"
      ]
    },
    {
      "cell_type": "code",
      "metadata": {
        "id": "tMMYAWshQcHM",
        "outputId": "fcaa1184-a31d-4355-c4fb-7808ceb44656"
      },
      "source": [
        "#update the year\n",
        "dict1[\"year\"] = 2018\n",
        "dict1"
      ],
      "execution_count": null,
      "outputs": [
        {
          "data": {
            "text/plain": [
              "{'Brand': 'Bajaj', 'model': 'Pulsar', 'year': 2018, 'cost': 85000}"
            ]
          },
          "execution_count": 5,
          "metadata": {},
          "output_type": "execute_result"
        }
      ]
    },
    {
      "cell_type": "code",
      "metadata": {
        "id": "CQ2Yb-ojQcHN",
        "outputId": "fcf0722b-1604-4895-82f9-f474cd9ef91d"
      },
      "source": [
        "# keys() method to get the keys \n",
        "keys = list(dict1.keys())\n",
        "print(keys)"
      ],
      "execution_count": null,
      "outputs": [
        {
          "name": "stdout",
          "output_type": "stream",
          "text": [
            "['Brand', 'model', 'year', 'cost']\n"
          ]
        }
      ]
    },
    {
      "cell_type": "code",
      "metadata": {
        "id": "3gRVxSjRQcHO",
        "outputId": "c23f00a9-3e7d-4d2c-b2c3-39131907386f"
      },
      "source": [
        "# values() method to get the values\n",
        "vals = list(dict1.values())\n",
        "print(vals)"
      ],
      "execution_count": null,
      "outputs": [
        {
          "name": "stdout",
          "output_type": "stream",
          "text": [
            "['Bajaj', 'Pulsar', 2018, 85000]\n"
          ]
        }
      ]
    },
    {
      "cell_type": "code",
      "metadata": {
        "id": "52Bif9iXQcHP",
        "outputId": "1034d861-9f29-4e25-8a09-9cc901bbcaca"
      },
      "source": [
        "# items() method to get both keys and values\n",
        "items = list(dict1.items())\n",
        "items"
      ],
      "execution_count": null,
      "outputs": [
        {
          "data": {
            "text/plain": [
              "[('Brand', 'Bajaj'), ('model', 'Pulsar'), ('year', 2018), ('cost', 85000)]"
            ]
          },
          "execution_count": 8,
          "metadata": {},
          "output_type": "execute_result"
        }
      ]
    },
    {
      "cell_type": "markdown",
      "metadata": {
        "id": "GrWPykTUQcHP"
      },
      "source": [
        "#### Adding items to an existing dictionary"
      ]
    },
    {
      "cell_type": "code",
      "metadata": {
        "id": "q-nkuYJ0QcHQ",
        "outputId": "ec113034-4a29-48a5-a0c8-ed5cc058b674"
      },
      "source": [
        "# add color of the bike\n",
        "dict1[\"color\"] = \"Black\"\n",
        "dict1"
      ],
      "execution_count": null,
      "outputs": [
        {
          "data": {
            "text/plain": [
              "{'Brand': 'Bajaj',\n",
              " 'model': 'Pulsar',\n",
              " 'year': 2018,\n",
              " 'cost': 85000,\n",
              " 'color': 'Black'}"
            ]
          },
          "execution_count": 9,
          "metadata": {},
          "output_type": "execute_result"
        }
      ]
    },
    {
      "cell_type": "code",
      "metadata": {
        "id": "rE7y6Z2QQcHQ",
        "outputId": "95cbfa16-1f67-433e-9c65-cbed8b710c13"
      },
      "source": [
        "# add tyreType\n",
        "dict1['tyreType'] = 'Tubeless'\n",
        "dict1"
      ],
      "execution_count": null,
      "outputs": [
        {
          "data": {
            "text/plain": [
              "{'Brand': 'Bajaj',\n",
              " 'model': 'Pulsar',\n",
              " 'year': 2018,\n",
              " 'cost': 85000,\n",
              " 'color': 'Black',\n",
              " 'tyreType': 'Tubeless'}"
            ]
          },
          "execution_count": 10,
          "metadata": {},
          "output_type": "execute_result"
        }
      ]
    },
    {
      "cell_type": "markdown",
      "metadata": {
        "id": "UCShgsA7QcHR"
      },
      "source": [
        "#### Removing items"
      ]
    },
    {
      "cell_type": "code",
      "metadata": {
        "id": "cgFRlK6vQcHR",
        "outputId": "83c8e894-68cd-46e9-e476-0a25378f87cb"
      },
      "source": [
        "# 1) pop(key)\n",
        "rem = dict1.pop('model')\n",
        "print(rem)\n",
        "print(dict1)"
      ],
      "execution_count": null,
      "outputs": [
        {
          "name": "stdout",
          "output_type": "stream",
          "text": [
            "Pulsar\n",
            "{'Brand': 'Bajaj', 'year': 2018, 'cost': 85000, 'color': 'Black', 'tyreType': 'Tubeless'}\n"
          ]
        }
      ]
    },
    {
      "cell_type": "code",
      "metadata": {
        "id": "HghHSFZMQcHS",
        "outputId": "b375c7af-decb-4c63-848b-8367d146c17e"
      },
      "source": [
        "# adding again\n",
        "dict1['model'] = 'Pulsar'\n",
        "dict1"
      ],
      "execution_count": null,
      "outputs": [
        {
          "data": {
            "text/plain": [
              "{'Brand': 'Bajaj',\n",
              " 'year': 2018,\n",
              " 'cost': 85000,\n",
              " 'color': 'Black',\n",
              " 'tyreType': 'Tubeless',\n",
              " 'model': 'Pulsar'}"
            ]
          },
          "execution_count": 12,
          "metadata": {},
          "output_type": "execute_result"
        }
      ]
    },
    {
      "cell_type": "code",
      "metadata": {
        "id": "19nBR7IJQcHS",
        "outputId": "af94f3eb-f69f-410b-8be2-282774b93f54"
      },
      "source": [
        "# 2) popitem() removes the last inserted item\n",
        "print(dict1)\n",
        "dict1.popitem()\n",
        "print(dict1)"
      ],
      "execution_count": null,
      "outputs": [
        {
          "name": "stdout",
          "output_type": "stream",
          "text": [
            "{'Brand': 'Bajaj', 'year': 2018, 'cost': 85000, 'color': 'Black', 'tyreType': 'Tubeless', 'model': 'Pulsar'}\n",
            "{'Brand': 'Bajaj', 'year': 2018, 'cost': 85000, 'color': 'Black', 'tyreType': 'Tubeless'}\n"
          ]
        }
      ]
    },
    {
      "cell_type": "code",
      "metadata": {
        "id": "G1hKNk2aQcHS"
      },
      "source": [
        "# 3) del keyword\n",
        "del dict1['year']"
      ],
      "execution_count": null,
      "outputs": []
    },
    {
      "cell_type": "code",
      "metadata": {
        "id": "1jMpcQtBQcHT",
        "outputId": "cdc1a52c-d402-4291-efbb-1f1bff4a84e4"
      },
      "source": [
        "dict1"
      ],
      "execution_count": null,
      "outputs": [
        {
          "data": {
            "text/plain": [
              "{'Brand': 'Bajaj', 'cost': 85000, 'color': 'Black', 'tyreType': 'Tubeless'}"
            ]
          },
          "execution_count": 15,
          "metadata": {},
          "output_type": "execute_result"
        }
      ]
    },
    {
      "cell_type": "code",
      "metadata": {
        "id": "_YuG63jjQcHT"
      },
      "source": [
        "# 4) clear() method\n",
        "dict1.clear()"
      ],
      "execution_count": null,
      "outputs": []
    },
    {
      "cell_type": "code",
      "metadata": {
        "id": "kreVK16TQcHT",
        "outputId": "9d00d239-cce5-4103-fa27-f728dc036c6a"
      },
      "source": [
        "dict1"
      ],
      "execution_count": null,
      "outputs": [
        {
          "data": {
            "text/plain": [
              "{}"
            ]
          },
          "execution_count": 17,
          "metadata": {},
          "output_type": "execute_result"
        }
      ]
    },
    {
      "cell_type": "markdown",
      "metadata": {
        "id": "1kjxya8JQcHU"
      },
      "source": [
        "#### Copy a dictionary"
      ]
    },
    {
      "cell_type": "code",
      "metadata": {
        "id": "2p-nF5dlQcHU",
        "outputId": "518be4d6-22f8-4943-e520-648479660147"
      },
      "source": [
        "# 1) copy() method\n",
        "dict1 = {\n",
        "  \"brand\": \"Bajaj\",\n",
        "  \"model\": \"Pulsar\",\n",
        "  \"year\": 2015,\n",
        "  \"cost\": 85000\n",
        "}\n",
        "mydict = dict1.copy()\n",
        "print(mydict)"
      ],
      "execution_count": null,
      "outputs": [
        {
          "name": "stdout",
          "output_type": "stream",
          "text": [
            "{'brand': 'Bajaj', 'model': 'Pulsar', 'year': 2015, 'cost': 85000}\n"
          ]
        }
      ]
    },
    {
      "cell_type": "markdown",
      "metadata": {
        "id": "BZI4Bt40QcHU"
      },
      "source": [
        "#### Nested Dictionaries"
      ]
    },
    {
      "cell_type": "code",
      "metadata": {
        "id": "1eJtAeOWQcHU"
      },
      "source": [
        "child1 = {\n",
        "  \"name\" : \"John\",\n",
        "  \"year\" : 1995\n",
        "}\n",
        "child2 = {\n",
        "  \"name\" : \"Sammy\",\n",
        "  \"year\" : 2001\n",
        "}\n",
        "\n",
        "\n",
        "myfamily = {\n",
        "  \"child1\" : child1,\n",
        "  \"child2\" : child2\n",
        "}"
      ],
      "execution_count": null,
      "outputs": []
    },
    {
      "cell_type": "code",
      "metadata": {
        "id": "azGaw_yeQcHV",
        "outputId": "94915e21-470a-4c41-dbc8-3a96a1211ecf"
      },
      "source": [
        "myfamily"
      ],
      "execution_count": null,
      "outputs": [
        {
          "data": {
            "text/plain": [
              "{'child1': {'name': 'John', 'year': 1995},\n",
              " 'child2': {'name': 'Sammy', 'year': 2001}}"
            ]
          },
          "execution_count": 20,
          "metadata": {},
          "output_type": "execute_result"
        }
      ]
    },
    {
      "cell_type": "code",
      "metadata": {
        "id": "ZsreCfqbQcHV"
      },
      "source": [
        "myfamily = {\n",
        "  \"child1\" : {\n",
        "    \"name\" : \"John\",\n",
        "    \"year\" : 1995\n",
        "  },\n",
        "  \"child2\" : {\n",
        "    \"name\" : \"Sammy\",\n",
        "    \"year\" : 2001\n",
        "  }\n",
        "}"
      ],
      "execution_count": null,
      "outputs": []
    },
    {
      "cell_type": "code",
      "metadata": {
        "id": "utWM_pE5QcHV",
        "outputId": "3c36c888-c2a3-4b9f-c840-d5461b6f1a3c"
      },
      "source": [
        "myfamily"
      ],
      "execution_count": null,
      "outputs": [
        {
          "data": {
            "text/plain": [
              "{'child1': {'name': 'John', 'year': 1995},\n",
              " 'child2': {'name': 'Sammy', 'year': 2001}}"
            ]
          },
          "execution_count": 22,
          "metadata": {},
          "output_type": "execute_result"
        }
      ]
    },
    {
      "cell_type": "code",
      "metadata": {
        "id": "J_HHqZMVQcHV"
      },
      "source": [
        ""
      ],
      "execution_count": null,
      "outputs": []
    },
    {
      "cell_type": "markdown",
      "metadata": {
        "id": "n2Ac0xRmQcHW"
      },
      "source": [
        "#### Exercises on Dictionaries"
      ]
    },
    {
      "cell_type": "code",
      "metadata": {
        "id": "ikiCldrMQcHW",
        "outputId": "e85581a7-bdbc-45b5-a70a-27669771bcb9"
      },
      "source": [
        "myfamily = {\n",
        "  \"child1\" : {\n",
        "    \"name\" : \"John\",\n",
        "    \"year\" : 1995,\n",
        "    \"hobbies\":[\"Music\",\"Cricket\",\"TV\"]\n",
        "  },\n",
        "  \"child2\" : {\n",
        "    \"name\" : \"Sammy\",\n",
        "    \"year\" : 2001\n",
        "  }\n",
        "}\n",
        "myfamily"
      ],
      "execution_count": null,
      "outputs": [
        {
          "data": {
            "text/plain": [
              "{'child1': {'name': 'John',\n",
              "  'year': 1995,\n",
              "  'hobbies': ['Music', 'Cricket', 'TV']},\n",
              " 'child2': {'name': 'Sammy', 'year': 2001}}"
            ]
          },
          "execution_count": 23,
          "metadata": {},
          "output_type": "execute_result"
        }
      ]
    },
    {
      "cell_type": "code",
      "metadata": {
        "id": "fot4FDKyQcHW",
        "outputId": "5a3bb2b4-b3fd-4bf0-d227-9d9354cc6f31"
      },
      "source": [
        "#accessing \"John\"\n",
        "myfamily[\"child1\"][\"name\"]"
      ],
      "execution_count": null,
      "outputs": [
        {
          "data": {
            "text/plain": [
              "'John'"
            ]
          },
          "execution_count": 24,
          "metadata": {},
          "output_type": "execute_result"
        }
      ]
    },
    {
      "cell_type": "code",
      "metadata": {
        "id": "5Ed4ReJbQcHW",
        "outputId": "061fb629-1341-4823-831d-8509d101b9fc"
      },
      "source": [
        "#accessing 1995\n",
        "myfamily[\"child1\"][\"year\"]"
      ],
      "execution_count": null,
      "outputs": [
        {
          "data": {
            "text/plain": [
              "1995"
            ]
          },
          "execution_count": 25,
          "metadata": {},
          "output_type": "execute_result"
        }
      ]
    },
    {
      "cell_type": "code",
      "metadata": {
        "id": "iQU-Xo8SQcHW",
        "outputId": "5e737e61-26e5-4244-fea9-b39b7ec8bcbe"
      },
      "source": [
        "#accessing \"Sammy\"\n",
        "myfamily[\"child2\"][\"name\"]"
      ],
      "execution_count": null,
      "outputs": [
        {
          "data": {
            "text/plain": [
              "'Sammy'"
            ]
          },
          "execution_count": 26,
          "metadata": {},
          "output_type": "execute_result"
        }
      ]
    },
    {
      "cell_type": "code",
      "metadata": {
        "id": "EtdEqoLaQcHX",
        "outputId": "47b99895-0dde-45f7-96cc-89b72b3ce87a"
      },
      "source": [
        "#accessing 2001\n",
        "myfamily[\"child2\"][\"year\"]"
      ],
      "execution_count": null,
      "outputs": [
        {
          "data": {
            "text/plain": [
              "2001"
            ]
          },
          "execution_count": 27,
          "metadata": {},
          "output_type": "execute_result"
        }
      ]
    },
    {
      "cell_type": "code",
      "metadata": {
        "id": "Sp-hwKn_QcHX",
        "outputId": "08abc968-0a70-4a58-9d9a-89985199f349"
      },
      "source": [
        "myfamily"
      ],
      "execution_count": null,
      "outputs": [
        {
          "data": {
            "text/plain": [
              "{'child1': {'name': 'John',\n",
              "  'year': 1995,\n",
              "  'hobbies': ['Music', 'Cricket', 'TV']},\n",
              " 'child2': {'name': 'Sammy', 'year': 2001}}"
            ]
          },
          "execution_count": 28,
          "metadata": {},
          "output_type": "execute_result"
        }
      ]
    },
    {
      "cell_type": "code",
      "metadata": {
        "id": "EWK9N2k-QcHX",
        "outputId": "0611406a-ccd6-4b3e-e50c-a1c30da22b86"
      },
      "source": [
        "#accessing 'Cricket'\n",
        "myfamily['child1']['hobbies'][1]"
      ],
      "execution_count": null,
      "outputs": [
        {
          "data": {
            "text/plain": [
              "'Cricket'"
            ]
          },
          "execution_count": 29,
          "metadata": {},
          "output_type": "execute_result"
        }
      ]
    },
    {
      "cell_type": "code",
      "metadata": {
        "id": "a06fSWalQcHY",
        "outputId": "29507feb-3de4-49f9-ff2f-211f96826617"
      },
      "source": [
        "#get ['Cricket','TV']\n",
        "myfamily['child1']['hobbies'][1:]"
      ],
      "execution_count": null,
      "outputs": [
        {
          "data": {
            "text/plain": [
              "['Cricket', 'TV']"
            ]
          },
          "execution_count": 30,
          "metadata": {},
          "output_type": "execute_result"
        }
      ]
    },
    {
      "cell_type": "code",
      "metadata": {
        "id": "STUaYIGoQcHY",
        "outputId": "64d192cd-f909-4483-c1eb-c10a42fb6ce2"
      },
      "source": [
        "#get ['Music','TV']\n",
        "myfamily['child1']['hobbies'][::-1]"
      ],
      "execution_count": null,
      "outputs": [
        {
          "data": {
            "text/plain": [
              "['TV', 'Cricket', 'Music']"
            ]
          },
          "execution_count": 31,
          "metadata": {},
          "output_type": "execute_result"
        }
      ]
    },
    {
      "cell_type": "markdown",
      "metadata": {
        "id": "-3PQ0W-LQcHY"
      },
      "source": [
        "### Task-5"
      ]
    },
    {
      "cell_type": "code",
      "metadata": {
        "id": "YuHFky4CQcHY"
      },
      "source": [
        "dict1 = { \n",
        "   \"april_batch\":{ \n",
        "      \"student\":{ \n",
        "         \"name\":\"Mike\",\n",
        "         \"marks\":{ \n",
        "            \"python\":80,\n",
        "            \"maths\":70\n",
        "         }\n",
        "      }\n",
        "   }\n",
        "}"
      ],
      "execution_count": 1,
      "outputs": []
    },
    {
      "cell_type": "code",
      "metadata": {
        "colab": {
          "base_uri": "https://localhost:8080/"
        },
        "id": "PXHwutc6Qqcq",
        "outputId": "7bec396e-a96f-4f58-ad99-c2ca2c2946a1"
      },
      "source": [
        "dict1"
      ],
      "execution_count": 2,
      "outputs": [
        {
          "output_type": "execute_result",
          "data": {
            "text/plain": [
              "{'april_batch': {'student': {'marks': {'maths': 70, 'python': 80},\n",
              "   'name': 'Mike'}}}"
            ]
          },
          "metadata": {},
          "execution_count": 2
        }
      ]
    },
    {
      "cell_type": "markdown",
      "metadata": {
        "id": "MKzgK0puQcHY"
      },
      "source": [
        "From the above dictionary, do the following tasks\n",
        "1. access \"Mike\"\n",
        "2. access 80\n",
        "3. change \"Mike\" to \"Your name\"\n",
        "4. add ML = 80 and DL = 80 inside marks"
      ]
    },
    {
      "cell_type": "code",
      "metadata": {
        "colab": {
          "base_uri": "https://localhost:8080/",
          "height": 35
        },
        "id": "1CfEAzCEQwLx",
        "outputId": "27b812a1-3af8-4224-a97b-f3bf1b135021"
      },
      "source": [
        "#1. access \"Mike\"\n",
        "dict1['april_batch']['student']['name']\n"
      ],
      "execution_count": 3,
      "outputs": [
        {
          "output_type": "execute_result",
          "data": {
            "application/vnd.google.colaboratory.intrinsic+json": {
              "type": "string"
            },
            "text/plain": [
              "'Mike'"
            ]
          },
          "metadata": {},
          "execution_count": 3
        }
      ]
    },
    {
      "cell_type": "code",
      "metadata": {
        "colab": {
          "base_uri": "https://localhost:8080/"
        },
        "id": "vaKVyh5rR2vi",
        "outputId": "ab8955a1-bf94-4ed6-c096-403ea20aa2c2"
      },
      "source": [
        "#2. access 80\n",
        "dict1['april_batch']['student']['marks']['python']"
      ],
      "execution_count": 4,
      "outputs": [
        {
          "output_type": "execute_result",
          "data": {
            "text/plain": [
              "80"
            ]
          },
          "metadata": {},
          "execution_count": 4
        }
      ]
    },
    {
      "cell_type": "code",
      "metadata": {
        "colab": {
          "base_uri": "https://localhost:8080/"
        },
        "id": "VCjvee41S50l",
        "outputId": "a8234e3e-d6d2-4e0c-f800-d0e523b065a3"
      },
      "source": [
        "#3. change \"Mike\" to \"Your name\"\n",
        "dict1['april_batch']['student']['name']= \"Alan\"\n",
        "print(dict1)"
      ],
      "execution_count": 5,
      "outputs": [
        {
          "output_type": "stream",
          "name": "stdout",
          "text": [
            "{'april_batch': {'student': {'name': 'Alan', 'marks': {'python': 80, 'maths': 70}}}}\n"
          ]
        }
      ]
    },
    {
      "cell_type": "code",
      "metadata": {
        "colab": {
          "base_uri": "https://localhost:8080/"
        },
        "id": "6W1jF_XXUAha",
        "outputId": "47b7704e-73da-4d27-8bfa-4b9e9777958e"
      },
      "source": [
        "#4. add ML = 80 and DL = 80 inside marks \n",
        "dict1['april_batch']['student']['marks'].update({'ML': 80, 'DL': 80})\n",
        "\n",
        "print(dict1)"
      ],
      "execution_count": 7,
      "outputs": [
        {
          "output_type": "stream",
          "name": "stdout",
          "text": [
            "{'april_batch': {'student': {'name': 'Alan', 'marks': {'python': 80, 'maths': 70, 'ML': 80, 'DL': 80}}}}\n"
          ]
        }
      ]
    }
  ]
}