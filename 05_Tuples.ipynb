{
  "nbformat": 4,
  "nbformat_minor": 0,
  "metadata": {
    "kernelspec": {
      "display_name": "Python 3",
      "language": "python",
      "name": "python3"
    },
    "language_info": {
      "codemirror_mode": {
        "name": "ipython",
        "version": 3
      },
      "file_extension": ".py",
      "mimetype": "text/x-python",
      "name": "python",
      "nbconvert_exporter": "python",
      "pygments_lexer": "ipython3",
      "version": "3.7.6"
    },
    "colab": {
      "name": "05 - Tuples.ipynb",
      "provenance": [],
      "collapsed_sections": [
        "06C7qDcnu3NH"
      ]
    }
  },
  "cells": [
    {
      "cell_type": "markdown",
      "metadata": {
        "id": "tcq_74VTu3LY"
      },
      "source": [
        "## Tuples\n",
        "In Python Tuples are written with round brackets.\n",
        "#### Important properties of Tuples\n",
        "\n",
        "* Can store different data types\n",
        "* Duplicate values are allowed\n",
        "* Order is retained\n",
        "* Indexing and slicing is possible\n",
        "* Immutable. "
      ]
    },
    {
      "cell_type": "code",
      "metadata": {
        "id": "8cOCPzBYu3Lq"
      },
      "source": [
        "tup1 = (1,2,3,4.4,5.5,True,False,\"Maths\",\"Python\")"
      ],
      "execution_count": null,
      "outputs": []
    },
    {
      "cell_type": "code",
      "metadata": {
        "id": "txFjHEXgu3Lz",
        "outputId": "e956cc6a-5d98-4d58-c770-b9b597b73880"
      },
      "source": [
        "tup1"
      ],
      "execution_count": null,
      "outputs": [
        {
          "data": {
            "text/plain": [
              "(1, 2, 3, 4.4, 5.5, True, False, 'Maths', 'Python')"
            ]
          },
          "execution_count": 2,
          "metadata": {},
          "output_type": "execute_result"
        }
      ]
    },
    {
      "cell_type": "code",
      "metadata": {
        "id": "T_J5G6zKu3L4"
      },
      "source": [
        "tup2 = (1,2,3,4,5,1,1)"
      ],
      "execution_count": null,
      "outputs": []
    },
    {
      "cell_type": "code",
      "metadata": {
        "id": "Zg8fDEjCu3L6",
        "outputId": "b5b1ccd7-d583-48de-8a19-317b317246a7"
      },
      "source": [
        "tup2"
      ],
      "execution_count": null,
      "outputs": [
        {
          "data": {
            "text/plain": [
              "(1, 2, 3, 4, 5, 1, 1)"
            ]
          },
          "execution_count": 4,
          "metadata": {},
          "output_type": "execute_result"
        }
      ]
    },
    {
      "cell_type": "code",
      "metadata": {
        "id": "uowbyOLyu3L-",
        "outputId": "37233306-af97-46e9-dae8-cf709332d368"
      },
      "source": [
        "# check the type using type()\n",
        "type(tup1)"
      ],
      "execution_count": null,
      "outputs": [
        {
          "data": {
            "text/plain": [
              "tuple"
            ]
          },
          "execution_count": 5,
          "metadata": {},
          "output_type": "execute_result"
        }
      ]
    },
    {
      "cell_type": "code",
      "metadata": {
        "id": "sknSeWqMu3MC",
        "outputId": "aa9127d8-c0b4-477c-a313-29e015b17462"
      },
      "source": [
        "# len()\n",
        "len(tup2)"
      ],
      "execution_count": null,
      "outputs": [
        {
          "data": {
            "text/plain": [
              "7"
            ]
          },
          "execution_count": 6,
          "metadata": {},
          "output_type": "execute_result"
        }
      ]
    },
    {
      "cell_type": "markdown",
      "metadata": {
        "id": "gaeygVf8u3ME"
      },
      "source": [
        "#### Create a tuple with one element"
      ]
    },
    {
      "cell_type": "code",
      "metadata": {
        "id": "H4UYI5seu3MI"
      },
      "source": [
        "tup3 = (\"Python\")"
      ],
      "execution_count": null,
      "outputs": []
    },
    {
      "cell_type": "code",
      "metadata": {
        "id": "K1MLn4L5u3ML",
        "outputId": "19382464-fe3c-4a2d-a3ad-da820b2927fe"
      },
      "source": [
        "tup3"
      ],
      "execution_count": null,
      "outputs": [
        {
          "data": {
            "text/plain": [
              "'Python'"
            ]
          },
          "execution_count": 8,
          "metadata": {},
          "output_type": "execute_result"
        }
      ]
    },
    {
      "cell_type": "code",
      "metadata": {
        "id": "URrUo6pHu3MT",
        "outputId": "5a7fdf0a-ff41-4c32-8d44-8cc082050010"
      },
      "source": [
        "# String type\n",
        "type(tup3)"
      ],
      "execution_count": null,
      "outputs": [
        {
          "data": {
            "text/plain": [
              "str"
            ]
          },
          "execution_count": 9,
          "metadata": {},
          "output_type": "execute_result"
        }
      ]
    },
    {
      "cell_type": "code",
      "metadata": {
        "id": "3C_OoZ2Uu3MX"
      },
      "source": [
        "# to create a tuple with one element make use of comma(,) after the value\n",
        "tup3 = (\"python\",)"
      ],
      "execution_count": null,
      "outputs": []
    },
    {
      "cell_type": "code",
      "metadata": {
        "id": "yQysjUeCu3MZ",
        "outputId": "115bc682-9943-4d50-cc37-5674a88f8bf3"
      },
      "source": [
        "tup3"
      ],
      "execution_count": null,
      "outputs": [
        {
          "data": {
            "text/plain": [
              "('python',)"
            ]
          },
          "execution_count": 11,
          "metadata": {},
          "output_type": "execute_result"
        }
      ]
    },
    {
      "cell_type": "code",
      "metadata": {
        "id": "bHmpyaKCu3Mb",
        "outputId": "24002dd2-4914-489d-c0e0-55c6fad457d9"
      },
      "source": [
        "type(tup3)"
      ],
      "execution_count": null,
      "outputs": [
        {
          "data": {
            "text/plain": [
              "tuple"
            ]
          },
          "execution_count": 12,
          "metadata": {},
          "output_type": "execute_result"
        }
      ]
    },
    {
      "cell_type": "code",
      "metadata": {
        "id": "KyDLP-rnu3Mh",
        "outputId": "821fe462-2472-4a57-b63b-137d04b7bf3e"
      },
      "source": [
        "len(tup3)"
      ],
      "execution_count": null,
      "outputs": [
        {
          "data": {
            "text/plain": [
              "1"
            ]
          },
          "execution_count": 13,
          "metadata": {},
          "output_type": "execute_result"
        }
      ]
    },
    {
      "cell_type": "markdown",
      "metadata": {
        "id": "HB3qCpzGu3Mi"
      },
      "source": [
        "#### Indexing\n",
        "Indexing starts from 0(zero). Very much similar to what we have learnt in our previous class"
      ]
    },
    {
      "cell_type": "code",
      "metadata": {
        "id": "xVSZlHI0u3Mj",
        "outputId": "3faf878c-95a9-434e-cd8a-abf913dba069"
      },
      "source": [
        "# to get the first element\n",
        "tup1"
      ],
      "execution_count": null,
      "outputs": [
        {
          "data": {
            "text/plain": [
              "(1, 2, 3, 4.4, 5.5, True, False, 'Maths', 'Python')"
            ]
          },
          "execution_count": 14,
          "metadata": {},
          "output_type": "execute_result"
        }
      ]
    },
    {
      "cell_type": "code",
      "metadata": {
        "id": "VpayZMa3u3Ml",
        "outputId": "81b0bb36-05d5-4999-8a09-16c91b1a480e"
      },
      "source": [
        "tup1[0]"
      ],
      "execution_count": null,
      "outputs": [
        {
          "data": {
            "text/plain": [
              "1"
            ]
          },
          "execution_count": 15,
          "metadata": {},
          "output_type": "execute_result"
        }
      ]
    },
    {
      "cell_type": "code",
      "metadata": {
        "id": "YfOHr3Y5u3Mn",
        "outputId": "02996883-ae64-401f-9df9-35372f7ff2d5"
      },
      "source": [
        "# to get the third element\n",
        "tup1[2]"
      ],
      "execution_count": null,
      "outputs": [
        {
          "data": {
            "text/plain": [
              "3"
            ]
          },
          "execution_count": 16,
          "metadata": {},
          "output_type": "execute_result"
        }
      ]
    },
    {
      "cell_type": "code",
      "metadata": {
        "id": "auYqQqiSu3Mo",
        "outputId": "cd839431-83c7-48e5-a312-2e3e07ae6b09"
      },
      "source": [
        "# to get the last element\n",
        "tup1[-1]"
      ],
      "execution_count": null,
      "outputs": [
        {
          "data": {
            "text/plain": [
              "'Python'"
            ]
          },
          "execution_count": 17,
          "metadata": {},
          "output_type": "execute_result"
        }
      ]
    },
    {
      "cell_type": "markdown",
      "metadata": {
        "id": "Rex4_JvWu3Mq"
      },
      "source": [
        "#### Slicing"
      ]
    },
    {
      "cell_type": "code",
      "metadata": {
        "id": "mv-IHqoSu3Mr"
      },
      "source": [
        "# [start:stop:step]\n",
        "\n",
        "# start = starting position (default value is 0)\n",
        "# stop = end position(exclusive) (default value is end position)\n",
        "# step = step size or increment size (default value is 1)"
      ],
      "execution_count": null,
      "outputs": []
    },
    {
      "cell_type": "code",
      "metadata": {
        "id": "GhS8RvsCu3Ms",
        "outputId": "f4e6d6e9-95c8-40eb-eea6-76a0b109c6e1"
      },
      "source": [
        "# to get first 5 elements \n",
        "tup1[:5]"
      ],
      "execution_count": null,
      "outputs": [
        {
          "data": {
            "text/plain": [
              "(1, 2, 3, 4.4, 5.5)"
            ]
          },
          "execution_count": 19,
          "metadata": {},
          "output_type": "execute_result"
        }
      ]
    },
    {
      "cell_type": "code",
      "metadata": {
        "id": "gV1h6obcu3Mw",
        "outputId": "fc528499-f66b-422d-917f-179e17efe55a"
      },
      "source": [
        "# to get last 5 elements \n",
        "tup1[-5:]"
      ],
      "execution_count": null,
      "outputs": [
        {
          "data": {
            "text/plain": [
              "(5.5, True, False, 'Maths', 'Python')"
            ]
          },
          "execution_count": 20,
          "metadata": {},
          "output_type": "execute_result"
        }
      ]
    },
    {
      "cell_type": "code",
      "metadata": {
        "id": "4WWflZeIu3M1",
        "outputId": "f6c955f6-910d-4918-c60d-b0d785bbb6f9"
      },
      "source": [
        "# to get alternate elements \n",
        "tup1[::2]"
      ],
      "execution_count": null,
      "outputs": [
        {
          "data": {
            "text/plain": [
              "(1, 3, 5.5, False, 'Python')"
            ]
          },
          "execution_count": 21,
          "metadata": {},
          "output_type": "execute_result"
        }
      ]
    },
    {
      "cell_type": "markdown",
      "metadata": {
        "id": "ixqF3twDu3M1"
      },
      "source": [
        "#### Immutable\n",
        "Once the tuple is created, you cannot add,remove or modify the elements"
      ]
    },
    {
      "cell_type": "code",
      "metadata": {
        "id": "aKnYMkipu3M2",
        "outputId": "6bbcf999-32ff-42fa-c8b8-4e01b0719a8f"
      },
      "source": [
        "# try to add values\n",
        "tup1 = (1,2,3,4,5)\n",
        "tup1[5] = 6 # Error"
      ],
      "execution_count": null,
      "outputs": [
        {
          "ename": "TypeError",
          "evalue": "'tuple' object does not support item assignment",
          "output_type": "error",
          "traceback": [
            "\u001b[1;31m---------------------------------------------------------------------------\u001b[0m",
            "\u001b[1;31mTypeError\u001b[0m                                 Traceback (most recent call last)",
            "\u001b[1;32m<ipython-input-22-2776455bf8be>\u001b[0m in \u001b[0;36m<module>\u001b[1;34m\u001b[0m\n\u001b[0;32m      1\u001b[0m \u001b[1;31m# try to add values\u001b[0m\u001b[1;33m\u001b[0m\u001b[1;33m\u001b[0m\u001b[1;33m\u001b[0m\u001b[0m\n\u001b[0;32m      2\u001b[0m \u001b[0mtup1\u001b[0m \u001b[1;33m=\u001b[0m \u001b[1;33m(\u001b[0m\u001b[1;36m1\u001b[0m\u001b[1;33m,\u001b[0m\u001b[1;36m2\u001b[0m\u001b[1;33m,\u001b[0m\u001b[1;36m3\u001b[0m\u001b[1;33m,\u001b[0m\u001b[1;36m4\u001b[0m\u001b[1;33m,\u001b[0m\u001b[1;36m5\u001b[0m\u001b[1;33m)\u001b[0m\u001b[1;33m\u001b[0m\u001b[1;33m\u001b[0m\u001b[0m\n\u001b[1;32m----> 3\u001b[1;33m \u001b[0mtup1\u001b[0m\u001b[1;33m[\u001b[0m\u001b[1;36m5\u001b[0m\u001b[1;33m]\u001b[0m \u001b[1;33m=\u001b[0m \u001b[1;36m6\u001b[0m \u001b[1;31m# Error\u001b[0m\u001b[1;33m\u001b[0m\u001b[1;33m\u001b[0m\u001b[0m\n\u001b[0m",
            "\u001b[1;31mTypeError\u001b[0m: 'tuple' object does not support item assignment"
          ]
        }
      ]
    },
    {
      "cell_type": "code",
      "metadata": {
        "id": "JUZJ1-Lru3M3",
        "outputId": "f39f7ff6-9347-4405-ded4-c406611c1224"
      },
      "source": [
        "# remove \n",
        "tup1.pop()"
      ],
      "execution_count": null,
      "outputs": [
        {
          "ename": "AttributeError",
          "evalue": "'tuple' object has no attribute 'pop'",
          "output_type": "error",
          "traceback": [
            "\u001b[1;31m---------------------------------------------------------------------------\u001b[0m",
            "\u001b[1;31mAttributeError\u001b[0m                            Traceback (most recent call last)",
            "\u001b[1;32m<ipython-input-23-0e90f14e232e>\u001b[0m in \u001b[0;36m<module>\u001b[1;34m\u001b[0m\n\u001b[0;32m      1\u001b[0m \u001b[1;31m# remove\u001b[0m\u001b[1;33m\u001b[0m\u001b[1;33m\u001b[0m\u001b[1;33m\u001b[0m\u001b[0m\n\u001b[1;32m----> 2\u001b[1;33m \u001b[0mtup1\u001b[0m\u001b[1;33m.\u001b[0m\u001b[0mpop\u001b[0m\u001b[1;33m(\u001b[0m\u001b[1;33m)\u001b[0m\u001b[1;33m\u001b[0m\u001b[1;33m\u001b[0m\u001b[0m\n\u001b[0m",
            "\u001b[1;31mAttributeError\u001b[0m: 'tuple' object has no attribute 'pop'"
          ]
        }
      ]
    },
    {
      "cell_type": "code",
      "metadata": {
        "id": "eWfngHLdu3M3",
        "outputId": "4fad1e95-9a96-4c0e-c973-3c92f90d5b06"
      },
      "source": [
        "# modify the values\n",
        "tup1"
      ],
      "execution_count": null,
      "outputs": [
        {
          "data": {
            "text/plain": [
              "(1, 2, 3, 4, 5)"
            ]
          },
          "execution_count": 24,
          "metadata": {},
          "output_type": "execute_result"
        }
      ]
    },
    {
      "cell_type": "code",
      "metadata": {
        "id": "0P1GoQ3Hu3M4",
        "outputId": "a0a843ff-b8d9-411c-f728-45594d934cb4"
      },
      "source": [
        "tup1[0] = 100 #Error"
      ],
      "execution_count": null,
      "outputs": [
        {
          "ename": "TypeError",
          "evalue": "'tuple' object does not support item assignment",
          "output_type": "error",
          "traceback": [
            "\u001b[1;31m---------------------------------------------------------------------------\u001b[0m",
            "\u001b[1;31mTypeError\u001b[0m                                 Traceback (most recent call last)",
            "\u001b[1;32m<ipython-input-25-034a7a67b47e>\u001b[0m in \u001b[0;36m<module>\u001b[1;34m\u001b[0m\n\u001b[1;32m----> 1\u001b[1;33m \u001b[0mtup1\u001b[0m\u001b[1;33m[\u001b[0m\u001b[1;36m0\u001b[0m\u001b[1;33m]\u001b[0m \u001b[1;33m=\u001b[0m \u001b[1;36m100\u001b[0m\u001b[1;33m\u001b[0m\u001b[1;33m\u001b[0m\u001b[0m\n\u001b[0m",
            "\u001b[1;31mTypeError\u001b[0m: 'tuple' object does not support item assignment"
          ]
        }
      ]
    },
    {
      "cell_type": "markdown",
      "metadata": {
        "id": "iLEHQgyku3M5"
      },
      "source": [
        "#### workaround to modify the values"
      ]
    },
    {
      "cell_type": "code",
      "metadata": {
        "id": "iPYv7EvDu3M6",
        "outputId": "cbcf05bc-213d-4b55-dcdd-b34e296e0156"
      },
      "source": [
        "# My original tuple\n",
        "tup1"
      ],
      "execution_count": null,
      "outputs": [
        {
          "data": {
            "text/plain": [
              "(1, 2, 3, 4, 5)"
            ]
          },
          "execution_count": 26,
          "metadata": {},
          "output_type": "execute_result"
        }
      ]
    },
    {
      "cell_type": "code",
      "metadata": {
        "id": "TEaTQnOQu3M7",
        "outputId": "ade87dcd-5043-4edb-cccc-187000e8e5e2"
      },
      "source": [
        "#Convert to list \n",
        "list1 = list(tup1)\n",
        "list1"
      ],
      "execution_count": null,
      "outputs": [
        {
          "data": {
            "text/plain": [
              "[1, 2, 3, 4, 5]"
            ]
          },
          "execution_count": 27,
          "metadata": {},
          "output_type": "execute_result"
        }
      ]
    },
    {
      "cell_type": "code",
      "metadata": {
        "id": "c0nOrNaTu3M9",
        "outputId": "f49d5c0d-e8b7-416f-de66-d72c3031a3bf"
      },
      "source": [
        "#Modify the value\n",
        "list1[0] = 100\n",
        "list1"
      ],
      "execution_count": null,
      "outputs": [
        {
          "data": {
            "text/plain": [
              "[100, 2, 3, 4, 5]"
            ]
          },
          "execution_count": 28,
          "metadata": {},
          "output_type": "execute_result"
        }
      ]
    },
    {
      "cell_type": "code",
      "metadata": {
        "id": "8jRrXq6Mu3M-",
        "outputId": "58fb9686-ed3c-4aad-88bc-b6b0237ed25e"
      },
      "source": [
        "#again convert to tuple\n",
        "tup1 = tuple(list1)\n",
        "tup1"
      ],
      "execution_count": null,
      "outputs": [
        {
          "data": {
            "text/plain": [
              "(100, 2, 3, 4, 5)"
            ]
          },
          "execution_count": 29,
          "metadata": {},
          "output_type": "execute_result"
        }
      ]
    },
    {
      "cell_type": "markdown",
      "metadata": {
        "id": "A_CfeR_Vu3M-"
      },
      "source": [
        "#### To check a perticular value is present "
      ]
    },
    {
      "cell_type": "code",
      "metadata": {
        "id": "A2VmP49Uu3NA",
        "outputId": "e8e4684d-fbf0-4a40-ae07-54d9772eb049"
      },
      "source": [
        "#use 'in' operator\n",
        "#syntax ---> item in object\n",
        "tup1\n",
        "print(100 in tup1)"
      ],
      "execution_count": null,
      "outputs": [
        {
          "name": "stdout",
          "output_type": "stream",
          "text": [
            "True\n"
          ]
        }
      ]
    },
    {
      "cell_type": "code",
      "metadata": {
        "id": "Epc5dpvfu3NG",
        "outputId": "c31d240c-f297-4e61-b638-7f9a46c7bb76"
      },
      "source": [
        "print(200 in tup1)"
      ],
      "execution_count": null,
      "outputs": [
        {
          "name": "stdout",
          "output_type": "stream",
          "text": [
            "False\n"
          ]
        }
      ]
    },
    {
      "cell_type": "markdown",
      "metadata": {
        "id": "06C7qDcnu3NH"
      },
      "source": [
        "#### Joining tuples"
      ]
    },
    {
      "cell_type": "code",
      "metadata": {
        "id": "g-2dSc7Bu3NH",
        "outputId": "48e62fb2-315a-42cb-d588-b77a5858200d"
      },
      "source": [
        "tup1 = (1,2,3,4)\n",
        "tup2 = (\"a\",\"b\",\"C\",\"d\")\n",
        "\n",
        "tup3 = tup1 + tup2\n",
        "tup3"
      ],
      "execution_count": null,
      "outputs": [
        {
          "data": {
            "text/plain": [
              "(1, 2, 3, 4, 'a', 'b', 'C', 'd')"
            ]
          },
          "execution_count": 32,
          "metadata": {},
          "output_type": "execute_result"
        }
      ]
    },
    {
      "cell_type": "markdown",
      "metadata": {
        "id": "4M8vmRMtu3NI"
      },
      "source": [
        "#### some inbuilt methods"
      ]
    },
    {
      "cell_type": "code",
      "metadata": {
        "id": "6gH5TmoWu3NI"
      },
      "source": [
        "# tup\n",
        "tup = (1,2,3,4,1,1,2,1,2,3,6)"
      ],
      "execution_count": null,
      "outputs": []
    },
    {
      "cell_type": "markdown",
      "metadata": {
        "id": "aHbQfMxLu3NJ"
      },
      "source": [
        "##### 1) count(item)\n",
        "Returns the number of times a specified item occurs in a tuple"
      ]
    },
    {
      "cell_type": "code",
      "metadata": {
        "id": "ahsclMCnu3NL",
        "outputId": "3fba5d1f-53a5-42eb-b4eb-0a0eb4895ec8"
      },
      "source": [
        "tup.count(1)"
      ],
      "execution_count": null,
      "outputs": [
        {
          "data": {
            "text/plain": [
              "4"
            ]
          },
          "execution_count": 34,
          "metadata": {},
          "output_type": "execute_result"
        }
      ]
    },
    {
      "cell_type": "code",
      "metadata": {
        "id": "8TkVoa28u3NL",
        "outputId": "258dd12f-a91b-4a4d-c9b6-ebb3685d21c0"
      },
      "source": [
        "tup.count(2)"
      ],
      "execution_count": null,
      "outputs": [
        {
          "data": {
            "text/plain": [
              "3"
            ]
          },
          "execution_count": 35,
          "metadata": {},
          "output_type": "execute_result"
        }
      ]
    },
    {
      "cell_type": "markdown",
      "metadata": {
        "id": "uDLcaLmNu3NN"
      },
      "source": [
        "##### 2) index(item)\n",
        "Returns the first index of specified item.\n",
        "If item is not present it will give error"
      ]
    },
    {
      "cell_type": "code",
      "metadata": {
        "id": "hzDTi78wu3NO",
        "outputId": "255f33c7-13eb-4591-9d19-5f6a4f3d659d"
      },
      "source": [
        "tup.index(3)"
      ],
      "execution_count": null,
      "outputs": [
        {
          "data": {
            "text/plain": [
              "2"
            ]
          },
          "execution_count": 36,
          "metadata": {},
          "output_type": "execute_result"
        }
      ]
    },
    {
      "cell_type": "markdown",
      "metadata": {
        "id": "Kr1exq9Mu3NO"
      },
      "source": [
        "### Task6 -  Add and remove the elements from a tuple. (Refer workaroud to modify the tuples)"
      ]
    },
    {
      "cell_type": "code",
      "metadata": {
        "id": "DjOW8MmMu3NO"
      },
      "source": [
        "tup2 = (1,2,3,4.4,5.5,\"Maths\",\"Python\")\n"
      ],
      "execution_count": 18,
      "outputs": []
    },
    {
      "cell_type": "code",
      "metadata": {
        "colab": {
          "base_uri": "https://localhost:8080/"
        },
        "id": "xl8wkOApv3S3",
        "outputId": "2315ed2b-1abb-4f53-95d2-4f6b51122f2c"
      },
      "source": [
        "tup2"
      ],
      "execution_count": 19,
      "outputs": [
        {
          "output_type": "execute_result",
          "data": {
            "text/plain": [
              "(1, 2, 3, 4.4, 5.5, 'Maths', 'Python')"
            ]
          },
          "metadata": {},
          "execution_count": 19
        }
      ]
    },
    {
      "cell_type": "code",
      "metadata": {
        "colab": {
          "base_uri": "https://localhost:8080/"
        },
        "id": "AeEO-0bCwJSy",
        "outputId": "0e46e01d-b278-4ff5-8a58-29cd4df1a6e7"
      },
      "source": [
        "#adding element\n",
        "#convert tuple to list \n",
        "list2 = list(tup2)\n",
        "print(list2)"
      ],
      "execution_count": 20,
      "outputs": [
        {
          "output_type": "stream",
          "name": "stdout",
          "text": [
            "[1, 2, 3, 4.4, 5.5, 'Maths', 'Python']\n"
          ]
        }
      ]
    },
    {
      "cell_type": "code",
      "metadata": {
        "colab": {
          "base_uri": "https://localhost:8080/"
        },
        "id": "KSriplxawzsu",
        "outputId": "c165618a-5859-4e92-97f9-535e717f6e4a"
      },
      "source": [
        "#adding element\n",
        "list2.append(\"alan\")\n",
        "print(list2)"
      ],
      "execution_count": 21,
      "outputs": [
        {
          "output_type": "stream",
          "name": "stdout",
          "text": [
            "[1, 2, 3, 4.4, 5.5, 'Maths', 'Python', 'alan']\n"
          ]
        }
      ]
    },
    {
      "cell_type": "code",
      "metadata": {
        "colab": {
          "base_uri": "https://localhost:8080/"
        },
        "id": "uwoZB1dXxdrP",
        "outputId": "683740e3-b423-4341-c619-00f82eb717e6"
      },
      "source": [
        "#remove element\n",
        "list2.remove(\"Maths\")\n",
        "print(list2)"
      ],
      "execution_count": 22,
      "outputs": [
        {
          "output_type": "stream",
          "name": "stdout",
          "text": [
            "[1, 2, 3, 4.4, 5.5, 'Python', 'alan']\n"
          ]
        }
      ]
    },
    {
      "cell_type": "code",
      "metadata": {
        "colab": {
          "base_uri": "https://localhost:8080/"
        },
        "id": "ou2uPqz1xztz",
        "outputId": "36dbcb2d-71eb-449b-b81a-151015757eaf"
      },
      "source": [
        "#convert list to tuple\n",
        "tup2 = tuple(list2)\n",
        "tup2"
      ],
      "execution_count": 24,
      "outputs": [
        {
          "output_type": "execute_result",
          "data": {
            "text/plain": [
              "(1, 2, 3, 4.4, 5.5, 'Python', 'alan')"
            ]
          },
          "metadata": {},
          "execution_count": 24
        }
      ]
    }
  ]
}